{
 "cells": [
  {
   "cell_type": "markdown",
   "metadata": {
    "colab_type": "text",
    "id": "view-in-github"
   },
   "source": [
    "<a href=\"https://colab.research.google.com/github/jnramirezg/medio_continuo/blob/main/codigo/04-(2_7)-tan_nor_plano.ipynb\" target=\"_parent\"><img src=\"https://colab.research.google.com/assets/colab-badge.svg\" alt=\"Open In Colab\"/></a>"
   ]
  },
  {
   "cell_type": "markdown",
   "metadata": {
    "id": "2pOZDC-bnLTv"
   },
   "source": [
    "# 04. Esfuerzos normales y tangenciales sobre un plano (sección 2.7)\n",
    "\n",
    "|Quién | Fecha | Qué hizo |\n",
    "| ---  | ---   | ---      |\n",
    "|Michael Heredia Pérez, <mherediap@unal.edu.co> | 2022-07-14 | Conversión de código de MAXIMA a Python|\n",
    "|Michael Heredia Pérez, <mherediap@unal.edu.co> | 2022-09-07 | Mejorando legibilidad|\n",
    "|Juan Nicolás Ramírez, <jnramirezg@unal.edu.co> | 2022-09-08 |  Simplificando programa                |\n"
   ]
  },
  {
   "cell_type": "code",
   "execution_count": 1,
   "metadata": {
    "id": "MyIMIKxnnG0j"
   },
   "outputs": [],
   "source": [
    "import sympy as sp  # Librería para cálculo simbólico."
   ]
  },
  {
   "cell_type": "markdown",
   "metadata": {
    "id": "5Ik7bF5VnsYs"
   },
   "source": [
    "Definimos las variables simbólicas necesarias."
   ]
  },
  {
   "cell_type": "code",
   "execution_count": 2,
   "metadata": {
    "colab": {
     "base_uri": "https://localhost:8080/",
     "height": 38
    },
    "id": "wBkCUDEunnka",
    "outputId": "ae5fa7ae-6272-400a-9525-f9cb956bac8c"
   },
   "outputs": [],
   "source": [
    "sx,     sy,    sz = sp.symbols(\"sigma_x, sigma_y, sigma_z\")\n",
    "txy,   txz,   tyz = sp.symbols(\" tau_xy,  tau_xz,  tau_yz\")\n",
    "alfa, beta, gamma = sp.symbols(\"  alpha,    beta,   gamma\")"
   ]
  },
  {
   "cell_type": "markdown",
   "metadata": {
    "id": "RNSrWyIin2MM"
   },
   "source": [
    "Definimos la matriz de tensiones en coordenadas rectangulares $\\underline{\\underline{\\boldsymbol{\\sigma}}}$:"
   ]
  },
  {
   "cell_type": "markdown",
   "metadata": {},
   "source": [
    "$$\\displaystyle \\underline{\\underline{\\boldsymbol{\\sigma}}} = \\left[\\begin{matrix}\\sigma_{x} & \\tau_{xy} & \\tau_{xz}\\\\\\tau_{xy} & \\sigma_{y} & \\tau_{yz}\\\\\\tau_{xz} & \\tau_{yz} & \\sigma_{z}\\end{matrix}\\right]$$"
   ]
  },
  {
   "cell_type": "markdown",
   "metadata": {},
   "source": [
    "Almacenamos en memoria como ```sigma```:"
   ]
  },
  {
   "cell_type": "code",
   "execution_count": 3,
   "metadata": {
    "colab": {
     "base_uri": "https://localhost:8080/",
     "height": 78
    },
    "id": "DW_E0619n1OI",
    "outputId": "1eb85b13-4257-40fd-f1db-4301ffbbca53"
   },
   "outputs": [],
   "source": [
    "sigma = sp.Matrix([[ sx, txy, txz],\n",
    "                   [txy,  sy, tyz],\n",
    "                   [txz, tyz,  sz]])"
   ]
  },
  {
   "cell_type": "markdown",
   "metadata": {
    "id": "ZjLI-hiHojv7"
   },
   "source": [
    "Definimos el vector columna $\\boldsymbol{\\underline{\\hat{n}}}$, almacenándolo como ```ng```:"
   ]
  },
  {
   "cell_type": "markdown",
   "metadata": {},
   "source": [
    "$$\\displaystyle \\underline{\\boldsymbol{\\hat{n}}} = \\left[\\begin{matrix}\\alpha\\\\\\beta\\\\\\gamma\\end{matrix}\\right]$$"
   ]
  },
  {
   "cell_type": "code",
   "execution_count": 4,
   "metadata": {
    "colab": {
     "base_uri": "https://localhost:8080/",
     "height": 78
    },
    "id": "lvVcnHAuoWP4",
    "outputId": "3a3c838a-0c22-42f1-a2be-1a0ccef4c5ba"
   },
   "outputs": [],
   "source": [
    "ng = sp.Matrix([[alfa],\n",
    "                [beta],\n",
    "                [gamma]])"
   ]
  },
  {
   "cell_type": "markdown",
   "metadata": {
    "id": "tLNdzbgYo-75"
   },
   "source": [
    "Calculamos el vector $\\underline{\\mathbf{q}}$, almacenándolo como ```q```:"
   ]
  },
  {
   "cell_type": "code",
   "execution_count": 5,
   "metadata": {
    "colab": {
     "base_uri": "https://localhost:8080/",
     "height": 78
    },
    "id": "mc6xwpRJo8TW",
    "outputId": "116e4647-add4-4c00-9654-3af44f9b2c92",
    "scrolled": true
   },
   "outputs": [],
   "source": [
    "q = sigma*ng"
   ]
  },
  {
   "cell_type": "markdown",
   "metadata": {},
   "source": [
    "$$\\displaystyle \\underline{\\mathbf{q}} = \\left[\\begin{matrix}\\alpha \\sigma_{x} + \\beta \\tau_{xy} + \\gamma \\tau_{xz}\\\\\\alpha \\tau_{xy} + \\beta \\sigma_{y} + \\gamma \\tau_{yz}\\\\\\alpha \\tau_{xz} + \\beta \\tau_{yz} + \\gamma \\sigma_{z}\\end{matrix}\\right]$$"
   ]
  },
  {
   "cell_type": "markdown",
   "metadata": {
    "id": "PNexUSzwpNoR"
   },
   "source": [
    "Hacemos el producto punto $\\underline{q} . \\underline{\\hat{n}}$  para obtener el escalar $\\sigma_n$:"
   ]
  },
  {
   "cell_type": "code",
   "execution_count": 6,
   "metadata": {
    "colab": {
     "base_uri": "https://localhost:8080/",
     "height": 38
    },
    "id": "KNY9-geapHll",
    "outputId": "2e7fa766-3f1b-4684-ff68-6add1907b096",
    "scrolled": true
   },
   "outputs": [
    {
     "data": {
      "text/latex": [
       "$\\displaystyle \\alpha \\left(\\alpha \\sigma_{x} + \\beta \\tau_{xy} + \\gamma \\tau_{xz}\\right) + \\beta \\left(\\alpha \\tau_{xy} + \\beta \\sigma_{y} + \\gamma \\tau_{yz}\\right) + \\gamma \\left(\\alpha \\tau_{xz} + \\beta \\tau_{yz} + \\gamma \\sigma_{z}\\right)$"
      ],
      "text/plain": [
       "alpha*(alpha*sigma_x + beta*tau_xy + gamma*tau_xz) + beta*(alpha*tau_xy + beta*sigma_y + gamma*tau_yz) + gamma*(alpha*tau_xz + beta*tau_yz + gamma*sigma_z)"
      ]
     },
     "execution_count": 6,
     "metadata": {},
     "output_type": "execute_result"
    }
   ],
   "source": [
    "q.dot(ng)  # .dot es una función de sympy."
   ]
  },
  {
   "cell_type": "markdown",
   "metadata": {},
   "source": [
    "Almacenamos en memoria como ```sigma_n``` y expandimos la expresión:"
   ]
  },
  {
   "cell_type": "code",
   "execution_count": 7,
   "metadata": {},
   "outputs": [],
   "source": [
    "sigma_n = sp.expand(q.dot(ng))"
   ]
  },
  {
   "cell_type": "markdown",
   "metadata": {},
   "source": [
    "$\\displaystyle \\sigma_n = \\alpha^{2} \\sigma_{x} + 2 \\alpha \\beta \\tau_{xy} + 2 \\alpha \\gamma \\tau_{xz} + \\beta^{2} \\sigma_{y} + 2 \\beta \\gamma \\tau_{yz} + \\gamma^{2} \\sigma_{z}$"
   ]
  },
  {
   "cell_type": "markdown",
   "metadata": {
    "id": "DVUFj0DVqTlX"
   },
   "source": [
    "Finalmente, calculamos la magnitud del esfuerzo cortante sabiendo que: \n",
    "$|\\tau_n| := \\left \\| \\boldsymbol{\\sigma_s} \\right \\|$\n",
    "\n",
    "Y por pitágoras: $ \\left \\| \\underline{q} \\right \\| ^2 = \\sigma_n^2 + \\tau_n^2$\n",
    "\n",
    "pero $\\left \\| \\underline{q} \\right \\| ^2 =\\underline{q}.\\underline{q}$,\n",
    "\n",
    "entonces:  $\\tau_n^2 = \\underline{q}.\\underline{q} - \\sigma_n^2$"
   ]
  },
  {
   "cell_type": "code",
   "execution_count": 8,
   "metadata": {
    "colab": {
     "base_uri": "https://localhost:8080/",
     "height": 41
    },
    "id": "ea9LeRLzp5M0",
    "outputId": "a4658c07-d55e-4dcf-d4a4-446ade1c0cf1"
   },
   "outputs": [],
   "source": [
    "taun2 = q.dot(q) - sigma_n**2  "
   ]
  },
  {
   "cell_type": "markdown",
   "metadata": {},
   "source": [
    "$\\displaystyle \\tau_n^2 = \\left(\\alpha \\sigma_{x} + \\beta \\tau_{xy} + \\gamma \\tau_{xz}\\right)^{2} + \\left(\\alpha \\tau_{xy} + \\beta \\sigma_{y} + \\gamma \\tau_{yz}\\right)^{2} + \\left(\\alpha \\tau_{xz} + \\beta \\tau_{yz} + \\gamma \\sigma_{z}\\right)^{2} - \\left(\\alpha^{2} \\sigma_{x} + 2 \\alpha \\beta \\tau_{xy} + 2 \\alpha \\gamma \\tau_{xz} + \\beta^{2} \\sigma_{y} + 2 \\beta \\gamma \\tau_{yz} + \\gamma^{2} \\sigma_{z}\\right)^{2}$"
   ]
  }
 ],
 "metadata": {
  "colab": {
   "authorship_tag": "ABX9TyMxSLZF8aJ6qHwFpqrN6+5+",
   "collapsed_sections": [],
   "include_colab_link": true,
   "provenance": []
  },
  "kernelspec": {
   "display_name": "Python 3",
   "language": "python",
   "name": "python3"
  },
  "language_info": {
   "codemirror_mode": {
    "name": "ipython",
    "version": 3
   },
   "file_extension": ".py",
   "mimetype": "text/x-python",
   "name": "python",
   "nbconvert_exporter": "python",
   "pygments_lexer": "ipython3",
   "version": "3.8.8"
  }
 },
 "nbformat": 4,
 "nbformat_minor": 1
}
