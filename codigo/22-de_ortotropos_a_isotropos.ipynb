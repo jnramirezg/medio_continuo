{
 "cells": [
  {
   "cell_type": "markdown",
   "id": "81737278",
   "metadata": {},
   "source": [
    "<a href=\"https://colab.research.google.com/github/jnramirezg/mecanica_de_solidos/blob/main/codigo/22-de_ortotropos_a_isotropos.ipynb\" target=\"_parent\"><img src=\"https://colab.research.google.com/assets/colab-badge.svg\" alt=\"Open In Colab\"/></a>"
   ]
  },
  {
   "cell_type": "markdown",
   "id": "7e6c291d",
   "metadata": {},
   "source": [
    "# 22. Particularización de la Ley de Hooke para materiales isótropos a partir de ortotrópicos\n",
    "\n",
    "|Quién | Fecha | Qué hizo |\n",
    "| ---  | ---   | ---      |\n",
    "|Juan Nicolás Ramírez, <jnramirezg@unal.edu.co> | 2022-10-25 | Creando código|"
   ]
  },
  {
   "cell_type": "markdown",
   "id": "fabce9bb",
   "metadata": {},
   "source": [
    "Importamos las funciones de librería simbólica ```sympy```:"
   ]
  },
  {
   "cell_type": "code",
   "execution_count": 1,
   "id": "074e28df",
   "metadata": {},
   "outputs": [],
   "source": [
    "from sympy import *"
   ]
  },
  {
   "cell_type": "code",
   "execution_count": 2,
   "id": "1e0bf372",
   "metadata": {},
   "outputs": [],
   "source": [
    "sx,   sy,  sz = symbols(\"     sigma_x      sigma_y      sigma_z\")\n",
    "txy, txz, tyz = symbols(\"      tau_xy       tau_xz       tau_yz\")\n",
    "ex,   ey,  ez = symbols(\"varepsilon_x varepsilon_y varepsilon_z\")\n",
    "gxy, gxz, gyz = symbols(\"    gamma_xy     gamma_xz     gamma_yz\")\n",
    "Ex,     Ey,   Ez = symbols(\"  E_x   E_y   E_z\")\n",
    "Gxy,   Gxz,  Gyz = symbols(\" G_xy  G_xz  G_yz \")\n",
    "nuxy, nuxz, nuyz = symbols(\"nu_xy nu_xz nu_yz \")\n",
    "nuyx, nuzx, nuzy = symbols(\"nu_yx nu_zx nu_zy \")"
   ]
  },
  {
   "cell_type": "code",
   "execution_count": 3,
   "id": "062d778f",
   "metadata": {},
   "outputs": [],
   "source": [
    "ex =       sx/Ex - nuyx*sy/Ey - nuzx*sz/Ez\n",
    "ey = -nuxy*sx/Ex +      sy/Ey - nuzy*sz/Ez\n",
    "ez = -nuxz*sx/Ex - nuyz*sy/Ey +      sz/Ez\n",
    "gyz = tyz/Gyz\n",
    "gxz = txz/Gxz\n",
    "gxy = txy/Gxy"
   ]
  },
  {
   "cell_type": "code",
   "execution_count": 4,
   "id": "b3057a0d",
   "metadata": {},
   "outputs": [],
   "source": [
    "S = linear_eq_to_matrix([ex, ey, ez, gyz, gxz, gxy], \n",
    "                        [sx, sy, sz, tyz, txz, txy])[0]\n",
    "D = S**-1"
   ]
  },
  {
   "cell_type": "code",
   "execution_count": 5,
   "id": "71bed3f1",
   "metadata": {},
   "outputs": [],
   "source": [
    "delta_ = (1-nuyz*nuzy - nuxz*nuzx - nuxy*nuyx - nuxz*nuyx*nuzy - nuxy*nuyz*nuzx)/(Ex*Ey*Ez)\n",
    "delta = symbols(\"Delta\") "
   ]
  },
  {
   "cell_type": "code",
   "execution_count": 6,
   "id": "3461235b",
   "metadata": {
    "scrolled": false
   },
   "outputs": [
    {
     "data": {
      "text/latex": [
       "$\\displaystyle \\left[\\begin{matrix}\\frac{- \\nu_{yz} \\nu_{zy} + 1}{\\Delta E_{y} E_{z}} & \\frac{\\nu_{yx} + \\nu_{yz} \\nu_{zx}}{\\Delta E_{y} E_{z}} & \\frac{\\nu_{yx} \\nu_{zy} + \\nu_{zx}}{\\Delta E_{y} E_{z}} & 0 & 0 & 0\\\\\\frac{\\nu_{xy} + \\nu_{xz} \\nu_{zy}}{\\Delta E_{x} E_{z}} & \\frac{- \\nu_{xz} \\nu_{zx} + 1}{\\Delta E_{x} E_{z}} & \\frac{\\nu_{xy} \\nu_{zx} + \\nu_{zy}}{\\Delta E_{x} E_{z}} & 0 & 0 & 0\\\\\\frac{\\nu_{xy} \\nu_{yz} + \\nu_{xz}}{\\Delta E_{x} E_{y}} & \\frac{\\nu_{xz} \\nu_{yx} + \\nu_{yz}}{\\Delta E_{x} E_{y}} & \\frac{- \\nu_{xy} \\nu_{yx} + 1}{\\Delta E_{x} E_{y}} & 0 & 0 & 0\\\\0 & 0 & 0 & G_{yz} & 0 & 0\\\\0 & 0 & 0 & 0 & G_{xz} & 0\\\\0 & 0 & 0 & 0 & 0 & G_{xy}\\end{matrix}\\right]$"
      ],
      "text/plain": [
       "Matrix([\n",
       "[   (-nu_yz*nu_zy + 1)/(Delta*E_y*E_z), (nu_yx + nu_yz*nu_zx)/(Delta*E_y*E_z), (nu_yx*nu_zy + nu_zx)/(Delta*E_y*E_z),    0,    0,    0],\n",
       "[(nu_xy + nu_xz*nu_zy)/(Delta*E_x*E_z),    (-nu_xz*nu_zx + 1)/(Delta*E_x*E_z), (nu_xy*nu_zx + nu_zy)/(Delta*E_x*E_z),    0,    0,    0],\n",
       "[(nu_xy*nu_yz + nu_xz)/(Delta*E_x*E_y), (nu_xz*nu_yx + nu_yz)/(Delta*E_x*E_y),    (-nu_xy*nu_yx + 1)/(Delta*E_x*E_y),    0,    0,    0],\n",
       "[                                    0,                                     0,                                     0, G_yz,    0,    0],\n",
       "[                                    0,                                     0,                                     0,    0, G_xz,    0],\n",
       "[                                    0,                                     0,                                     0,    0,    0, G_xy]])"
      ]
     },
     "execution_count": 6,
     "metadata": {},
     "output_type": "execute_result"
    }
   ],
   "source": [
    "D = simplify(D*delta_).subs(delta_,delta)/delta\n",
    "D "
   ]
  },
  {
   "cell_type": "markdown",
   "id": "cc699b55",
   "metadata": {},
   "source": [
    "La ley de Hooke generalizada para materiales ortótropos en forma matricial es:\n",
    "\n",
    "$$\\underbrace{\\left[\\begin{matrix} \\sigma_x\\\\ \\sigma_y\\\\ \\sigma_z\\\\ \\tau_{yz}\\\\ \\tau_{xz}\\\\ \\tau_{xy}\\\\\\end{matrix}\\right]}_{\\displaystyle\\underline{\\sigma}}\n",
    "=\\underbrace{\\displaystyle \\left[\n",
    "\\begin{matrix}\n",
    "\\frac{1- \\nu_{yz} \\nu_{zy}}{ E_{y} E_{z} \\Delta} \n",
    "& \\frac{\\nu_{yz} \\nu_{zx}+ \\nu_{yx}}{ E_{y} E_{z} \\Delta} \n",
    "& \\frac{\\nu_{yx} \\nu_{zy} + \\nu_{zx}}{ E_{y} E_{z} \\Delta} & 0 & 0 & 0\\\\\n",
    "\\frac{\\nu_{xz} \\nu_{zy}+ \\nu_{xy}  }{ E_{x} E_{z} \\Delta} \n",
    "& \\frac{1- \\nu_{xz} \\nu_{zx}}{ E_{x} E_{z} \\Delta} \n",
    "& \\frac{\\nu_{zy}+\\nu_{xy} \\nu_{zx} }{ E_{x} E_{z} \\Delta} & 0 & 0 & 0\\\\\n",
    "\\frac{\\nu_{xy} \\nu_{yz} + \\nu_{xz}}{ E_{x} E_{y} \\Delta} \n",
    "& \\frac{\\nu_{yz}+\\nu_{xz} \\nu_{yx}}{ E_{x} E_{y} \\Delta} \n",
    "& \\frac{1- \\nu_{xy} \\nu_{yx}}{ E_{x} E_{y} \\Delta} & 0 & 0 & 0\\\\0 & 0 & 0 & G_{yz} & 0 & 0\\\\\n",
    "0 & 0 & 0 & 0 & G_{xz} & 0\\\\\n",
    "0 & 0 & 0 & 0 & 0 & G_{xy}\n",
    "\\end{matrix}\\right]}_{\\displaystyle\\underline{\\underline{D}}}\n",
    "\\underbrace{\\left[\\begin{matrix} \\varepsilon_x\\\\ \\varepsilon_y\\\\ \\varepsilon_z\\\\ \\gamma_{yz}\\\\ \\gamma_{xz}\\\\ \\gamma_{xy}\\\\\\end{matrix}\\right]}_{\\displaystyle\\underline{\\varepsilon}}$$\n",
    "\n",
    "Donde:\n",
    "$$\\Delta = \\displaystyle\\frac{1-\\nu_{yz}\\nu_{zy} - \\nu_{xz}\\nu_{zx} - \\nu_{xy}\\nu_{yx} - 2\\nu_{xy}\\nu_{yz}\\nu_{zx}}{E_x E_y E_z}$$"
   ]
  },
  {
   "cell_type": "markdown",
   "id": "92cf29b7",
   "metadata": {},
   "source": [
    "Hasta la anterior línea es el [programa 21](https://github.com/jnramirezg/mecanica_de_solidos/blob/main/codigo/21-(4_3_5)-ley_hooke_ortotropos.ipynb)."
   ]
  },
  {
   "cell_type": "markdown",
   "id": "db7a69d0",
   "metadata": {},
   "source": [
    "Creamos las constantes elásticas de los materiales isótropos:\n",
    "* Módulo de elasticidad, $E$, almacenado como ```E```\n",
    "* Coeficiente de Poisson, $\\nu$, almacenado como ```nu```"
   ]
  },
  {
   "cell_type": "code",
   "execution_count": 7,
   "id": "bf32ff9e",
   "metadata": {},
   "outputs": [],
   "source": [
    "E, nu = symbols(\"E nu\")"
   ]
  },
  {
   "cell_type": "markdown",
   "id": "f36ca11f",
   "metadata": {},
   "source": [
    "Definimos el módulo de cortante ```G``` como:\n",
    "$$G=\\displaystyle \\frac{E}{2(1+\\nu)}$$"
   ]
  },
  {
   "cell_type": "code",
   "execution_count": 8,
   "id": "a65392f6",
   "metadata": {},
   "outputs": [],
   "source": [
    "G = E/(2*(1+nu))"
   ]
  },
  {
   "cell_type": "markdown",
   "id": "9db1de8b",
   "metadata": {},
   "source": [
    "Gracias a que es isótropo:\n",
    "\n",
    "$E_x=E_y=E_z=E$ (<font color='blue'>1</font>)\n",
    "\n",
    "\n",
    "$\\nu_{yz}=\\nu_{zy}=\\nu_{xz}=\\nu_{zx}=\\nu_{xy}=\\nu_{yx}=\\nu$ (<font color='blue'>2</font>)\n"
   ]
  },
  {
   "cell_type": "markdown",
   "id": "362e7c47",
   "metadata": {},
   "source": [
    "Reemplazamos en $\\Delta$, todos los módulos de elasticidad por $E$:"
   ]
  },
  {
   "cell_type": "code",
   "execution_count": 9,
   "id": "835c2843",
   "metadata": {
    "scrolled": false
   },
   "outputs": [
    {
     "data": {
      "text/latex": [
       "$\\displaystyle \\frac{- \\nu_{xy} \\nu_{yx} - \\nu_{xy} \\nu_{yz} \\nu_{zx} - \\nu_{xz} \\nu_{yx} \\nu_{zy} - \\nu_{xz} \\nu_{zx} - \\nu_{yz} \\nu_{zy} + 1}{E^{3}}$"
      ],
      "text/plain": [
       "(-nu_xy*nu_yx - nu_xy*nu_yz*nu_zx - nu_xz*nu_yx*nu_zy - nu_xz*nu_zx - nu_yz*nu_zy + 1)/E**3"
      ]
     },
     "execution_count": 9,
     "metadata": {},
     "output_type": "execute_result"
    }
   ],
   "source": [
    "delta_=delta_.subs([[Ex, E], [Ey, E], [Ez, E]])\n",
    "delta_"
   ]
  },
  {
   "cell_type": "markdown",
   "id": "3e7400db",
   "metadata": {},
   "source": [
    "Reemplazamos en $\\Delta$, todos los coeficientes de Poisson por $\\nu$:"
   ]
  },
  {
   "cell_type": "code",
   "execution_count": 10,
   "id": "cd28c609",
   "metadata": {
    "scrolled": true
   },
   "outputs": [
    {
     "data": {
      "text/latex": [
       "$\\displaystyle \\frac{- 2 \\nu^{3} - 3 \\nu^{2} + 1}{E^{3}}$"
      ],
      "text/plain": [
       "(-2*nu**3 - 3*nu**2 + 1)/E**3"
      ]
     },
     "execution_count": 10,
     "metadata": {},
     "output_type": "execute_result"
    }
   ],
   "source": [
    "delta_ = delta_.subs([[nuxy, nu], [nuxz, nu], [nuyx, nu], [nuyz, nu], [nuzx, nu], [nuzy, nu]])\n",
    "delta_"
   ]
  },
  {
   "cell_type": "markdown",
   "id": "cc86de4e",
   "metadata": {},
   "source": [
    "Reemplazamos en la matriz $\\underline{\\underline{D}}$, $\\Delta$ por $\\displaystyle \\frac{- 2 \\nu^{3} - 3 \\nu^{2} + 1}{E^{3}}$ (almacenado como ```delta_```):"
   ]
  },
  {
   "cell_type": "code",
   "execution_count": 11,
   "id": "fa6790f9",
   "metadata": {
    "scrolled": true
   },
   "outputs": [
    {
     "data": {
      "text/latex": [
       "$\\displaystyle \\left[\\begin{matrix}\\frac{E^{3} \\left(- \\nu_{yz} \\nu_{zy} + 1\\right)}{E_{y} E_{z} \\left(- 2 \\nu^{3} - 3 \\nu^{2} + 1\\right)} & \\frac{E^{3} \\left(\\nu_{yx} + \\nu_{yz} \\nu_{zx}\\right)}{E_{y} E_{z} \\left(- 2 \\nu^{3} - 3 \\nu^{2} + 1\\right)} & \\frac{E^{3} \\left(\\nu_{yx} \\nu_{zy} + \\nu_{zx}\\right)}{E_{y} E_{z} \\left(- 2 \\nu^{3} - 3 \\nu^{2} + 1\\right)} & 0 & 0 & 0\\\\\\frac{E^{3} \\left(\\nu_{xy} + \\nu_{xz} \\nu_{zy}\\right)}{E_{x} E_{z} \\left(- 2 \\nu^{3} - 3 \\nu^{2} + 1\\right)} & \\frac{E^{3} \\left(- \\nu_{xz} \\nu_{zx} + 1\\right)}{E_{x} E_{z} \\left(- 2 \\nu^{3} - 3 \\nu^{2} + 1\\right)} & \\frac{E^{3} \\left(\\nu_{xy} \\nu_{zx} + \\nu_{zy}\\right)}{E_{x} E_{z} \\left(- 2 \\nu^{3} - 3 \\nu^{2} + 1\\right)} & 0 & 0 & 0\\\\\\frac{E^{3} \\left(\\nu_{xy} \\nu_{yz} + \\nu_{xz}\\right)}{E_{x} E_{y} \\left(- 2 \\nu^{3} - 3 \\nu^{2} + 1\\right)} & \\frac{E^{3} \\left(\\nu_{xz} \\nu_{yx} + \\nu_{yz}\\right)}{E_{x} E_{y} \\left(- 2 \\nu^{3} - 3 \\nu^{2} + 1\\right)} & \\frac{E^{3} \\left(- \\nu_{xy} \\nu_{yx} + 1\\right)}{E_{x} E_{y} \\left(- 2 \\nu^{3} - 3 \\nu^{2} + 1\\right)} & 0 & 0 & 0\\\\0 & 0 & 0 & G_{yz} & 0 & 0\\\\0 & 0 & 0 & 0 & G_{xz} & 0\\\\0 & 0 & 0 & 0 & 0 & G_{xy}\\end{matrix}\\right]$"
      ],
      "text/plain": [
       "Matrix([\n",
       "[   E**3*(-nu_yz*nu_zy + 1)/(E_y*E_z*(-2*nu**3 - 3*nu**2 + 1)), E**3*(nu_yx + nu_yz*nu_zx)/(E_y*E_z*(-2*nu**3 - 3*nu**2 + 1)), E**3*(nu_yx*nu_zy + nu_zx)/(E_y*E_z*(-2*nu**3 - 3*nu**2 + 1)),    0,    0,    0],\n",
       "[E**3*(nu_xy + nu_xz*nu_zy)/(E_x*E_z*(-2*nu**3 - 3*nu**2 + 1)),    E**3*(-nu_xz*nu_zx + 1)/(E_x*E_z*(-2*nu**3 - 3*nu**2 + 1)), E**3*(nu_xy*nu_zx + nu_zy)/(E_x*E_z*(-2*nu**3 - 3*nu**2 + 1)),    0,    0,    0],\n",
       "[E**3*(nu_xy*nu_yz + nu_xz)/(E_x*E_y*(-2*nu**3 - 3*nu**2 + 1)), E**3*(nu_xz*nu_yx + nu_yz)/(E_x*E_y*(-2*nu**3 - 3*nu**2 + 1)),    E**3*(-nu_xy*nu_yx + 1)/(E_x*E_y*(-2*nu**3 - 3*nu**2 + 1)),    0,    0,    0],\n",
       "[                                                            0,                                                             0,                                                             0, G_yz,    0,    0],\n",
       "[                                                            0,                                                             0,                                                             0,    0, G_xz,    0],\n",
       "[                                                            0,                                                             0,                                                             0,    0,    0, G_xy]])"
      ]
     },
     "execution_count": 11,
     "metadata": {},
     "output_type": "execute_result"
    }
   ],
   "source": [
    "D = D.subs(delta, delta_)\n",
    "D"
   ]
  },
  {
   "cell_type": "markdown",
   "id": "b2e476b3",
   "metadata": {},
   "source": [
    "Reemplazamos en la matriz $\\underline{\\underline{D}}$, todos los módulos de elasticidad por $E$:"
   ]
  },
  {
   "cell_type": "code",
   "execution_count": 12,
   "id": "1c4ff062",
   "metadata": {
    "scrolled": false
   },
   "outputs": [
    {
     "data": {
      "text/latex": [
       "$\\displaystyle \\left[\\begin{matrix}\\frac{E \\left(- \\nu_{yz} \\nu_{zy} + 1\\right)}{- 2 \\nu^{3} - 3 \\nu^{2} + 1} & \\frac{E \\left(\\nu_{yx} + \\nu_{yz} \\nu_{zx}\\right)}{- 2 \\nu^{3} - 3 \\nu^{2} + 1} & \\frac{E \\left(\\nu_{yx} \\nu_{zy} + \\nu_{zx}\\right)}{- 2 \\nu^{3} - 3 \\nu^{2} + 1} & 0 & 0 & 0\\\\\\frac{E \\left(\\nu_{xy} + \\nu_{xz} \\nu_{zy}\\right)}{- 2 \\nu^{3} - 3 \\nu^{2} + 1} & \\frac{E \\left(- \\nu_{xz} \\nu_{zx} + 1\\right)}{- 2 \\nu^{3} - 3 \\nu^{2} + 1} & \\frac{E \\left(\\nu_{xy} \\nu_{zx} + \\nu_{zy}\\right)}{- 2 \\nu^{3} - 3 \\nu^{2} + 1} & 0 & 0 & 0\\\\\\frac{E \\left(\\nu_{xy} \\nu_{yz} + \\nu_{xz}\\right)}{- 2 \\nu^{3} - 3 \\nu^{2} + 1} & \\frac{E \\left(\\nu_{xz} \\nu_{yx} + \\nu_{yz}\\right)}{- 2 \\nu^{3} - 3 \\nu^{2} + 1} & \\frac{E \\left(- \\nu_{xy} \\nu_{yx} + 1\\right)}{- 2 \\nu^{3} - 3 \\nu^{2} + 1} & 0 & 0 & 0\\\\0 & 0 & 0 & G_{yz} & 0 & 0\\\\0 & 0 & 0 & 0 & G_{xz} & 0\\\\0 & 0 & 0 & 0 & 0 & G_{xy}\\end{matrix}\\right]$"
      ],
      "text/plain": [
       "Matrix([\n",
       "[   E*(-nu_yz*nu_zy + 1)/(-2*nu**3 - 3*nu**2 + 1), E*(nu_yx + nu_yz*nu_zx)/(-2*nu**3 - 3*nu**2 + 1), E*(nu_yx*nu_zy + nu_zx)/(-2*nu**3 - 3*nu**2 + 1),    0,    0,    0],\n",
       "[E*(nu_xy + nu_xz*nu_zy)/(-2*nu**3 - 3*nu**2 + 1),    E*(-nu_xz*nu_zx + 1)/(-2*nu**3 - 3*nu**2 + 1), E*(nu_xy*nu_zx + nu_zy)/(-2*nu**3 - 3*nu**2 + 1),    0,    0,    0],\n",
       "[E*(nu_xy*nu_yz + nu_xz)/(-2*nu**3 - 3*nu**2 + 1), E*(nu_xz*nu_yx + nu_yz)/(-2*nu**3 - 3*nu**2 + 1),    E*(-nu_xy*nu_yx + 1)/(-2*nu**3 - 3*nu**2 + 1),    0,    0,    0],\n",
       "[                                               0,                                                0,                                                0, G_yz,    0,    0],\n",
       "[                                               0,                                                0,                                                0,    0, G_xz,    0],\n",
       "[                                               0,                                                0,                                                0,    0,    0, G_xy]])"
      ]
     },
     "execution_count": 12,
     "metadata": {},
     "output_type": "execute_result"
    }
   ],
   "source": [
    "D = D.subs([[Ex, E], [Ey, E], [Ez, E]])\n",
    "D"
   ]
  },
  {
   "cell_type": "markdown",
   "id": "952e6467",
   "metadata": {},
   "source": [
    "Reemplazamos en la matriz $\\underline{\\underline{D}}$, todos los coeficientes de Poisson por $\\nu$:"
   ]
  },
  {
   "cell_type": "code",
   "execution_count": 13,
   "id": "83965dad",
   "metadata": {
    "scrolled": false
   },
   "outputs": [
    {
     "data": {
      "text/latex": [
       "$\\displaystyle \\left[\\begin{matrix}\\frac{E \\left(1 - \\nu^{2}\\right)}{- 2 \\nu^{3} - 3 \\nu^{2} + 1} & \\frac{E \\left(\\nu^{2} + \\nu\\right)}{- 2 \\nu^{3} - 3 \\nu^{2} + 1} & \\frac{E \\left(\\nu^{2} + \\nu\\right)}{- 2 \\nu^{3} - 3 \\nu^{2} + 1} & 0 & 0 & 0\\\\\\frac{E \\left(\\nu^{2} + \\nu\\right)}{- 2 \\nu^{3} - 3 \\nu^{2} + 1} & \\frac{E \\left(1 - \\nu^{2}\\right)}{- 2 \\nu^{3} - 3 \\nu^{2} + 1} & \\frac{E \\left(\\nu^{2} + \\nu\\right)}{- 2 \\nu^{3} - 3 \\nu^{2} + 1} & 0 & 0 & 0\\\\\\frac{E \\left(\\nu^{2} + \\nu\\right)}{- 2 \\nu^{3} - 3 \\nu^{2} + 1} & \\frac{E \\left(\\nu^{2} + \\nu\\right)}{- 2 \\nu^{3} - 3 \\nu^{2} + 1} & \\frac{E \\left(1 - \\nu^{2}\\right)}{- 2 \\nu^{3} - 3 \\nu^{2} + 1} & 0 & 0 & 0\\\\0 & 0 & 0 & G_{yz} & 0 & 0\\\\0 & 0 & 0 & 0 & G_{xz} & 0\\\\0 & 0 & 0 & 0 & 0 & G_{xy}\\end{matrix}\\right]$"
      ],
      "text/plain": [
       "Matrix([\n",
       "[ E*(1 - nu**2)/(-2*nu**3 - 3*nu**2 + 1), E*(nu**2 + nu)/(-2*nu**3 - 3*nu**2 + 1), E*(nu**2 + nu)/(-2*nu**3 - 3*nu**2 + 1),    0,    0,    0],\n",
       "[E*(nu**2 + nu)/(-2*nu**3 - 3*nu**2 + 1),  E*(1 - nu**2)/(-2*nu**3 - 3*nu**2 + 1), E*(nu**2 + nu)/(-2*nu**3 - 3*nu**2 + 1),    0,    0,    0],\n",
       "[E*(nu**2 + nu)/(-2*nu**3 - 3*nu**2 + 1), E*(nu**2 + nu)/(-2*nu**3 - 3*nu**2 + 1),  E*(1 - nu**2)/(-2*nu**3 - 3*nu**2 + 1),    0,    0,    0],\n",
       "[                                      0,                                       0,                                       0, G_yz,    0,    0],\n",
       "[                                      0,                                       0,                                       0,    0, G_xz,    0],\n",
       "[                                      0,                                       0,                                       0,    0,    0, G_xy]])"
      ]
     },
     "execution_count": 13,
     "metadata": {},
     "output_type": "execute_result"
    }
   ],
   "source": [
    "D = D.subs([[nuxy, nu], [nuxz, nu], [nuyx, nu], [nuyz, nu], [nuzx, nu], [nuzy, nu]])\n",
    "D"
   ]
  },
  {
   "cell_type": "markdown",
   "id": "5d994ab8",
   "metadata": {},
   "source": [
    "Reemplazamos en la matriz $\\underline{\\underline{D}}$, todos los módulos de cortante por $G$ (por dentro tiene la igualdad: $G=\\displaystyle \\frac{E}{2(1+\\nu)}$):"
   ]
  },
  {
   "cell_type": "code",
   "execution_count": 14,
   "id": "4289a389",
   "metadata": {
    "scrolled": false
   },
   "outputs": [
    {
     "data": {
      "text/latex": [
       "$\\displaystyle \\left[\\begin{matrix}\\frac{E \\left(1 - \\nu^{2}\\right)}{- 2 \\nu^{3} - 3 \\nu^{2} + 1} & \\frac{E \\left(\\nu^{2} + \\nu\\right)}{- 2 \\nu^{3} - 3 \\nu^{2} + 1} & \\frac{E \\left(\\nu^{2} + \\nu\\right)}{- 2 \\nu^{3} - 3 \\nu^{2} + 1} & 0 & 0 & 0\\\\\\frac{E \\left(\\nu^{2} + \\nu\\right)}{- 2 \\nu^{3} - 3 \\nu^{2} + 1} & \\frac{E \\left(1 - \\nu^{2}\\right)}{- 2 \\nu^{3} - 3 \\nu^{2} + 1} & \\frac{E \\left(\\nu^{2} + \\nu\\right)}{- 2 \\nu^{3} - 3 \\nu^{2} + 1} & 0 & 0 & 0\\\\\\frac{E \\left(\\nu^{2} + \\nu\\right)}{- 2 \\nu^{3} - 3 \\nu^{2} + 1} & \\frac{E \\left(\\nu^{2} + \\nu\\right)}{- 2 \\nu^{3} - 3 \\nu^{2} + 1} & \\frac{E \\left(1 - \\nu^{2}\\right)}{- 2 \\nu^{3} - 3 \\nu^{2} + 1} & 0 & 0 & 0\\\\0 & 0 & 0 & \\frac{E}{2 \\nu + 2} & 0 & 0\\\\0 & 0 & 0 & 0 & \\frac{E}{2 \\nu + 2} & 0\\\\0 & 0 & 0 & 0 & 0 & \\frac{E}{2 \\nu + 2}\\end{matrix}\\right]$"
      ],
      "text/plain": [
       "Matrix([\n",
       "[ E*(1 - nu**2)/(-2*nu**3 - 3*nu**2 + 1), E*(nu**2 + nu)/(-2*nu**3 - 3*nu**2 + 1), E*(nu**2 + nu)/(-2*nu**3 - 3*nu**2 + 1),            0,            0,            0],\n",
       "[E*(nu**2 + nu)/(-2*nu**3 - 3*nu**2 + 1),  E*(1 - nu**2)/(-2*nu**3 - 3*nu**2 + 1), E*(nu**2 + nu)/(-2*nu**3 - 3*nu**2 + 1),            0,            0,            0],\n",
       "[E*(nu**2 + nu)/(-2*nu**3 - 3*nu**2 + 1), E*(nu**2 + nu)/(-2*nu**3 - 3*nu**2 + 1),  E*(1 - nu**2)/(-2*nu**3 - 3*nu**2 + 1),            0,            0,            0],\n",
       "[                                      0,                                       0,                                       0, E/(2*nu + 2),            0,            0],\n",
       "[                                      0,                                       0,                                       0,            0, E/(2*nu + 2),            0],\n",
       "[                                      0,                                       0,                                       0,            0,            0, E/(2*nu + 2)]])"
      ]
     },
     "execution_count": 14,
     "metadata": {},
     "output_type": "execute_result"
    }
   ],
   "source": [
    "D = D.subs([[Gxy, G], [Gxz, G], [Gyz, G]])\n",
    "D"
   ]
  },
  {
   "cell_type": "markdown",
   "id": "90760dc4",
   "metadata": {},
   "source": [
    "Simplificamos:"
   ]
  },
  {
   "cell_type": "code",
   "execution_count": 15,
   "id": "1eb2a9d0",
   "metadata": {
    "scrolled": false
   },
   "outputs": [
    {
     "data": {
      "text/latex": [
       "$\\displaystyle \\left[\\begin{matrix}\\frac{E \\left(\\nu - 1\\right)}{2 \\nu^{2} + \\nu - 1} & - \\frac{E \\nu}{2 \\nu^{2} + \\nu - 1} & - \\frac{E \\nu}{2 \\nu^{2} + \\nu - 1} & 0 & 0 & 0\\\\- \\frac{E \\nu}{2 \\nu^{2} + \\nu - 1} & \\frac{E \\left(\\nu - 1\\right)}{2 \\nu^{2} + \\nu - 1} & - \\frac{E \\nu}{2 \\nu^{2} + \\nu - 1} & 0 & 0 & 0\\\\- \\frac{E \\nu}{2 \\nu^{2} + \\nu - 1} & - \\frac{E \\nu}{2 \\nu^{2} + \\nu - 1} & \\frac{E \\left(\\nu - 1\\right)}{2 \\nu^{2} + \\nu - 1} & 0 & 0 & 0\\\\0 & 0 & 0 & \\frac{E}{2 \\left(\\nu + 1\\right)} & 0 & 0\\\\0 & 0 & 0 & 0 & \\frac{E}{2 \\left(\\nu + 1\\right)} & 0\\\\0 & 0 & 0 & 0 & 0 & \\frac{E}{2 \\left(\\nu + 1\\right)}\\end{matrix}\\right]$"
      ],
      "text/plain": [
       "Matrix([\n",
       "[E*(nu - 1)/(2*nu**2 + nu - 1),      -E*nu/(2*nu**2 + nu - 1),      -E*nu/(2*nu**2 + nu - 1),              0,              0,              0],\n",
       "[     -E*nu/(2*nu**2 + nu - 1), E*(nu - 1)/(2*nu**2 + nu - 1),      -E*nu/(2*nu**2 + nu - 1),              0,              0,              0],\n",
       "[     -E*nu/(2*nu**2 + nu - 1),      -E*nu/(2*nu**2 + nu - 1), E*(nu - 1)/(2*nu**2 + nu - 1),              0,              0,              0],\n",
       "[                            0,                             0,                             0, E/(2*(nu + 1)),              0,              0],\n",
       "[                            0,                             0,                             0,              0, E/(2*(nu + 1)),              0],\n",
       "[                            0,                             0,                             0,              0,              0, E/(2*(nu + 1))]])"
      ]
     },
     "execution_count": 15,
     "metadata": {},
     "output_type": "execute_result"
    }
   ],
   "source": [
    "simplify(D)"
   ]
  },
  {
   "cell_type": "markdown",
   "id": "621a5582",
   "metadata": {},
   "source": [
    "Sacamos factor común $\\frac{E}{1+\\nu}$ y simplificamos:"
   ]
  },
  {
   "cell_type": "code",
   "execution_count": 16,
   "id": "c21bcc74",
   "metadata": {
    "scrolled": true
   },
   "outputs": [
    {
     "data": {
      "text/latex": [
       "$\\displaystyle \\left[\\begin{matrix}\\frac{\\nu - 1}{2 \\nu - 1} & - \\frac{\\nu}{2 \\nu - 1} & - \\frac{\\nu}{2 \\nu - 1} & 0 & 0 & 0\\\\- \\frac{\\nu}{2 \\nu - 1} & \\frac{\\nu - 1}{2 \\nu - 1} & - \\frac{\\nu}{2 \\nu - 1} & 0 & 0 & 0\\\\- \\frac{\\nu}{2 \\nu - 1} & - \\frac{\\nu}{2 \\nu - 1} & \\frac{\\nu - 1}{2 \\nu - 1} & 0 & 0 & 0\\\\0 & 0 & 0 & \\frac{1}{2} & 0 & 0\\\\0 & 0 & 0 & 0 & \\frac{1}{2} & 0\\\\0 & 0 & 0 & 0 & 0 & \\frac{1}{2}\\end{matrix}\\right]$"
      ],
      "text/plain": [
       "Matrix([\n",
       "[(nu - 1)/(2*nu - 1),      -nu/(2*nu - 1),      -nu/(2*nu - 1),   0,   0,   0],\n",
       "[     -nu/(2*nu - 1), (nu - 1)/(2*nu - 1),      -nu/(2*nu - 1),   0,   0,   0],\n",
       "[     -nu/(2*nu - 1),      -nu/(2*nu - 1), (nu - 1)/(2*nu - 1),   0,   0,   0],\n",
       "[                  0,                   0,                   0, 1/2,   0,   0],\n",
       "[                  0,                   0,                   0,   0, 1/2,   0],\n",
       "[                  0,                   0,                   0,   0,   0, 1/2]])"
      ]
     },
     "execution_count": 16,
     "metadata": {},
     "output_type": "execute_result"
    }
   ],
   "source": [
    "simplify(D/ (E/(1+nu)))"
   ]
  },
  {
   "cell_type": "markdown",
   "id": "e42ff329",
   "metadata": {},
   "source": [
    "Finalmente, la ley de Hooke generalizada para materiales isótropos en forma matricial es:\n",
    "\n",
    "$$\\underbrace{\\left[\\begin{matrix} \\sigma_x\\\\ \\sigma_y\\\\ \\sigma_z\\\\ \\tau_{yz}\\\\ \\tau_{xz}\\\\ \\tau_{xy}\\\\\\end{matrix}\\right]}_{\\displaystyle\\underline{\\sigma}}\n",
    "=\\underbrace{\\displaystyle\\frac{E}{1+\\nu}\n",
    "\\left[\\begin{matrix}\n",
    "\\frac{1-\\nu}{1-2\\nu} & \\frac{\\nu}{1-2\\nu}   &   \\frac{\\nu}{1-2\\nu} &           0 &           0 & 0\\\\\n",
    "\\frac{\\nu}{1-2\\nu}   & \\frac{1-\\nu}{1-2\\nu} &   \\frac{\\nu}{1-2\\nu} &           0 &           0 & 0\\\\\n",
    "\\frac{\\nu}{1-2\\nu}   & \\frac{\\nu}{1-2\\nu}   & \\frac{1-\\nu}{1-2\\nu} &           0 &           0 & 0\\\\\n",
    "                        0 &                         0 &                         0 & \\frac{1}{2} &           0 & 0\\\\\n",
    "                        0 &                         0 &                         0 &           0 & \\frac{1}{2} & 0\\\\\n",
    "                        0 &                         0 &                         0 &           0 &           0 & \\frac{1}{2}\n",
    "\\end{matrix}\\right]}_{\\displaystyle\\underline{\\underline{D}}}\n",
    "\\underbrace{\\left[\\begin{matrix} \\varepsilon_x\\\\ \\varepsilon_y\\\\ \\varepsilon_z\\\\ \\gamma_{yz}\\\\ \\gamma_{xz}\\\\ \\gamma_{xy}\\\\\\end{matrix}\\right]}_{\\displaystyle\\underline{\\varepsilon}}$$"
   ]
  }
 ],
 "metadata": {
  "kernelspec": {
   "display_name": "Python 3",
   "language": "python",
   "name": "python3"
  },
  "language_info": {
   "codemirror_mode": {
    "name": "ipython",
    "version": 3
   },
   "file_extension": ".py",
   "mimetype": "text/x-python",
   "name": "python",
   "nbconvert_exporter": "python",
   "pygments_lexer": "ipython3",
   "version": "3.8.8"
  }
 },
 "nbformat": 4,
 "nbformat_minor": 5
}
