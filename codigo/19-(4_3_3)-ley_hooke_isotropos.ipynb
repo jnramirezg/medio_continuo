{
 "cells": [
  {
   "cell_type": "markdown",
   "metadata": {
    "colab_type": "text",
    "id": "view-in-github"
   },
   "source": [
    "<a href=\"https://colab.research.google.com/github/jnramirezg/medio_continuo/blob/main/codigo/19-(4_3_3)-ley_hooke_isotropos.ipynb\" target=\"_parent\"><img src=\"https://colab.research.google.com/assets/colab-badge.svg\" alt=\"Open In Colab\"/></a>"
   ]
  },
  {
   "cell_type": "markdown",
   "metadata": {
    "id": "Q1np-HmVdZu3"
   },
   "source": [
    "# 19. Ley de Hooke generalizada para materiales isótropos (sección 4.3.3)\n",
    "\n",
    "|Quién | Fecha | Qué hizo |\n",
    "| ---  | ---   | ---      |\n",
    "|Michael Heredia Pérez, <mherediap@unal.edu.co> | 2022-08-04 | Conversión de código de MAXIMA a Python|\n",
    "|Juan Nicolás Ramírez, <jnramirezg@unal.edu.co> | 2022-10-03 | Adecuando código a particularidades pedagógicas|"
   ]
  },
  {
   "cell_type": "markdown",
   "metadata": {},
   "source": [
    "# Despeje de $\\sigma_x$, $\\sigma_y$, $\\sigma_z$ \n",
    "A partir de las ecuaciones:\n",
    " \n",
    "$\\varepsilon_x = \\displaystyle\\frac{1}{E}\\left(\\sigma_x- \\nu(\\sigma_y+\\sigma_z)\\right)$ (<font color='blue'>1</font>)\n",
    "\n",
    "$\\varepsilon_y = \\displaystyle\\frac{1}{E}\\left(\\sigma_y- \\nu(\\sigma_x+\\sigma_z)\\right)$ (<font color='blue'>2</font>)\n",
    "\n",
    "$\\varepsilon_z = \\displaystyle\\frac{1}{E}\\left(\\sigma_z- \\nu(\\sigma_x+\\sigma_y)\\right)$ (<font color='blue'>3</font>)\n",
    "\n",
    "Despejamos $\\sigma_x$, $\\sigma_y$, $\\sigma_z$."
   ]
  },
  {
   "cell_type": "markdown",
   "metadata": {},
   "source": [
    "Importamos las funciones de librería simbólica ```sympy``` e iniciamos la impresión \"bonita\":"
   ]
  },
  {
   "cell_type": "code",
   "execution_count": 1,
   "metadata": {
    "id": "S325VqiidXcS"
   },
   "outputs": [],
   "source": [
    "from sympy import *\n",
    "init_printing()"
   ]
  },
  {
   "cell_type": "markdown",
   "metadata": {
    "id": "Rf_vMddLdwSe"
   },
   "source": [
    "Definimos en escritura $\\LaTeX$ nuestras variables simbólicas:\n",
    "- ```sx```, ```sy```, ```sz``` representan los esfuerzos axiales $\\sigma_x$, $\\sigma_y$, $\\sigma_z$\n",
    "- ```ex```, ```ey```, ```ez``` representan las deformaciones axiales $\\varepsilon_x$, $\\varepsilon_y$, $\\varepsilon_z$\n",
    "- ```E``` representa el módulo de la elasticidad y ```nu``` representa el coeficiente de Poisson $\\nu$."
   ]
  },
  {
   "cell_type": "code",
   "execution_count": 2,
   "metadata": {
    "colab": {
     "base_uri": "https://localhost:8080/",
     "height": 38
    },
    "id": "mREL25dldtdI",
    "outputId": "08239943-c1c6-4f68-9d27-1065f604ec0d"
   },
   "outputs": [
    {
     "data": {
      "image/png": "[encoded data removed]",
      "text/latex": [
       "$\\displaystyle \\left( \\varepsilon_{x}, \\  \\varepsilon_{y}, \\  \\varepsilon_{z}, \\  \\sigma_{x}, \\  \\sigma_{y}, \\  \\sigma_{z}, \\  E, \\  \\nu\\right)$"
      ],
      "text/plain": [
       "(varepsilonₓ, varepsilon_y, varepsilon_z, σₓ, σ_y, σ_z, E, ν)"
      ]
     },
     "execution_count": 2,
     "metadata": {},
     "output_type": "execute_result"
    }
   ],
   "source": [
    "sx, sy, sz = symbols(\"     sigma_x      sigma_y      sigma_z\")\n",
    "ex, ey, ez = symbols(\"varepsilon_x varepsilon_y varepsilon_z\")\n",
    "E, nu = symbols(\"E nu\")\n",
    "\n",
    "ex, ey, ez, sx, sy, sz, E, nu"
   ]
  },
  {
   "cell_type": "markdown",
   "metadata": {
    "id": "yG9BmbkYecDU"
   },
   "source": [
    "Las definimos igualándolas a cero (```ec1=0```, ```ec2=0```, ```ec3=0```):"
   ]
  },
  {
   "cell_type": "code",
   "execution_count": 3,
   "metadata": {
    "colab": {
     "base_uri": "https://localhost:8080/",
     "height": 58
    },
    "id": "LmWtV--qd-8J",
    "outputId": "68779f95-abd5-4e72-e63b-091750e932ff"
   },
   "outputs": [
    {
     "data": {
      "image/png": "[encoded data removed]",
      "text/latex": [
       "$\\displaystyle \\left( \\varepsilon_{x} - \\frac{- \\nu \\left(\\sigma_{y} + \\sigma_{z}\\right) + \\sigma_{x}}{E}, \\  \\varepsilon_{y} - \\frac{- \\nu \\left(\\sigma_{x} + \\sigma_{z}\\right) + \\sigma_{y}}{E}, \\  \\varepsilon_{z} - \\frac{- \\nu \\left(\\sigma_{x} + \\sigma_{y}\\right) + \\sigma_{z}}{E}\\right)$"
      ],
      "text/plain": [
       "⎛              -ν⋅(σ_y + σ_z) + σₓ                 -ν⋅(σₓ + σ_z) + σ_y        \n",
       "⎜varepsilonₓ - ───────────────────, varepsilon_y - ───────────────────, vareps\n",
       "⎝                       E                                   E                 \n",
       "\n",
       "         -ν⋅(σₓ + σ_y) + σ_z⎞\n",
       "ilon_z - ───────────────────⎟\n",
       "                  E         ⎠"
      ]
     },
     "execution_count": 3,
     "metadata": {},
     "output_type": "execute_result"
    }
   ],
   "source": [
    "ec1 = ex - (1/E)*(sx - nu*(sy + sz))\n",
    "ec2 = ey - (1/E)*(sy - nu*(sx + sz))\n",
    "ec3 = ez - (1/E)*(sz - nu*(sx + sy))\n",
    "\n",
    "ec1, ec2, ec3"
   ]
  },
  {
   "cell_type": "markdown",
   "metadata": {
    "id": "cV3kpEB3e5ZT"
   },
   "source": [
    "Despejamos ```sx```, ```sy``` y ```sx``` de las ecuaciones correspondientes a $\\sigma_x$, $\\sigma_y$ y $\\sigma_z$"
   ]
  },
  {
   "cell_type": "code",
   "execution_count": 4,
   "metadata": {
    "colab": {
     "base_uri": "https://localhost:8080/",
     "height": 58
    },
    "id": "uOKTXvJeerr_",
    "outputId": "5373ee68-7de3-4e0c-cca3-8434243f2486",
    "scrolled": false
   },
   "outputs": [
    {
     "data": {
      "image/png": "[encoded data removed]",
      "text/latex": [
       "$\\displaystyle \\left\\{ \\sigma_{x} : \\frac{E \\left(\\nu \\varepsilon_{x} - \\nu \\varepsilon_{y} - \\nu \\varepsilon_{z} - \\varepsilon_{x}\\right)}{\\left(\\nu + 1\\right) \\left(2 \\nu - 1\\right)}, \\  \\sigma_{y} : - \\frac{E \\left(\\nu \\varepsilon_{x} - \\nu \\varepsilon_{y} + \\nu \\varepsilon_{z} + \\varepsilon_{y}\\right)}{\\left(\\nu + 1\\right) \\left(2 \\nu - 1\\right)}, \\  \\sigma_{z} : - \\frac{E \\left(\\nu \\varepsilon_{x} + \\nu \\varepsilon_{y} - \\nu \\varepsilon_{z} + \\varepsilon_{z}\\right)}{\\left(\\nu + 1\\right) \\left(2 \\nu - 1\\right)}\\right\\}$"
      ],
      "text/plain": [
       "⎧    E⋅(ν⋅varepsilonₓ - ν⋅varepsilon_y - ν⋅varepsilon_z - varepsilonₓ)       -\n",
       "⎨σₓ: ─────────────────────────────────────────────────────────────────, σ_y: ─\n",
       "⎩                            (ν + 1)⋅(2⋅ν - 1)                                \n",
       "\n",
       "E⋅(ν⋅varepsilonₓ - ν⋅varepsilon_y + ν⋅varepsilon_z + varepsilon_y)        -E⋅(\n",
       "───────────────────────────────────────────────────────────────────, σ_z: ────\n",
       "                        (ν + 1)⋅(2⋅ν - 1)                                     \n",
       "\n",
       "ν⋅varepsilonₓ + ν⋅varepsilon_y - ν⋅varepsilon_z + varepsilon_z) ⎫\n",
       "────────────────────────────────────────────────────────────────⎬\n",
       "                     (ν + 1)⋅(2⋅ν - 1)                          ⎭"
      ]
     },
     "execution_count": 4,
     "metadata": {},
     "output_type": "execute_result"
    }
   ],
   "source": [
    "factor(solve([ec1, ec2, ec3], \n",
    "             [ sx,  sy,  sz]))"
   ]
  },
  {
   "cell_type": "markdown",
   "metadata": {},
   "source": [
    "Que pueden reescribirse como:\n",
    "\n",
    "$\\sigma_x=\\lambda e + 2G\\varepsilon_x$ (<font color='blue'>4</font>)\n",
    "\n",
    "$\\sigma_y=\\lambda e + 2G\\varepsilon_y$ (<font color='blue'>5</font>)\n",
    "\n",
    "$\\sigma_z=\\lambda e + 2G\\varepsilon_z$ (<font color='blue'>6</font>)\n",
    "\n",
    "Donde:\n",
    "\n",
    "$e=\\displaystyle \\varepsilon_{x} + \\varepsilon_{y} + \\varepsilon_{z}$ (<font color='blue'>7</font>)\n",
    "\n",
    "$\\displaystyle \\lambda = \\frac{\\nu E}{(1+\\nu)(1-2\\nu)}$ (<font color='blue'>8</font>)\n",
    "\n",
    "$\\displaystyle G= \\frac{E}{2(1+\\nu)}$ (<font color='blue'>9</font>)"
   ]
  },
  {
   "cell_type": "markdown",
   "metadata": {
    "id": "SScbuKsEFvE_"
   },
   "source": [
    "## Coeficientes de la matriz constitutiva $\\underline{\\underline{D}}$\n",
    "\n",
    "Definimos las variables faltantes (esfuerzos cortantes y deformacines angulares):\n",
    "\n",
    "- ```txy```, ```txz```, ```tyz``` representan los esfuerzos cortantes $\\tau_{xy}$, $\\tau_{xz}$, $\\tau_{yz}$\n",
    "- ```gxy```, ```gxz```, ```gyz``` representan las deformaciones angulares $\\gamma_{xy}$, $\\gamma_{xz}$, $\\gamma_{yz}$\n"
   ]
  },
  {
   "cell_type": "code",
   "execution_count": 5,
   "metadata": {
    "colab": {
     "base_uri": "https://localhost:8080/",
     "height": 38
    },
    "id": "btnBE896Fw9Z",
    "outputId": "d1033027-4b37-49cf-e86b-4db1fafdd531"
   },
   "outputs": [
    {
     "data": {
      "image/png": "[encoded data removed]",
      "text/latex": [
       "$\\displaystyle \\left( \\tau_{xy}, \\  \\tau_{xz}, \\  \\tau_{yz}, \\  \\gamma_{xy}, \\  \\gamma_{xz}, \\  \\gamma_{yz}\\right)$"
      ],
      "text/plain": [
       "(τ_xy, τ_xz, τ_yz, γ_xy, γ_xz, γ_yz)"
      ]
     },
     "execution_count": 5,
     "metadata": {},
     "output_type": "execute_result"
    }
   ],
   "source": [
    "txy, txz, tyz  = symbols(\"  tau_xy   tau_xz   tau_yz\")\n",
    "gxy, gxz, gyz  = symbols(\"gamma_xy gamma_xz gamma_yz\")\n",
    "\n",
    "txy, txz, tyz, gxy, gxz, gyz"
   ]
  },
  {
   "cell_type": "markdown",
   "metadata": {
    "id": "iaD4_d8eF9Wy"
   },
   "source": [
    "Definimos la dilatación cúbica ```e``` que viene dada por la ecuación (<font color='blue'>7</font>):\n"
   ]
  },
  {
   "cell_type": "code",
   "execution_count": 6,
   "metadata": {
    "colab": {
     "base_uri": "https://localhost:8080/",
     "height": 38
    },
    "id": "6hD_xVVHF7Tn",
    "outputId": "c6eac37e-d935-4185-d69e-5b1980ec1fed"
   },
   "outputs": [],
   "source": [
    "e = ex + ey + ez"
   ]
  },
  {
   "cell_type": "markdown",
   "metadata": {
    "id": "tgQs1dw6GB8D"
   },
   "source": [
    "Definimos las constantes de Lamé ```lamb``` ($\\lambda$) y ```G``` (G), que vienen dadas por las ecuaciones (<font color='blue'>8</font>) y (<font color='blue'>9</font>), respectivamente:"
   ]
  },
  {
   "cell_type": "code",
   "execution_count": 7,
   "metadata": {
    "colab": {
     "base_uri": "https://localhost:8080/",
     "height": 58
    },
    "id": "CUx7ZsfxF_zd",
    "outputId": "448241dd-6fcd-4c27-88e0-96dc7368a2d2"
   },
   "outputs": [],
   "source": [
    "lamb = nu*E / ((1+nu)*(1-2*nu))\n",
    "G = E / (2 * (1+nu))"
   ]
  },
  {
   "cell_type": "markdown",
   "metadata": {
    "id": "7Sv252D1GNhF"
   },
   "source": [
    "Definimos las ecuaciones de Lamé, que vienen dadas por las ecuaciones (<font color='blue'>4</font>), (<font color='blue'>5</font>), (<font color='blue'>6</font>) y por las ecuaciones:\n",
    "\n",
    "$\\tau_{xy}=G\\gamma_{xy}$\n",
    "\n",
    "$\\tau_{xz}=G\\gamma_{xz}$\n",
    "\n",
    "$\\tau_{yz}=G\\gamma_{yz}$"
   ]
  },
  {
   "cell_type": "code",
   "execution_count": 8,
   "metadata": {
    "id": "b30m4rRQGEvt"
   },
   "outputs": [],
   "source": [
    "sx = lamb*e + 2*G*ex\n",
    "sy = lamb*e + 2*G*ey\n",
    "sz = lamb*e + 2*G*ez\n",
    "txy = G*gxy\n",
    "txz = G*gxz\n",
    "tyz = G*gyz"
   ]
  },
  {
   "cell_type": "markdown",
   "metadata": {
    "id": "y-YcCDx6GTUJ"
   },
   "source": [
    "Despejamos la matriz constitutiva $\\underline{\\underline{D}}$ para el caso isótropo con la función```sympy.linear_eq_to_matrix()```:"
   ]
  },
  {
   "cell_type": "code",
   "execution_count": 9,
   "metadata": {
    "colab": {
     "base_uri": "https://localhost:8080/",
     "height": 153
    },
    "id": "_cnRUzH9GQ3e",
    "outputId": "4286b3ff-a14c-4bd8-91b7-5d3f743a40f4",
    "scrolled": true
   },
   "outputs": [
    {
     "data": {
      "image/png": "[encoded data removed]",
      "text/latex": [
       "$\\displaystyle \\left[\\begin{matrix}\\frac{E \\left(\\nu - 1\\right)}{\\left(\\nu + 1\\right) \\left(2 \\nu - 1\\right)} & - \\frac{E \\nu}{\\left(\\nu + 1\\right) \\left(2 \\nu - 1\\right)} & - \\frac{E \\nu}{\\left(\\nu + 1\\right) \\left(2 \\nu - 1\\right)} & 0 & 0 & 0\\\\- \\frac{E \\nu}{\\left(\\nu + 1\\right) \\left(2 \\nu - 1\\right)} & \\frac{E \\left(\\nu - 1\\right)}{\\left(\\nu + 1\\right) \\left(2 \\nu - 1\\right)} & - \\frac{E \\nu}{\\left(\\nu + 1\\right) \\left(2 \\nu - 1\\right)} & 0 & 0 & 0\\\\- \\frac{E \\nu}{\\left(\\nu + 1\\right) \\left(2 \\nu - 1\\right)} & - \\frac{E \\nu}{\\left(\\nu + 1\\right) \\left(2 \\nu - 1\\right)} & \\frac{E \\left(\\nu - 1\\right)}{\\left(\\nu + 1\\right) \\left(2 \\nu - 1\\right)} & 0 & 0 & 0\\\\0 & 0 & 0 & \\frac{E}{2 \\left(\\nu + 1\\right)} & 0 & 0\\\\0 & 0 & 0 & 0 & \\frac{E}{2 \\left(\\nu + 1\\right)} & 0\\\\0 & 0 & 0 & 0 & 0 & \\frac{E}{2 \\left(\\nu + 1\\right)}\\end{matrix}\\right]$"
      ],
      "text/plain": [
       "⎡    E⋅(ν - 1)            -E⋅ν               -E⋅ν                             \n",
       "⎢─────────────────  ─────────────────  ─────────────────      0          0    \n",
       "⎢(ν + 1)⋅(2⋅ν - 1)  (ν + 1)⋅(2⋅ν - 1)  (ν + 1)⋅(2⋅ν - 1)                      \n",
       "⎢                                                                             \n",
       "⎢      -E⋅ν             E⋅(ν - 1)            -E⋅ν                             \n",
       "⎢─────────────────  ─────────────────  ─────────────────      0          0    \n",
       "⎢(ν + 1)⋅(2⋅ν - 1)  (ν + 1)⋅(2⋅ν - 1)  (ν + 1)⋅(2⋅ν - 1)                      \n",
       "⎢                                                                             \n",
       "⎢      -E⋅ν               -E⋅ν             E⋅(ν - 1)                          \n",
       "⎢─────────────────  ─────────────────  ─────────────────      0          0    \n",
       "⎢(ν + 1)⋅(2⋅ν - 1)  (ν + 1)⋅(2⋅ν - 1)  (ν + 1)⋅(2⋅ν - 1)                      \n",
       "⎢                                                                             \n",
       "⎢                                                             E               \n",
       "⎢        0                  0                  0          ─────────      0    \n",
       "⎢                                                         2⋅(ν + 1)           \n",
       "⎢                                                                             \n",
       "⎢                                                                        E    \n",
       "⎢        0                  0                  0              0      ─────────\n",
       "⎢                                                                    2⋅(ν + 1)\n",
       "⎢                                                                             \n",
       "⎢                                                                             \n",
       "⎢        0                  0                  0              0          0    \n",
       "⎣                                                                             \n",
       "\n",
       "           ⎤\n",
       "      0    ⎥\n",
       "           ⎥\n",
       "           ⎥\n",
       "           ⎥\n",
       "      0    ⎥\n",
       "           ⎥\n",
       "           ⎥\n",
       "           ⎥\n",
       "      0    ⎥\n",
       "           ⎥\n",
       "           ⎥\n",
       "           ⎥\n",
       "      0    ⎥\n",
       "           ⎥\n",
       "           ⎥\n",
       "           ⎥\n",
       "      0    ⎥\n",
       "           ⎥\n",
       "           ⎥\n",
       "      E    ⎥\n",
       "  ─────────⎥\n",
       "  2⋅(ν + 1)⎦"
      ]
     },
     "execution_count": 9,
     "metadata": {},
     "output_type": "execute_result"
    }
   ],
   "source": [
    "D = linear_eq_to_matrix([sx, sy, sz, tyz, txz, txy], \n",
    "                        [ex, ey, ez, gyz, gxz, gxy])[0]\n",
    "simplify(D)"
   ]
  },
  {
   "cell_type": "markdown",
   "metadata": {
    "id": "SKkdMWmWGaZF"
   },
   "source": [
    "Podemos factorizar $\\displaystyle\\frac{E}{1+\\nu}$, obteniendo:"
   ]
  },
  {
   "cell_type": "code",
   "execution_count": 10,
   "metadata": {},
   "outputs": [
    {
     "data": {
      "image/png": "[encoded data removed]",
      "text/latex": [
       "$\\displaystyle \\left[\\begin{matrix}\\frac{\\nu - 1}{2 \\nu - 1} & - \\frac{\\nu}{2 \\nu - 1} & - \\frac{\\nu}{2 \\nu - 1} & 0 & 0 & 0\\\\- \\frac{\\nu}{2 \\nu - 1} & \\frac{\\nu - 1}{2 \\nu - 1} & - \\frac{\\nu}{2 \\nu - 1} & 0 & 0 & 0\\\\- \\frac{\\nu}{2 \\nu - 1} & - \\frac{\\nu}{2 \\nu - 1} & \\frac{\\nu - 1}{2 \\nu - 1} & 0 & 0 & 0\\\\0 & 0 & 0 & \\frac{1}{2} & 0 & 0\\\\0 & 0 & 0 & 0 & \\frac{1}{2} & 0\\\\0 & 0 & 0 & 0 & 0 & \\frac{1}{2}\\end{matrix}\\right]$"
      ],
      "text/plain": [
       "⎡ ν - 1     -ν       -ν                  ⎤\n",
       "⎢───────  ───────  ───────   0    0    0 ⎥\n",
       "⎢2⋅ν - 1  2⋅ν - 1  2⋅ν - 1               ⎥\n",
       "⎢                                        ⎥\n",
       "⎢  -ν      ν - 1     -ν                  ⎥\n",
       "⎢───────  ───────  ───────   0    0    0 ⎥\n",
       "⎢2⋅ν - 1  2⋅ν - 1  2⋅ν - 1               ⎥\n",
       "⎢                                        ⎥\n",
       "⎢  -ν       -ν      ν - 1                ⎥\n",
       "⎢───────  ───────  ───────   0    0    0 ⎥\n",
       "⎢2⋅ν - 1  2⋅ν - 1  2⋅ν - 1               ⎥\n",
       "⎢                                        ⎥\n",
       "⎢   0        0        0     1/2   0    0 ⎥\n",
       "⎢                                        ⎥\n",
       "⎢   0        0        0      0   1/2   0 ⎥\n",
       "⎢                                        ⎥\n",
       "⎣   0        0        0      0    0   1/2⎦"
      ]
     },
     "execution_count": 10,
     "metadata": {},
     "output_type": "execute_result"
    }
   ],
   "source": [
    "simplify(D / (E/(1+nu)))"
   ]
  },
  {
   "cell_type": "markdown",
   "metadata": {
    "id": "7bRv5xGMIS7r"
   },
   "source": [
    "**Nota:** Podrá pensar que el resultado es el negativo de lo que debería ser, pero no lo es, simplemente debe factorizar (-1) de los términos fraccionarios asociados a los esfuerzos normales."
   ]
  },
  {
   "cell_type": "markdown",
   "metadata": {},
   "source": [
    "Finalmente, la ley de Hooke generalizada para materiales isótropos en forma matricial es:\n",
    "\n",
    "$$\\underbrace{\\left[\\begin{matrix} \\sigma_x\\\\ \\sigma_y\\\\ \\sigma_z\\\\ \\tau_{yz}\\\\ \\tau_{xz}\\\\ \\tau_{xy}\\\\\\end{matrix}\\right]}_{\\displaystyle\\underline{\\sigma}}\n",
    "=\\underbrace{\\displaystyle\\frac{E}{1+\\nu}\n",
    "\\left[\\begin{matrix}\n",
    "\\frac{1-\\nu}{1-2\\nu} & \\frac{\\nu}{1-2\\nu}   &   \\frac{\\nu}{1-2\\nu} &           0 &           0 & 0\\\\\n",
    "\\frac{\\nu}{1-2\\nu}   & \\frac{1-\\nu}{1-2\\nu} &   \\frac{\\nu}{1-2\\nu} &           0 &           0 & 0\\\\\n",
    "\\frac{\\nu}{1-2\\nu}   & \\frac{\\nu}{1-2\\nu}   & \\frac{1-\\nu}{1-2\\nu} &           0 &           0 & 0\\\\\n",
    "                        0 &                         0 &                         0 & \\frac{1}{2} &           0 & 0\\\\\n",
    "                        0 &                         0 &                         0 &           0 & \\frac{1}{2} & 0\\\\\n",
    "                        0 &                         0 &                         0 &           0 &           0 & \\frac{1}{2}\n",
    "\\end{matrix}\\right]}_{\\displaystyle\\underline{\\underline{D}}}\n",
    "\\underbrace{\\left[\\begin{matrix} \\varepsilon_x\\\\ \\varepsilon_y\\\\ \\varepsilon_z\\\\ \\gamma_{yz}\\\\ \\gamma_{xz}\\\\ \\gamma_{xy}\\\\\\end{matrix}\\right]}_{\\displaystyle\\underline{\\varepsilon}}$$"
   ]
  }
 ],
 "metadata": {
  "colab": {
   "authorship_tag": "ABX9TyOsOvDSLbrIfUPtlfnq3r14",
   "collapsed_sections": [],
   "include_colab_link": true,
   "name": "04_03_03.ipynb",
   "provenance": []
  },
  "kernelspec": {
   "display_name": "Python 3",
   "language": "python",
   "name": "python3"
  },
  "language_info": {
   "codemirror_mode": {
    "name": "ipython",
    "version": 3
   },
   "file_extension": ".py",
   "mimetype": "text/x-python",
   "name": "python",
   "nbconvert_exporter": "python",
   "pygments_lexer": "ipython3",
   "version": "3.8.8"
  }
 },
 "nbformat": 4,
 "nbformat_minor": 1
}
