{
 "cells": [
  {
   "cell_type": "markdown",
   "id": "557ae6fc",
   "metadata": {},
   "source": [
    "<a href=\"https://colab.research.google.com/github/jnramirezg/medio_continuo/blob/main/codigo/06-esf_dir_pples_interactivo.ipynb\" target=\"_parent\"><img src=\"https://colab.research.google.com/assets/colab-badge.svg\" alt=\"Open In Colab\"/></a>"
   ]
  },
  {
   "cell_type": "markdown",
   "id": "2f3d4b94",
   "metadata": {},
   "source": [
    "# 06-Esfuerzos y direcciones principales interactivo\n",
    "\n",
    "|Quién | Fecha | Qué hizo |\n",
    "| ---  | ---   | ---      |\n",
    "|Juan Nicolás Ramírez, <jnramirez@unal.edu.co> | 2022-09-15 | Redacción principal del código|"
   ]
  },
  {
   "cell_type": "code",
   "execution_count": 1,
   "id": "92838c05",
   "metadata": {},
   "outputs": [],
   "source": [
    "from numpy import array, arctan, sin, cos, pi, ones, rad2deg, linspace, isclose\n",
    "import numpy.linalg as LA\n",
    "from matplotlib.pyplot import  plot, show, text, axis, subplots\n",
    "from matplotlib.patches import Polygon\n",
    "from ipywidgets import interact "
   ]
  },
  {
   "cell_type": "code",
   "execution_count": 2,
   "id": "5cbc2979",
   "metadata": {},
   "outputs": [],
   "source": [
    "def graf_dir_principales(sx, sy, txy):\n",
    "    # Función que dibuja textos y flechas.\n",
    "    def flecha_texto(xyf, xyt, var, colorf=\"r\", colort=\"r\"):\n",
    "        xyt = array(xyt)\n",
    "        if var < 0: xyf1, xyf2 = array(xyf)[1], array(xyf)[0]\n",
    "        else:       xyf1, xyf2 = array(xyf)[0], array(xyf)[1]\n",
    "        ax.annotate(\"\", xy=(xyf1), xytext=(xyf2),\n",
    "                    arrowprops=dict(arrowstyle=\"->\", color=colorf))\n",
    "        text(xyt[0], xyt[1], abs(round(var, 2)), color=colort)\n",
    "\n",
    "    # Funcióm para ajuste numérico del gráfico.\n",
    "    ajuste     = lambda n,dx,dy:array([ones(n)*dx, ones(n)*dy]).T\n",
    "    # Fun. para dibujar lineas punteadas negras.\n",
    "    dibujo_eje = lambda x, y: plot(x, y, \"--k\", linewidth=1)\n",
    "    # Función para dibujar un rectángulo.\n",
    "    rectang = lambda xy: ax.add_patch(Polygon( xy, alpha=1, facecolor='aliceblue',\n",
    "                                              edgecolor='b', linewidth=2))\n",
    "    txt_vec_n = lambda n: f\"[{round(-n[0],2)}, {round(-n[1],2)}\"+r\"$]^{T}$\"\n",
    "    txt_ang_t = lambda t: f\"{abs(round(rad2deg(t),1))}°\"\n",
    "\n",
    "    sigma = array([[sx,  txy],   # Matriz de tensiones.\n",
    "                   [txy,  sy]])\n",
    "\n",
    "    valp, vecp = LA.eig(sigma)          # Cálculo de valores y vectores propios.\n",
    "    s1, s2 = valp                       # Esfuerzos principales.\n",
    "    ng1, ng2  = vecp[:, 0], vecp[:, 1]  # Vects. unitarios en las dirs. 1 y 2.\n",
    "    t1 = arctan(ng1[1]/ng1[0])                # Ángulo dir. principal 1.\n",
    "    if ng2[0]==0: t2 = pi/2 - t1              # Ángulo dir. principal 2 opción 1.\n",
    "    else:         t2 = arctan(ng2[1]/ng2[0])  # Ángulo dir. principal 2 opción 2.\n",
    "    ta = linspace(t1, t2)                     # Puntos evaluación de los ángulos.\n",
    "\n",
    "    T = array([[cos(t1), -sin(t1)],   # Matriz trans. para la dir. principal 1.\n",
    "               [sin(t1),  cos(t1)]])\n",
    "\n",
    "    a, b = 5.0, 3.0  # Ancho y alto del rectángulo.\n",
    "    d = 1.5          # Longitud flecha de los esfuerzos.\n",
    "    ca, cb, cd = a/2, b/2, d/2  # Valores medios ancho, largo y longitud de flecha.\n",
    "\n",
    "    cent  = array([ca, cb])  # Centro del rectángulo original.\n",
    "    centP = cent@T.T            # Centro del rectángulo transformado.\n",
    "    delta   = cent - centP      # Diferencia en la ubicación de los centros.\n",
    "    dx, dy  = 2.5*a + delta[0], delta[1]  # Ajuste x y y rectángulo transformado.\n",
    "    c2 = centP + ajuste(1, dx, dy)[0]     # Centro rectángulo trans. con ajuste.\n",
    "    vert  = array([[0,0],[0,b],[a,b],[a,0]])  # Vértices rectángulo original.\n",
    "    vertP = vert@T.T + ajuste(4, dx, dy)      # Vértices rectángulo transformado.\n",
    "\n",
    "    # Matrices información de la ubicación de las flechas y sus valores.\n",
    "    A = array([[[ a, cb], [ d+.5,    0], [ .5,  0], [  d-.2,    .2]],   # sx der.\n",
    "               [[ca,  b], [    0, d+.5], [  0, .5], [    .2,  d-.2]],   # sy sup.\n",
    "               [[ 0, cb], [-d-.5,    0], [-.5,  0], [ -d+.2,    .2]],   # sx izq.\n",
    "               [[ca,  0], [    0,-d-.5], [  0,-.5], [    .2, -d+.2]]])  # sy inf.\n",
    "    B = array([[[ a, cb], [   .4,   cd], [ .4,-cd], [    .3, cd+.1]],   # txy der.\n",
    "               [[ca,  b], [   cd,   .4], [-cd, .4], [ cd+.1,    .3]],   # txy sup.\n",
    "               [[ 0, cb], [  -.4,  -cd], [-.4, cd], [   -.9,-cd-.3]],   # txy izq.\n",
    "               [[ca,  0], [  -cd,  -.4], [ cd,-.4], [-cd-.6,   -.5]]])  # txy inf.      \n",
    "\n",
    "    # Matriz información: ajust posición valor, ajust posición ng, valor, texto ng.\n",
    "    F = [[[ 1.3, 0], [-.7, .5], s1, r\"$\\hat{n}_1$=\" + txt_vec_n(ng1)],  # ng1(+).\n",
    "         [[ 0.4,.2], [ .5, .5], s2, r\"$\\hat{n}_2$=\" + txt_vec_n(ng2)],  # ng2(+).\n",
    "         [[-1.5, 0], [-.9, .7], s1,                   txt_vec_n(ng1)],  # ng1(-).       \n",
    "         [[ 0.5, 0], [-.7,-.9], s2,                   txt_vec_n(ng2)]]  # ng2(-).\n",
    "\n",
    "    S, U= [sx, sy, sx, sy], [txy, txy, txy, txy]  # Auxiliar de almacenamiento.\n",
    "\n",
    "    # Inicio de gráfica principal.\n",
    "    fig, ax = subplots(figsize=(25/2, 11/2))  # Definición del tamaño del lienzo.\n",
    "\n",
    "    dibujo_eje([c2[0],         c2[0]+5], [c2[1],           c2[1]])  # Dib. eje x.\n",
    "    dibujo_eje([c2[0], c2[0]+4*cos(t1)], [c2[1], c2[1]+4*sin(t1)])  # Dib. dir 1.\n",
    "    dibujo_eje([c2[0], c2[0]+3*cos(t2)], [c2[1], c2[1]+3*sin(t2)])  # Dib. dir 2.\n",
    "    plot(c2[0] + 3*cos(ta), c2[1] + 3*sin(ta),\"-k\", linewidth=0.6)  # Dib. ángulos.\n",
    "    rectang(vert)   # Dibujo de rectángulo original.\n",
    "    rectang(vertP)  # Dibujo de rectángulo transformado.\n",
    "\n",
    "    for i in range(len(A)): # Dibujo de las flechas y los valores.\n",
    "        # Rectangulo original: esfuerzos axiales.\n",
    "        xy_f = [A[i][0]+A[i][1], A[i][0]+A[i][2]]   # Coord. flechas.\n",
    "        xy_t = A[i][0]+A[i][3]                      # Coord. textos.\n",
    "        flecha_texto(xy_f, xy_t, S[i], colort='k')  # Flechas y textos.\n",
    "        # Rectangulo original: esfuerzos tangenciales.\n",
    "        xy_f = [B[i][0]+B[i][1], B[i][0]+B[i][2]]   # Coord. flechas.\n",
    "        xy_t = B[i][0]+B[i][3]                      # Coord. textos.\n",
    "        flecha_texto(xy_f, xy_t, U[i], colort='k')  # Flechas y textos.\n",
    "        # Rectángulo transformado: esfuerzos principales.\n",
    "        # Coordenadas flechas transformdas.\n",
    "        xy_f = array([A[i][0]+A[i][1], A[i][0]+A[i][2]*0.5])@T.T + ajuste(2,dx,dy)\n",
    "        # Coordenadas textos transformadas.\n",
    "        xy_t = (A[i][0]+A[i][3]+ F[i][0])@T.T + ajuste(1, dx, dy)[0]\n",
    "        # Flechas de las direcciones principales, sus valores y sus vectores ng.\n",
    "        flecha_texto(xy_f, xy_t,  F[i][2])\n",
    "        # Textos de los vectores ng.\n",
    "        text(xy_t[0]+F[i][1][0], xy_t[1]+F[i][1][1], F[i][3], color=\"k\")\n",
    "\n",
    "    # Impresión del valor de los ángulos t1 y t2.\n",
    "    nul1, nul2 = 1, 1  # Anulan cálculo con condición, inicialmente no hacen nada.\n",
    "    if isclose(t1, 0):   nul1 =0  # Si t1 es cero, entonces cero1 anula su texto.\n",
    "    elif isclose(t2, 0): nul2 =0  # Si t2 es cero, entonces cero1 anula su texto.\n",
    "    text((c2[0]+3*cos(t1/2)+.2)*nul1, c2[1]+3*sin(t1/2)-.1, txt_ang_t(t1)*nul1)\n",
    "    text((c2[0]+3*cos(t2/2)+.2)*nul2, c2[1]+3*sin(t2/2)-.1, txt_ang_t(t2)*nul2)\n",
    "\n",
    "    ax.set_xlim(-3, 22)  # Límites del eje x.\n",
    "    ax.set_ylim(-3,  8)  # Límites del eje y.\n",
    "    axis('off')          # No mostrar ejes.\n",
    "    show()               # Mostrar gráfica."
   ]
  },
  {
   "cell_type": "code",
   "execution_count": 3,
   "id": "04705c57",
   "metadata": {
    "scrolled": false
   },
   "outputs": [
    {
     "data": {
      "application/vnd.jupyter.widget-view+json": {
       "model_id": "e77e18240bdc43489efe7c9f7dd92f63",
       "version_major": 2,
       "version_minor": 0
      },
      "text/plain": [
       "interactive(children=(FloatSlider(value=3.0, description='sx', max=11.0, min=-5.0, step=0.5), FloatSlider(valu…"
      ]
     },
     "metadata": {},
     "output_type": "display_data"
    }
   ],
   "source": [
    "interact(graf_dir_principales, sx  = (-5, 11, 0.5), sy  = (-6, 10, 0.5), txy = (-12, 4, 0.5))\n",
    "None"
   ]
  }
 ],
 "metadata": {
  "kernelspec": {
   "display_name": "Python 3",
   "language": "python",
   "name": "python3"
  },
  "language_info": {
   "codemirror_mode": {
    "name": "ipython",
    "version": 3
   },
   "file_extension": ".py",
   "mimetype": "text/x-python",
   "name": "python",
   "nbconvert_exporter": "python",
   "pygments_lexer": "ipython3",
   "version": "3.8.8"
  }
 },
 "nbformat": 4,
 "nbformat_minor": 5
}
