{
 "cells": [
  {
   "cell_type": "markdown",
   "metadata": {
    "colab_type": "text",
    "id": "view-in-github"
   },
   "source": [
    "<a href=\"https://colab.research.google.com/github/jnramirezg/medio_continuo/blob/main/codigo/18-(4_3_2)-modulo_cortante.ipynb\" target=\"_parent\"><img src=\"https://colab.research.google.com/assets/colab-badge.svg\" alt=\"Open In Colab\"/></a>"
   ]
  },
  {
   "cell_type": "markdown",
   "metadata": {
    "id": "9uHmKa6oMc6N"
   },
   "source": [
    "# 18. Deformación de un sólido sometido a esfuerzos tangenciales (sección 4.3.2.)\n",
    "|Quién | Fecha | Qué hizo |\n",
    "| ---  | ---   | ---      |\n",
    "|Michael Heredia Pérez, <mherediap@unal.edu.co> | 2022-07-19| Conversión de código de MAXIMA a Python|\n",
    "|Juan Nicolás Ramírez, <jnramirezg@unal.edu.co> | 2022-09-25 | Adecuando código a particularidades pedagógicas|"
   ]
  },
  {
   "cell_type": "markdown",
   "metadata": {
    "id": "OzKuIq73Rbyg"
   },
   "source": [
    "Importamos las funciones de librería simbólica ```sympy```:"
   ]
  },
  {
   "cell_type": "code",
   "execution_count": 1,
   "metadata": {
    "id": "Uxf_0x1SMOAO"
   },
   "outputs": [],
   "source": [
    "from sympy import *"
   ]
  },
  {
   "cell_type": "markdown",
   "metadata": {
    "id": "QZRqayP0QdX6"
   },
   "source": [
    "Definimos en escritura $\\LaTeX$ nuestras variables simbólicas:"
   ]
  },
  {
   "cell_type": "code",
   "execution_count": 2,
   "metadata": {
    "colab": {
     "base_uri": "https://localhost:8080/",
     "height": 38
    },
    "id": "8czbb7eoQcy7",
    "outputId": "fa7fa923-a408-400c-a8db-5884e31e11fb"
   },
   "outputs": [],
   "source": [
    "tau, nu, gamma = symbols(\"tau nu gamma\")\n",
    "E = symbols(\"E\")"
   ]
  },
  {
   "cell_type": "markdown",
   "metadata": {
    "id": "wF8GozW1THdc"
   },
   "source": [
    "Del <font color='blue'>main.pdf</font> tomamos las siguientes ecuaciones:\n",
    "\n",
    "$ \\displaystyle\\varepsilon_x=-\\frac{\\tau(1+\\nu)}{E}$ (<font color='blue'>1</font>)\n",
    "\n",
    "$ \\displaystyle\\varepsilon_y=\\frac{\\tau(1+\\nu)}{E}$ (<font color='blue'>2</font>)\n",
    "\n",
    "$\\displaystyle\\frac{1-\\frac{\\gamma}{2}}{1+\\frac{\\gamma}{2}} = \\frac{1+\\varepsilon_x}{1+\\varepsilon_y}$ (<font color='blue'>3</font>)\n"
   ]
  },
  {
   "cell_type": "code",
   "execution_count": 3,
   "metadata": {
    "colab": {
     "base_uri": "https://localhost:8080/",
     "height": 58
    },
    "id": "QOzqFzI5RDP0",
    "outputId": "2853f6d1-8977-4163-9d95-d91e9dece09f"
   },
   "outputs": [],
   "source": [
    "ex = -tau*(1+nu)/E  # Ec. 1\n",
    "ey =  tau*(1+nu)/E  # Ec. 2"
   ]
  },
  {
   "cell_type": "markdown",
   "metadata": {
    "id": "DS3Fqi6RUWwS"
   },
   "source": [
    "Remplazamos en la (<font color='blue'>3</font>) las ecuaciones (<font color='blue'>1</font>) y (<font color='blue'>2</font>). Y de allí, despejamos $\\tau$, teniendo en cuenta que para usar la función ```sympy.solve()``` es necesario tener la ecuación igualada a cero (0).\n",
    "\n",
    "$\\displaystyle\\frac{1-\\frac{\\gamma}{2}}{1+\\frac{\\gamma}{2}} = \\frac{1+\\varepsilon_x}{1+\\varepsilon_y} \\rightarrow \\frac{1-\\frac{\\gamma}{2}}{1+\\frac{\\gamma}{2}} - \\frac{1+\\varepsilon_x}{1+\\varepsilon_y} = 0  $\n",
    "\n",
    "Calculando $\\tau$:"
   ]
  },
  {
   "cell_type": "code",
   "execution_count": 4,
   "metadata": {
    "colab": {
     "base_uri": "https://localhost:8080/",
     "height": 56
    },
    "id": "ZMWXeFTET_3e",
    "outputId": "e5d7178a-ae4d-4a3f-8dd7-9bcea2151657"
   },
   "outputs": [
    {
     "data": {
      "text/latex": [
       "$\\displaystyle \\frac{E \\gamma}{2 \\left(\\nu + 1\\right)}$"
      ],
      "text/plain": [
       "E*gamma/(2*(nu + 1))"
      ]
     },
     "execution_count": 4,
     "metadata": {},
     "output_type": "execute_result"
    }
   ],
   "source": [
    "solve((1-gamma/2)/(1+gamma/2) - (1+ex)/(1+ey), tau)[0]"
   ]
  },
  {
   "cell_type": "markdown",
   "metadata": {},
   "source": [
    "Por lo tanto, \n",
    "\n",
    "$$\\tau=\\displaystyle \\underbrace{\\frac{E}{2 \\left(\\nu + 1\\right)}}_G\\gamma$$"
   ]
  },
  {
   "cell_type": "markdown",
   "metadata": {
    "id": "b2A8IYMx2j9S"
   },
   "source": [
    "Esta expresión es la que relaciona la deformación angular $\\gamma$ con los esfuerzos cortantes aplicados sobre un sólido sometido a condiciones de esfuerzo cortante puro. Nos interesa definir la constante $G$:\n",
    "\n",
    "$$G:=\\displaystyle \\frac{E }{2 \\left(\\nu + 1\\right)}$$\n",
    "\n",
    "la cual se conoce como el *módulo de elasticidad tangencial* o *módulo de cortante*."
   ]
  }
 ],
 "metadata": {
  "colab": {
   "authorship_tag": "ABX9TyP8AYr1faRBNxl+OmLg0kxQ",
   "include_colab_link": true,
   "name": "04_03_02.ipynb",
   "provenance": []
  },
  "kernelspec": {
   "display_name": "Python 3",
   "language": "python",
   "name": "python3"
  },
  "language_info": {
   "codemirror_mode": {
    "name": "ipython",
    "version": 3
   },
   "file_extension": ".py",
   "mimetype": "text/x-python",
   "name": "python",
   "nbconvert_exporter": "python",
   "pygments_lexer": "ipython3",
   "version": "3.8.8"
  }
 },
 "nbformat": 4,
 "nbformat_minor": 1
}
