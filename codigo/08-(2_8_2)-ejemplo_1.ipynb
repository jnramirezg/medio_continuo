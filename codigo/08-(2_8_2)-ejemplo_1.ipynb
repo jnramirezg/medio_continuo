{
 "cells": [
  {
   "cell_type": "markdown",
   "metadata": {
    "colab_type": "text",
    "id": "view-in-github"
   },
   "source": [
    "<a href=\"https://colab.research.google.com/github/jnramirezg/mecanica_de_solidos/blob/main/codigo/08-(2_8_2)-ejemplo_1.ipynb\" target=\"_parent\"><img src=\"https://colab.research.google.com/assets/colab-badge.svg\" alt=\"Open In Colab\"/></a>"
   ]
  },
  {
   "cell_type": "markdown",
   "metadata": {
    "id": "EmIIUCONzP7n"
   },
   "source": [
    "# 08-Ejemplo 1 (sección 2.8.2)\n",
    "\n",
    "|Quién | Fecha | Qué hizo |\n",
    "| ---  | ---   | ---      |\n",
    "|Michael Heredia Pérez, <mherediap@unal.edu.co> | 2022-07-14 | Conversión de código de MAXIMA a Python|\n",
    "|Diego Andrés Alvarez, <daalvarez@unal.edu.co>  | 2022-09-13 | Mejorando los comentarios |\n",
    "|Juan Nicolás Ramírez, <jnramirezg@unal.edu.co> | 2022-09-18 | Agregando cálculos de esf. y dir. pples |\n",
    "|Juan Nicolás Ramírez, <jnramirezg@unal.edu.co> | 2022-09-19 | Adecuando y simplificando código |\n",
    "\n"
   ]
  },
  {
   "cell_type": "markdown",
   "metadata": {},
   "source": [
    "Consideremos un punto $P$ de un sólido sometido los esfuerzos:\n",
    "\n",
    "$\\sigma_x=1$ Pa, \n",
    "\n",
    "$\\sigma_y=3$ Pa,\n",
    "\n",
    "$\\sigma_z = \\tau_{xy} = \\tau_{xz} = 0$ Pa,\n",
    "\n",
    "$\\tau_{yz}= 2$ Pa.\n",
    "\n",
    "Se pide:\n",
    "\n",
    "* Plantear la matriz de tensiones $\\underline{\\underline{\\sigma}}$ correspondiente.\n",
    "* Calcular el polinomio característico asociado a $\\underline{\\underline{\\sigma}}$.\n",
    "* Calcular la dirección y magnitud de los esfuerzos principales."
   ]
  },
  {
   "cell_type": "markdown",
   "metadata": {},
   "source": [
    " Importamos algunas funciones necesarias de ```numpy``` e importamos el submódulo ```linalg``` de ```numpy``` (álgebra lineal)."
   ]
  },
  {
   "cell_type": "code",
   "execution_count": 1,
   "metadata": {
    "id": "zAmG_inly3EO"
   },
   "outputs": [],
   "source": [
    "from numpy import array, poly, roots, sort, arctan, rad2deg, cross, transpose\n",
    "import numpy.linalg as LA"
   ]
  },
  {
   "cell_type": "markdown",
   "metadata": {},
   "source": [
    "## Matriz de tensiones\n",
    "Definimos las componentes de esfuerzos dadas como variables numéricas:"
   ]
  },
  {
   "cell_type": "code",
   "execution_count": 2,
   "metadata": {},
   "outputs": [],
   "source": [
    "sx  = 1\n",
    "sy  = 3\n",
    "sz  = 0\n",
    "txy = 0\n",
    "txz = 0\n",
    "tyz = 2"
   ]
  },
  {
   "cell_type": "markdown",
   "metadata": {},
   "source": [
    "Definimos la matriz de tensiones $\\underline{\\underline{\\boldsymbol{\\sigma}}}$ en tres dimensiones:"
   ]
  },
  {
   "cell_type": "code",
   "execution_count": 3,
   "metadata": {},
   "outputs": [
    {
     "data": {
      "text/plain": [
       "array([[1, 0, 0],\n",
       "       [0, 3, 2],\n",
       "       [0, 2, 0]])"
      ]
     },
     "execution_count": 3,
     "metadata": {},
     "output_type": "execute_result"
    }
   ],
   "source": [
    "sigma = array([[sx,  txy, txz],\n",
    "               [txy,  sy, tyz],\n",
    "               [txz, tyz,  sz]])\n",
    "sigma"
   ]
  },
  {
   "cell_type": "markdown",
   "metadata": {},
   "source": [
    "## Polinomio característico\n",
    "\n",
    "Obtenemos los coeficientes del polinomio característico mediante ```numpy.poly()```:"
   ]
  },
  {
   "cell_type": "code",
   "execution_count": 4,
   "metadata": {
    "scrolled": true
   },
   "outputs": [
    {
     "data": {
      "text/plain": [
       "array([ 1., -4., -1.,  4.])"
      ]
     },
     "execution_count": 4,
     "metadata": {},
     "output_type": "execute_result"
    }
   ],
   "source": [
    "poly(sigma)"
   ]
  },
  {
   "cell_type": "markdown",
   "metadata": {},
   "source": [
    "Pero como el polinomio que definimos en el <font color='blue'>main.pdf</font> tiene la forma $-\\sigma_n^3+I_1\\sigma_n^2-I_2\\sigma_n+I_3 = 0$, multiplicamos por -1:"
   ]
  },
  {
   "cell_type": "code",
   "execution_count": 5,
   "metadata": {},
   "outputs": [
    {
     "data": {
      "text/plain": [
       "array([-1.,  4.,  1., -4.])"
      ]
     },
     "execution_count": 5,
     "metadata": {},
     "output_type": "execute_result"
    }
   ],
   "source": [
    "-poly(sigma)"
   ]
  },
  {
   "cell_type": "markdown",
   "metadata": {},
   "source": [
    "Lo interpretamos como:\n",
    "$$-\\sigma_n^3+ 4\\sigma_n^2 + \\sigma_n -4=0$$\n",
    "\n",
    "Así, los invariantes de esfuerzos son $I_1 =4Pa$, $I_2=-1Pa^2$ y $I_3=-4Pa^3$."
   ]
  },
  {
   "cell_type": "markdown",
   "metadata": {},
   "source": [
    "Y mediante la función ```numpy.roots()``` calculamos la raíces del polinomio característico, es decir, los esfuerzos principales:"
   ]
  },
  {
   "cell_type": "code",
   "execution_count": 6,
   "metadata": {},
   "outputs": [
    {
     "data": {
      "text/plain": [
       "array([ 4., -1.,  1.])"
      ]
     },
     "execution_count": 6,
     "metadata": {},
     "output_type": "execute_result"
    }
   ],
   "source": [
    "roots(poly(sigma))"
   ]
  },
  {
   "cell_type": "markdown",
   "metadata": {},
   "source": [
    "No olvidar que debemos garantizar por definición en el <font color='blue'>main.pdf</font> que:\n",
    "$$\\sigma_1 \\geq \\sigma_2 \\geq \\sigma_3$$\n",
    "\n",
    "Por lo que a la hora de definir los esfuerzos principales en variables ```s1```, ```s2``` y ```s3``` debemos prestar atención."
   ]
  },
  {
   "cell_type": "markdown",
   "metadata": {},
   "source": [
    "## Esfuerzos y direcciones principales"
   ]
  },
  {
   "cell_type": "markdown",
   "metadata": {},
   "source": [
    "Sin embargo, hay una forma directa de calcular los valores propios (esfuerzos principales) en ```numpy.linalg```, que llamamos ```LA```.\n",
    "\n",
    "Para el cálculo de las direcciones, se requieren los vectores propios de la matriz $\\underline{\\underline{\\sigma}}$. Usamos la función ```LA.eigh()``` que calcula tanto los valores ```valp``` como los vectores propios ```vecp```:"
   ]
  },
  {
   "cell_type": "code",
   "execution_count": 7,
   "metadata": {},
   "outputs": [],
   "source": [
    "valp, vecp = LA.eigh(-sigma)  # Ponemos -sigma para que los valores propios queden ordenados de mayor a menor."
   ]
  },
  {
   "cell_type": "markdown",
   "metadata": {},
   "source": [
    "Los valores propios representan la magnitud de los esfuerzos principales $\\sigma_1$ , $\\sigma_2$ y $\\sigma_3$:"
   ]
  },
  {
   "cell_type": "code",
   "execution_count": 8,
   "metadata": {
    "scrolled": true
   },
   "outputs": [
    {
     "data": {
      "text/plain": [
       "array([-4., -1.,  1.])"
      ]
     },
     "execution_count": 8,
     "metadata": {},
     "output_type": "execute_result"
    }
   ],
   "source": [
    "valp"
   ]
  },
  {
   "cell_type": "markdown",
   "metadata": {},
   "source": [
    "Almacenamos en memoria como ```s1```, ```s2``` y ```s3```, teniendo en cuenta que $\\sigma_1 \\geq \\sigma_2 \\geq \\sigma_3$, o sea, $\\sigma_1 = 4$Pa, $\\sigma_2 = 1$Pa y $\\sigma_3 = -1$Pa."
   ]
  },
  {
   "cell_type": "code",
   "execution_count": 9,
   "metadata": {},
   "outputs": [],
   "source": [
    "s1, s2, s3 = valp"
   ]
  },
  {
   "cell_type": "code",
   "execution_count": 10,
   "metadata": {
    "scrolled": false
   },
   "outputs": [
    {
     "data": {
      "text/plain": [
       "array([[-0.        ,  1.        ,  0.        ],\n",
       "       [-0.89442719,  0.        ,  0.4472136 ],\n",
       "       [-0.4472136 ,  0.        , -0.89442719]])"
      ]
     },
     "execution_count": 10,
     "metadata": {},
     "output_type": "execute_result"
    }
   ],
   "source": [
    "vecp"
   ]
  },
  {
   "cell_type": "markdown",
   "metadata": {},
   "source": [
    "Por lo que si transportenos la matriz ```vecp``` obtenemos en cada fila las direcciones principales."
   ]
  },
  {
   "cell_type": "code",
   "execution_count": 11,
   "metadata": {},
   "outputs": [],
   "source": [
    "ng1 = vecp.T[0]\n",
    "ng2 = vecp.T[1]\n",
    "ng3 = vecp.T[2]"
   ]
  },
  {
   "cell_type": "code",
   "execution_count": 12,
   "metadata": {},
   "outputs": [
    {
     "data": {
      "text/plain": [
       "0.9999999999999999"
      ]
     },
     "execution_count": 12,
     "metadata": {},
     "output_type": "execute_result"
    }
   ],
   "source": [
    "LA.norm(ng1)"
   ]
  },
  {
   "cell_type": "code",
   "execution_count": 13,
   "metadata": {},
   "outputs": [
    {
     "data": {
      "text/plain": [
       "1.0"
      ]
     },
     "execution_count": 13,
     "metadata": {},
     "output_type": "execute_result"
    }
   ],
   "source": [
    "LA.norm(ng2)"
   ]
  },
  {
   "cell_type": "code",
   "execution_count": 14,
   "metadata": {},
   "outputs": [
    {
     "data": {
      "text/plain": [
       "0.9999999999999999"
      ]
     },
     "execution_count": 14,
     "metadata": {},
     "output_type": "execute_result"
    }
   ],
   "source": [
    "LA.norm(ng3)"
   ]
  },
  {
   "cell_type": "markdown",
   "metadata": {},
   "source": [
    "Los vectores propios representan las direcciones $\\underline{\\hat{n_1}}$ y $\\underline{\\hat{n_2}}$ de los esfuerzos principales:\n"
   ]
  },
  {
   "cell_type": "code",
   "execution_count": 15,
   "metadata": {
    "scrolled": true
   },
   "outputs": [
    {
     "data": {
      "text/plain": [
       "array([ 0.        , -0.4472136 ,  0.89442719])"
      ]
     },
     "execution_count": 15,
     "metadata": {},
     "output_type": "execute_result"
    }
   ],
   "source": [
    "cross(ng1, ng2)"
   ]
  },
  {
   "cell_type": "code",
   "execution_count": 16,
   "metadata": {},
   "outputs": [
    {
     "data": {
      "text/plain": [
       "array([ 0.        ,  0.4472136 , -0.89442719])"
      ]
     },
     "execution_count": 16,
     "metadata": {},
     "output_type": "execute_result"
    }
   ],
   "source": [
    "ng3"
   ]
  },
  {
   "cell_type": "markdown",
   "metadata": {
    "id": "yQfKLGCszgpS"
   },
   "source": [
    "## Verificación del sistema de coordenadas de la mano derecha\n",
    "\n",
    "En MAXIMA se trabaja con la librería ```vect``` que define el producto cruz como la combinación del operador ```~``` y la función ```express()```; sin embargo en numpy basta con emplear la función ```numpy.cross```."
   ]
  },
  {
   "cell_type": "code",
   "execution_count": 21,
   "metadata": {
    "id": "WU9PPeRczfat"
   },
   "outputs": [
    {
     "data": {
      "text/plain": [
       "array([ 0.        , -0.4472136 ,  0.89442719])"
      ]
     },
     "execution_count": 21,
     "metadata": {},
     "output_type": "execute_result"
    }
   ],
   "source": [
    "cross(ng1, ng2)"
   ]
  },
  {
   "cell_type": "code",
   "execution_count": 20,
   "metadata": {
    "scrolled": true
   },
   "outputs": [
    {
     "data": {
      "text/plain": [
       "array([ 0.        ,  0.4472136 , -0.89442719])"
      ]
     },
     "execution_count": 20,
     "metadata": {},
     "output_type": "execute_result"
    }
   ],
   "source": [
    "ng3"
   ]
  },
  {
   "cell_type": "markdown",
   "metadata": {},
   "source": [
    "En particular, no se cumple con $\\underline{\\hat{n_1}}x\\underline{\\hat{n_2}}=\\underline{\\hat{n_3}}$, pero sí se cumple $\\underline{\\hat{n_1}}x\\underline{\\hat{n_2}}=-\\underline{\\hat{n_3}}$.\n",
    "\n",
    "De esta manera, para tener una base que cumpla con la regla de la mano derecha, solo es necesario cambiarle el sentido a cualquiera de los tres vectores unitarios."
   ]
  },
  {
   "cell_type": "markdown",
   "metadata": {
    "id": "1zgeN9JD1czD"
   },
   "source": [
    "## Verificación de la no existencia de esfuerzos cortantes\n",
    "\n",
    "Se construye la matriz de esfuerzos $\\underline{\\underline{\\boldsymbol{\\sigma}}}$ y de transformación $\\boldsymbol{T}$:"
   ]
  },
  {
   "cell_type": "code",
   "execution_count": 18,
   "metadata": {
    "scrolled": false
   },
   "outputs": [
    {
     "data": {
      "text/plain": [
       "array([[-0.        ,  1.        ,  0.        ],\n",
       "       [-0.89442719,  0.        ,  0.4472136 ],\n",
       "       [-0.4472136 ,  0.        , -0.89442719]])"
      ]
     },
     "execution_count": 18,
     "metadata": {},
     "output_type": "execute_result"
    }
   ],
   "source": [
    "T = vecp\n",
    "T"
   ]
  },
  {
   "cell_type": "markdown",
   "metadata": {
    "id": "BRjr3Nrk2pFP"
   },
   "source": [
    "La matriz de esfeurzos en el nuevo sistema de coordenadas, $\\underline{\\underline{\\boldsymbol{\\sigma}}}'$"
   ]
  },
  {
   "cell_type": "code",
   "execution_count": 28,
   "metadata": {
    "colab": {
     "base_uri": "https://localhost:8080/"
    },
    "id": "x8rUtQig2m8g",
    "outputId": "addd0d09-3262-42f2-93a4-77c8fe79ee49"
   },
   "outputs": [
    {
     "data": {
      "text/plain": [
       "array([[ 4.,  0.,  0.],\n",
       "       [ 0.,  1.,  0.],\n",
       "       [-0.,  0., -1.]])"
      ]
     },
     "execution_count": 28,
     "metadata": {},
     "output_type": "execute_result"
    }
   ],
   "source": [
    "sigmaP = transpose(T)@sigma@T\n",
    "sigmaP.round(5)"
   ]
  }
 ],
 "metadata": {
  "colab": {
   "authorship_tag": "ABX9TyPAcX7LGBE3MjAoKXkvUpes",
   "include_colab_link": true,
   "name": "02_08_02_ejemplos_vf.ipynb",
   "provenance": []
  },
  "kernelspec": {
   "display_name": "Python 3",
   "language": "python",
   "name": "python3"
  },
  "language_info": {
   "codemirror_mode": {
    "name": "ipython",
    "version": 3
   },
   "file_extension": ".py",
   "mimetype": "text/x-python",
   "name": "python",
   "nbconvert_exporter": "python",
   "pygments_lexer": "ipython3",
   "version": "3.8.8"
  }
 },
 "nbformat": 4,
 "nbformat_minor": 1
}
