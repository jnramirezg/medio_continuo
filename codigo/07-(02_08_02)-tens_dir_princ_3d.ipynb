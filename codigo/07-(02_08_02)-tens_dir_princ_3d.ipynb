{
 "cells": [
  {
   "cell_type": "markdown",
   "metadata": {
    "colab_type": "text",
    "id": "view-in-github"
   },
   "source": [
    "<a href=\"https://colab.research.google.com/github/michaelherediaperez/mecanica_de_solidos_un/blob/main/codigos/cap_02/02_08_02.ipynb\" target=\"_parent\"><img src=\"https://colab.research.google.com/assets/colab-badge.svg\" alt=\"Open In Colab\"/></a>"
   ]
  },
  {
   "cell_type": "markdown",
   "metadata": {
    "id": "Wt1ihxMd0SbZ"
   },
   "source": [
    "# 07-Tensiones y direcciones principales en tres dimensiones (sección 2.8.2) \n",
    "\n",
    "|Quién | Fecha | Qué hizo |\n",
    "| ---  | ---   | ---      |\n",
    "|Michael Heredia Pérez, <mherediap@unal.edu.co> | 2022-07-14 | Conversión de código de MAXIMA a Python|\n",
    "|Diego Andrés Alvarez, <daalvarez@unal.edu.co>  | 2022-09-13 | Método alterno para calcular el polinomio característico |\n",
    "|Juan Nicolás Ramírez, <jnramirezg@unal.edu.co> | 2022-09-17 | Adecuando y simplificando código |"
   ]
  },
  {
   "cell_type": "markdown",
   "metadata": {},
   "source": [
    "Teniendo en cuenta que a la matriz de $\\underline{\\underline{\\boldsymbol{\\sigma}}}$ le definimos el siguiente polinomio característico en tres dimensiones:\n",
    "\n",
    "$$-\\sigma_n^3+I_1\\sigma_n^2-I_2\\sigma_n+I_3 = 0$$\n",
    "\n",
    "en donde:\n",
    "\n",
    "$I_1=tr(\\underline{\\underline{\\boldsymbol{\\sigma}}})$ (<font color='blue'>1</font>)\n",
    "\n",
    "$I_2=\\frac{1}{2}(tr(\\underline{\\underline{\\boldsymbol{\\sigma}}})^2-tr(\\underline{\\underline{\\boldsymbol{\\sigma}}}^2))$ (<font color='blue'>2</font>)\n",
    "\n",
    "$I_3 = det(\\underline{\\underline{\\boldsymbol{\\sigma}}})$ (<font color='blue'>3</font>)\n"
   ]
  },
  {
   "cell_type": "markdown",
   "metadata": {},
   "source": [
    "Importamos de la librería ```sympy``` algunas funciones que se usarán en este programa:"
   ]
  },
  {
   "cell_type": "code",
   "execution_count": 1,
   "metadata": {
    "id": "zWB0-GrS0OSE"
   },
   "outputs": [],
   "source": [
    "from sympy import symbols, Matrix, eye, det, simplify, Trace, factor, expand"
   ]
  },
  {
   "cell_type": "markdown",
   "metadata": {
    "id": "2JjBA749118M"
   },
   "source": [
    "Definimos las variables simbólicas necesarias, empleando la notación de $\\LaTeX$:"
   ]
  },
  {
   "cell_type": "code",
   "execution_count": 2,
   "metadata": {
    "id": "ddjskHfK1zv-"
   },
   "outputs": [],
   "source": [
    "sx,   sy,  sz = symbols(\"sigma_x sigma_y sigma_z\")\n",
    "txy, txz, tyz = symbols(\"tau_xy tau_xz tau_yz\")\n",
    "sn = symbols(\"sigma_n\")"
   ]
  },
  {
   "cell_type": "markdown",
   "metadata": {
    "id": "tbqP2R9016tM"
   },
   "source": [
    "Definimos la matriz de tensiones en coordenadas rectangulares:\n",
    "\n",
    "$$\\displaystyle \\underline{\\underline{\\boldsymbol{\\sigma}}} = \\left[\\begin{matrix}\\sigma_{x} & \\tau_{xy} & \\tau_{xz}\\\\\\tau_{xy} & \\sigma_{y} & \\tau_{yz}\\\\\\tau_{xz} & \\tau_{yz} & \\sigma_{z}\\end{matrix}\\right]$$"
   ]
  },
  {
   "cell_type": "code",
   "execution_count": 3,
   "metadata": {
    "colab": {
     "base_uri": "https://localhost:8080/",
     "height": 78
    },
    "id": "3_JDj3ja14gG",
    "outputId": "5bc2af2c-9d35-481e-df5a-0892633fc8c2"
   },
   "outputs": [],
   "source": [
    "sigma = Matrix([[ sx, txy, txz],\n",
    "                [txy,  sy, tyz],\n",
    "                [txz, tyz,  sz]])"
   ]
  },
  {
   "cell_type": "markdown",
   "metadata": {},
   "source": [
    "Mediante la función ```charpoly``` de ```sympy``` calculamos el polinomio característico de la matriz $\\underline{\\underline{\\boldsymbol{\\sigma}}}$ en función de $\\sigma_n$, la variable ```sn```. Debido a la definición del coeficiente de $\\sigma_n^3$ como negativo, se cambia el signo de toda la ecuación para que coincidan:  "
   ]
  },
  {
   "cell_type": "code",
   "execution_count": 4,
   "metadata": {
    "colab": {
     "base_uri": "https://localhost:8080/",
     "height": 39
    },
    "id": "I_Fq8UKR19Lb",
    "outputId": "2e6f8392-d361-423e-f9ac-da2604a94682",
    "scrolled": true
   },
   "outputs": [
    {
     "data": {
      "text/latex": [
       "$\\displaystyle \\operatorname{PurePoly}{\\left( -\\sigma_{n}^{3} + \\left(\\sigma_{x} + \\sigma_{y} + \\sigma_{z}\\right) \\sigma_{n}^{2} + \\left(- \\sigma_{x} \\sigma_{y} - \\sigma_{x} \\sigma_{z} - \\sigma_{y} \\sigma_{z} + \\tau_{xy}^{2} + \\tau_{xz}^{2} + \\tau_{yz}^{2}\\right) \\sigma_{n} + \\sigma_{x} \\sigma_{y} \\sigma_{z} - \\sigma_{x} \\tau_{yz}^{2} - \\sigma_{y} \\tau_{xz}^{2} - \\sigma_{z} \\tau_{xy}^{2} + 2 \\tau_{xy} \\tau_{xz} \\tau_{yz}, \\sigma_{n}, domain=\\mathbb{Z}\\left[\\sigma_{x}, \\sigma_{y}, \\sigma_{z}, \\tau_{xy}, \\tau_{xz}, \\tau_{yz}\\right] \\right)}$"
      ],
      "text/plain": [
       "PurePoly(-sigma_n**3 + (sigma_x + sigma_y + sigma_z)*sigma_n**2 + (-sigma_x*sigma_y - sigma_x*sigma_z - sigma_y*sigma_z + tau_xy**2 + tau_xz**2 + tau_yz**2)*sigma_n + sigma_x*sigma_y*sigma_z - sigma_x*tau_yz**2 - sigma_y*tau_xz**2 - sigma_z*tau_xy**2 + 2*tau_xy*tau_xz*tau_yz, sigma_n, domain='ZZ[sigma_x,sigma_y,sigma_z,tau_xy,tau_xz,tau_yz]')"
      ]
     },
     "execution_count": 4,
     "metadata": {},
     "output_type": "execute_result"
    }
   ],
   "source": [
    "-sigma.charpoly(sn)"
   ]
  },
  {
   "cell_type": "markdown",
   "metadata": {},
   "source": [
    "Por otro lado, observemos que el polinomio característico de $\\underline{\\underline{\\boldsymbol{\\sigma}}}$ también se puede obtener mediante:\n",
    "\n",
    "$$\\det(\\underline{\\underline{\\boldsymbol{\\sigma}}} - \\sigma_n \\boldsymbol{I}) = 0$$"
   ]
  },
  {
   "cell_type": "code",
   "execution_count": 5,
   "metadata": {
    "scrolled": false
   },
   "outputs": [
    {
     "data": {
      "text/latex": [
       "$\\displaystyle - \\sigma_{n}^{3} + \\sigma_{n}^{2} \\sigma_{x} + \\sigma_{n}^{2} \\sigma_{y} + \\sigma_{n}^{2} \\sigma_{z} - \\sigma_{n} \\sigma_{x} \\sigma_{y} - \\sigma_{n} \\sigma_{x} \\sigma_{z} - \\sigma_{n} \\sigma_{y} \\sigma_{z} + \\sigma_{n} \\tau_{xy}^{2} + \\sigma_{n} \\tau_{xz}^{2} + \\sigma_{n} \\tau_{yz}^{2} + \\sigma_{x} \\sigma_{y} \\sigma_{z} - \\sigma_{x} \\tau_{yz}^{2} - \\sigma_{y} \\tau_{xz}^{2} - \\sigma_{z} \\tau_{xy}^{2} + 2 \\tau_{xy} \\tau_{xz} \\tau_{yz}$"
      ],
      "text/plain": [
       "-sigma_n**3 + sigma_n**2*sigma_x + sigma_n**2*sigma_y + sigma_n**2*sigma_z - sigma_n*sigma_x*sigma_y - sigma_n*sigma_x*sigma_z - sigma_n*sigma_y*sigma_z + sigma_n*tau_xy**2 + sigma_n*tau_xz**2 + sigma_n*tau_yz**2 + sigma_x*sigma_y*sigma_z - sigma_x*tau_yz**2 - sigma_y*tau_xz**2 - sigma_z*tau_xy**2 + 2*tau_xy*tau_xz*tau_yz"
      ]
     },
     "execution_count": 5,
     "metadata": {},
     "output_type": "execute_result"
    }
   ],
   "source": [
    "I = eye(3)\n",
    "det(sigma - sn*I)"
   ]
  },
  {
   "cell_type": "markdown",
   "metadata": {},
   "source": [
    "La función ```sympy.eye(3)``` crea una matriz identidad de orden 3.\n",
    "\n",
    "La funión ```sympy.det(sigma - sn*I)``` calcula el determinante de la matriz definida por $\\underline{\\underline{\\boldsymbol{\\sigma}}} - \\sigma_n \\boldsymbol{I}$."
   ]
  },
  {
   "cell_type": "markdown",
   "metadata": {},
   "source": [
    "Almacenamos los polinomios característicos de $\\underline{\\underline{\\boldsymbol{\\sigma}}}$ calculados por ambos métodos en las variables ```poli_car_1``` y ```poli_car_2```:"
   ]
  },
  {
   "cell_type": "code",
   "execution_count": 6,
   "metadata": {},
   "outputs": [],
   "source": [
    "poli_car_1 = -sigma.charpoly(sn).as_expr()  # \n",
    "poli_car_2 = det(sigma - sn*I)"
   ]
  },
  {
   "cell_type": "markdown",
   "metadata": {},
   "source": [
    "La función ```as_expr()``` de ```sympy``` tiene la finalidad de convertir a expresión simbólica operable."
   ]
  },
  {
   "cell_type": "markdown",
   "metadata": {},
   "source": [
    "Ambos caminos del cálculo del polinomio caracterítico nos deben dar igual. Por lo tanto, ```poli_car_1 - poli_car_2``` = 0. Comprobamos, usando adicionalmente el comando ```sympy.expand()```:"
   ]
  },
  {
   "cell_type": "code",
   "execution_count": 7,
   "metadata": {},
   "outputs": [
    {
     "data": {
      "text/latex": [
       "$\\displaystyle 0$"
      ],
      "text/plain": [
       "0"
      ]
     },
     "execution_count": 7,
     "metadata": {},
     "output_type": "execute_result"
    }
   ],
   "source": [
    "expand(poli_car_1 - poli_car_2)"
   ]
  },
  {
   "cell_type": "markdown",
   "metadata": {
    "id": "I-1l93ZI3caS"
   },
   "source": [
    "Con el método ```all_coeff()``` extraemos los coeficientes del polinomio característico de $\\underline{\\underline{\\boldsymbol{\\sigma}}}$:\n",
    "\n",
    "$$-\\sigma_n^3+I_1\\sigma_n^2-I_2\\sigma_n+I_3 = 0$$"
   ]
  },
  {
   "cell_type": "code",
   "execution_count": 8,
   "metadata": {
    "colab": {
     "base_uri": "https://localhost:8080/",
     "height": 39
    },
    "id": "EZ85JqUk3VPh",
    "outputId": "107ae28d-825e-4148-b7f1-b38eaf1ef2bc",
    "scrolled": true
   },
   "outputs": [],
   "source": [
    "invar = (-sigma.charpoly(sn)).all_coeffs()"
   ]
  },
  {
   "cell_type": "code",
   "execution_count": 9,
   "metadata": {},
   "outputs": [
    {
     "data": {
      "text/plain": [
       "[-1,\n",
       " sigma_x + sigma_y + sigma_z,\n",
       " -sigma_x*sigma_y - sigma_x*sigma_z - sigma_y*sigma_z + tau_xy**2 + tau_xz**2 + tau_yz**2,\n",
       " sigma_x*sigma_y*sigma_z - sigma_x*tau_yz**2 - sigma_y*tau_xz**2 - sigma_z*tau_xy**2 + 2*tau_xy*tau_xz*tau_yz]"
      ]
     },
     "execution_count": 9,
     "metadata": {},
     "output_type": "execute_result"
    }
   ],
   "source": [
    "invar"
   ]
  },
  {
   "cell_type": "markdown",
   "metadata": {
    "id": "b2hyGoW5s8eQ"
   },
   "source": [
    "Estos coeficientes son los invariantes de esfuerzos. Los extraemos a continuación, teniendo en cuenta que ya garantizamos previamente que el coeficiente de $\\sigma_n^3$ fuera -1."
   ]
  },
  {
   "cell_type": "code",
   "execution_count": 10,
   "metadata": {
    "colab": {
     "base_uri": "https://localhost:8080/",
     "height": 38
    },
    "id": "gk7zkq0TrJiz",
    "outputId": "96fd2f4d-9463-4de6-b2c6-2c6e2462f081"
   },
   "outputs": [],
   "source": [
    "I1 =  invar[1]\n",
    "I2 = -invar[2]  # Cuidado con este signo negativo.\n",
    "I3 =  invar[3]"
   ]
  },
  {
   "cell_type": "markdown",
   "metadata": {},
   "source": [
    "$\\displaystyle I_1 = \\sigma_{x} + \\sigma_{y} + \\sigma_{z}$\n",
    "\n",
    "$\\displaystyle I_2 = \\sigma_{x} \\sigma_{y} + \\sigma_{x} \\sigma_{z} + \\sigma_{y} \\sigma_{z} - \\tau_{xy}^{2} - \\tau_{xz}^{2} - \\tau_{yz}^{2}$\n",
    "\n",
    "$\\displaystyle I_3 = \\sigma_{x} \\sigma_{y} \\sigma_{z} - \\sigma_{x} \\tau_{yz}^{2} - \\sigma_{y} \\tau_{xz}^{2} - \\sigma_{z} \\tau_{xy}^{2} + 2 \\tau_{xy} \\tau_{xz} \\tau_{yz}$"
   ]
  },
  {
   "cell_type": "markdown",
   "metadata": {
    "id": "AnD_SfBduKGB"
   },
   "source": [
    "Verificamos las igualdades (<font color='blue'>1</font>), (<font color='blue'>2</font>) y (<font color='blue'>3</font>). Por lo que cada línea debe imprimir cero; aquí el comando ```sympy.Trace()``` calcula la traza de la matriz dada. "
   ]
  },
  {
   "cell_type": "markdown",
   "metadata": {},
   "source": [
    "$I_1 - tr(\\underline{\\underline{\\boldsymbol{\\sigma}}}) = 0$"
   ]
  },
  {
   "cell_type": "code",
   "execution_count": 11,
   "metadata": {
    "colab": {
     "base_uri": "https://localhost:8080/",
     "height": 38
    },
    "id": "U9w52mDstqRI",
    "outputId": "c19e2b8b-edfd-49ad-9aff-15242d84ccd0",
    "scrolled": true
   },
   "outputs": [
    {
     "data": {
      "text/latex": [
       "$\\displaystyle 0$"
      ],
      "text/plain": [
       "0"
      ]
     },
     "execution_count": 11,
     "metadata": {},
     "output_type": "execute_result"
    }
   ],
   "source": [
    "I1 - simplify(Trace(sigma))    # Si no se simplifica deja indicada la operación traza."
   ]
  },
  {
   "cell_type": "markdown",
   "metadata": {},
   "source": [
    "$I_2 - \\frac{1}{2}(tr(\\underline{\\underline{\\boldsymbol{\\sigma}}})^2-tr(\\underline{\\underline{\\boldsymbol{\\sigma}}}^2))=0$"
   ]
  },
  {
   "cell_type": "code",
   "execution_count": 12,
   "metadata": {
    "colab": {
     "base_uri": "https://localhost:8080/",
     "height": 38
    },
    "id": "RutADrrbvCrY",
    "outputId": "9da2029c-944d-41e9-928f-f0a92b640cbb",
    "scrolled": true
   },
   "outputs": [
    {
     "data": {
      "text/latex": [
       "$\\displaystyle 0$"
      ],
      "text/plain": [
       "0"
      ]
     },
     "execution_count": 12,
     "metadata": {},
     "output_type": "execute_result"
    }
   ],
   "source": [
    "simplify(I2 - (simplify(Trace(sigma))**2 - simplify(Trace(sigma**2)))/2)"
   ]
  },
  {
   "cell_type": "markdown",
   "metadata": {},
   "source": [
    "$I_3 - det(\\underline{\\underline{\\boldsymbol{\\sigma}}})=0$"
   ]
  },
  {
   "cell_type": "code",
   "execution_count": 13,
   "metadata": {
    "colab": {
     "base_uri": "https://localhost:8080/",
     "height": 38
    },
    "id": "0HfEEqGEwd7J",
    "outputId": "8765f85e-d726-4c04-f9f5-e774b984c213"
   },
   "outputs": [
    {
     "data": {
      "text/latex": [
       "$\\displaystyle 0$"
      ],
      "text/plain": [
       "0"
      ]
     },
     "execution_count": 13,
     "metadata": {},
     "output_type": "execute_result"
    }
   ],
   "source": [
    "I3 - det(sigma)"
   ]
  }
 ],
 "metadata": {
  "colab": {
   "authorship_tag": "ABX9TyPR73SHhCzXf+2ix8lw17uo",
   "include_colab_link": true,
   "name": "02_08_02.ipynb",
   "provenance": []
  },
  "kernelspec": {
   "display_name": "Python 3",
   "language": "python",
   "name": "python3"
  },
  "language_info": {
   "codemirror_mode": {
    "name": "ipython",
    "version": 3
   },
   "file_extension": ".py",
   "mimetype": "text/x-python",
   "name": "python",
   "nbconvert_exporter": "python",
   "pygments_lexer": "ipython3",
   "version": "3.8.8"
  }
 },
 "nbformat": 4,
 "nbformat_minor": 1
}
