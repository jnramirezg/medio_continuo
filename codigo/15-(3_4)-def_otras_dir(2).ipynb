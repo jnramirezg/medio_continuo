{
 "cells": [
  {
   "cell_type": "markdown",
   "metadata": {
    "colab_type": "text",
    "id": "view-in-github"
   },
   "source": [
    "<a href=\"https://colab.research.google.com/github/jnramirezg/mecanica_de_solidos/blob/main/codigo/15-(3_4)-def_otras_dir(2).ipynb\" target=\"_parent\"><img src=\"https://colab.research.google.com/assets/colab-badge.svg\" alt=\"Open In Colab\"/></a>"
   ]
  },
  {
   "cell_type": "markdown",
   "metadata": {
    "id": "QBV18zDQNfet"
   },
   "source": [
    "# 15. Especificación de la deformación en otras direcciones 2D (sección 3.4)\n",
    "\n",
    "|Quién | Fecha | Qué hizo |\n",
    "| ---  | ---   | ---      |\n",
    "|Michael Heredia Pérez, <mherediap@unal.edu.co> | 2022-07-16 | Conversión de código de MAXIMA a Python|\n",
    "|Michael Heredia Pérez, <mherediap@unal.edu.co> | 2022-09-15 | Mejorando legibilidad|\n",
    "|Juan Nicolás Ramírez, <jnramirezg@unal.edu.co> | 2022-09-24 | Simplificando y adecuando código |"
   ]
  },
  {
   "cell_type": "markdown",
   "metadata": {},
   "source": [
    "Importamos algunas funciones necesarias de la librería ```Sympy```:"
   ]
  },
  {
   "cell_type": "code",
   "execution_count": 1,
   "metadata": {
    "id": "NDrDBmbjKu1s"
   },
   "outputs": [],
   "source": [
    "from sympy import *"
   ]
  },
  {
   "cell_type": "markdown",
   "metadata": {
    "id": "jLBwiUAgNsoe"
   },
   "source": [
    "Definimos las variables simbólicas necesarias:"
   ]
  },
  {
   "cell_type": "code",
   "execution_count": 2,
   "metadata": {
    "id": "GlZJvLPQNsMQ"
   },
   "outputs": [],
   "source": [
    "ex, ey, exy = symbols(\"varepsilon_x varepsilon_y varepsilon_xy\")\n",
    "gxy = symbols(\"gamma_xy\")\n",
    "t = symbols(\"theta\")"
   ]
  },
  {
   "cell_type": "markdown",
   "metadata": {},
   "source": [
    "**Nota:** La expresión \"varepsilon\" gerera el símbolo $\\varepsilon$, en cambio, \"epsilon\" genera $\\epsilon$."
   ]
  },
  {
   "cell_type": "markdown",
   "metadata": {
    "id": "vOmVoKl-N2eu"
   },
   "source": [
    "Se especifica la matriz de transformación, $\\underline{\\underline{\\boldsymbol{T}}}$, ec. (<font color='blue'>1</font>):\n"
   ]
  },
  {
   "cell_type": "markdown",
   "metadata": {},
   "source": [
    "$$\\displaystyle \\underline{\\underline{\\boldsymbol{T}}} = \\left[\\begin{matrix}\\cos{\\left(\\theta \\right)} & - \\sin{\\left(\\theta \\right)} & 0\\\\\\sin{\\left(\\theta \\right)} & \\cos{\\left(\\theta \\right)} & 0\\\\1 & 1 & 0\\end{matrix}\\right]$$"
   ]
  },
  {
   "cell_type": "code",
   "execution_count": 3,
   "metadata": {
    "colab": {
     "base_uri": "https://localhost:8080/",
     "height": 78
    },
    "id": "Wq_GAlH0NxAI",
    "outputId": "95545484-bd55-4e43-be9f-d014e8a0fdfd"
   },
   "outputs": [
    {
     "data": {
      "text/latex": [
       "$\\displaystyle \\left[\\begin{matrix}\\cos{\\left(\\theta \\right)} & - \\sin{\\left(\\theta \\right)} & 0\\\\\\sin{\\left(\\theta \\right)} & \\cos{\\left(\\theta \\right)} & 0\\\\1 & 1 & 0\\end{matrix}\\right]$"
      ],
      "text/plain": [
       "Matrix([\n",
       "[cos(theta), -sin(theta), 0],\n",
       "[sin(theta),  cos(theta), 0],\n",
       "[         1,           1, 0]])"
      ]
     },
     "execution_count": 3,
     "metadata": {},
     "output_type": "execute_result"
    }
   ],
   "source": [
    "T = Matrix([[cos(t), -sin(t), 0],\n",
    "            [sin(t),  cos(t), 0],\n",
    "            [     1,       1, 0]])\n",
    "T  # Imprimir"
   ]
  },
  {
   "cell_type": "markdown",
   "metadata": {
    "id": "_7OvPMpnO-S-"
   },
   "source": [
    "Luego, especificamos la matriz de deformaciones $\\underline{\\underline{\\boldsymbol{\\varepsilon}}}$, con la variable ```epsilon```, definida con respecto a la base dada por {$\\boldsymbol{\\underline{\\hat{i}}}=\\boldsymbol{\\underline{\\hat{e}}}_1$, $\\boldsymbol{\\underline{\\hat{j}}}=\\boldsymbol{\\underline{\\hat{e}}}_2$, $\\boldsymbol{\\underline{\\hat{k}}}=\\boldsymbol{\\underline{\\hat{e}}}_3$} (ec. (<font color='blue'>2</font>)):\n",
    "\n",
    "$$\\displaystyle \\underline{\\underline{\\boldsymbol{\\varepsilon}}} = \\left[\\begin{matrix}\\varepsilon_{x} & \\varepsilon_{xy} & 0\\\\\\varepsilon_{xy} & \\varepsilon_{y} & 0\\\\0 & 0 & 0\\end{matrix}\\right]$$"
   ]
  },
  {
   "cell_type": "code",
   "execution_count": 4,
   "metadata": {
    "colab": {
     "base_uri": "https://localhost:8080/",
     "height": 78
    },
    "id": "Wh58g7PeOdN4",
    "outputId": "78aa0e29-80cc-48eb-fc7e-81fb6da42ed5"
   },
   "outputs": [
    {
     "data": {
      "text/latex": [
       "$\\displaystyle \\left[\\begin{matrix}\\varepsilon_{x} & \\varepsilon_{xy} & 0\\\\\\varepsilon_{xy} & \\varepsilon_{y} & 0\\\\0 & 0 & 0\\end{matrix}\\right]$"
      ],
      "text/plain": [
       "Matrix([\n",
       "[ varepsilon_x, varepsilon_xy, 0],\n",
       "[varepsilon_xy,  varepsilon_y, 0],\n",
       "[            0,             0, 0]])"
      ]
     },
     "execution_count": 4,
     "metadata": {},
     "output_type": "execute_result"
    }
   ],
   "source": [
    "epsilon = Matrix([[ ex, exy, 0],\n",
    "                  [exy,  ey, 0],\n",
    "                  [  0,   0, 0]])\n",
    "epsilon  # Imprimir"
   ]
  },
  {
   "cell_type": "markdown",
   "metadata": {
    "id": "t_o8NAt1PYX2"
   },
   "source": [
    "Calculamos la matriz de deformaciones $\\underline{\\underline{\\boldsymbol{\\varepsilon'}}}$ (almacenamos como ```epsilonP```)  definida con respecto a la base dada por {$\\hat{\\underline{e}}_1, \\hat{\\underline{e}}_2, \\hat{\\underline{e}}_3$} por la ecuación:\n",
    "\n",
    "$\\underline{\\underline{\\boldsymbol{\\varepsilon'}}} = \\underline{\\underline{\\boldsymbol{T}}}^T\\underline{\\underline{\\boldsymbol{\\varepsilon}}}\\underline{\\underline{\\boldsymbol{T}}}$ ec.(<font color='blue'>3</font>)\n",
    "\n",
    "Usamos la función ```sympy.trigsimp()``` para simplificar las funciones trigonométricas."
   ]
  },
  {
   "cell_type": "code",
   "execution_count": 5,
   "metadata": {
    "colab": {
     "base_uri": "https://localhost:8080/",
     "height": 84
    },
    "id": "y79TKBoQPbR8",
    "outputId": "02d8f958-1039-44f2-db72-21d1864285b6",
    "scrolled": true
   },
   "outputs": [
    {
     "data": {
      "text/latex": [
       "$\\displaystyle \\left[\\begin{matrix}\\frac{\\varepsilon_{x} \\cos{\\left(2 \\theta \\right)}}{2} + \\frac{\\varepsilon_{x}}{2} + \\varepsilon_{xy} \\sin{\\left(2 \\theta \\right)} - \\frac{\\varepsilon_{y} \\cos{\\left(2 \\theta \\right)}}{2} + \\frac{\\varepsilon_{y}}{2} & - \\frac{\\varepsilon_{x} \\sin{\\left(2 \\theta \\right)}}{2} + \\varepsilon_{xy} \\cos{\\left(2 \\theta \\right)} + \\frac{\\varepsilon_{y} \\sin{\\left(2 \\theta \\right)}}{2} & 0\\\\- \\frac{\\varepsilon_{x} \\sin{\\left(2 \\theta \\right)}}{2} + \\varepsilon_{xy} \\cos{\\left(2 \\theta \\right)} + \\frac{\\varepsilon_{y} \\sin{\\left(2 \\theta \\right)}}{2} & - \\frac{\\varepsilon_{x} \\cos{\\left(2 \\theta \\right)}}{2} + \\frac{\\varepsilon_{x}}{2} - \\varepsilon_{xy} \\sin{\\left(2 \\theta \\right)} + \\frac{\\varepsilon_{y} \\cos{\\left(2 \\theta \\right)}}{2} + \\frac{\\varepsilon_{y}}{2} & 0\\\\0 & 0 & 0\\end{matrix}\\right]$"
      ],
      "text/plain": [
       "Matrix([\n",
       "[varepsilon_x*cos(2*theta)/2 + varepsilon_x/2 + varepsilon_xy*sin(2*theta) - varepsilon_y*cos(2*theta)/2 + varepsilon_y/2,                                   -varepsilon_x*sin(2*theta)/2 + varepsilon_xy*cos(2*theta) + varepsilon_y*sin(2*theta)/2, 0],\n",
       "[                                 -varepsilon_x*sin(2*theta)/2 + varepsilon_xy*cos(2*theta) + varepsilon_y*sin(2*theta)/2, -varepsilon_x*cos(2*theta)/2 + varepsilon_x/2 - varepsilon_xy*sin(2*theta) + varepsilon_y*cos(2*theta)/2 + varepsilon_y/2, 0],\n",
       "[                                                                                                                       0,                                                                                                                         0, 0]])"
      ]
     },
     "execution_count": 5,
     "metadata": {},
     "output_type": "execute_result"
    }
   ],
   "source": [
    "epsilonP = trigsimp(transpose(T)*epsilon*T)\n",
    "epsilonP  # Imprimir"
   ]
  },
  {
   "cell_type": "markdown",
   "metadata": {},
   "source": [
    "$$\\displaystyle \\underline{\\underline{\\boldsymbol{\\varepsilon'}}} = \\left[\\begin{matrix}\\frac{\\varepsilon_{x} \\cos{\\left(2 \\theta \\right)}}{2} + \\frac{\\varepsilon_{x}}{2} + \\varepsilon_{xy} \\sin{\\left(2 \\theta \\right)} - \\frac{\\varepsilon_{y} \\cos{\\left(2 \\theta \\right)}}{2} + \\frac{\\varepsilon_{y}}{2} & - \\frac{\\varepsilon_{x} \\sin{\\left(2 \\theta \\right)}}{2} + \\varepsilon_{xy} \\cos{\\left(2 \\theta \\right)} + \\frac{\\varepsilon_{y} \\sin{\\left(2 \\theta \\right)}}{2} & 0\\\\- \\frac{\\varepsilon_{x} \\sin{\\left(2 \\theta \\right)}}{2} + \\varepsilon_{xy} \\cos{\\left(2 \\theta \\right)} + \\frac{\\varepsilon_{y} \\sin{\\left(2 \\theta \\right)}}{2} & - \\frac{\\varepsilon_{x} \\cos{\\left(2 \\theta \\right)}}{2} + \\frac{\\varepsilon_{x}}{2} - \\varepsilon_{xy} \\sin{\\left(2 \\theta \\right)} + \\frac{\\varepsilon_{y} \\cos{\\left(2 \\theta \\right)}}{2} + \\frac{\\varepsilon_{y}}{2} & 0\\\\0 & 0 & 0\\end{matrix}\\right]$$"
   ]
  },
  {
   "cell_type": "markdown",
   "metadata": {
    "id": "k0v70LSxQOIn"
   },
   "source": [
    "Extraemos las expresiones de interés de la matriz $\\underline{\\underline{\\boldsymbol{\\varepsilon'}}}$, obtenidas mediante la ec.(<font color='blue'>3</font>). En todos los casos, usamos las funciones ```sympy.factor()``` (factorizando $\\varepsilon_x$ y $\\varepsilon_y$), ```sympy.trigsimp()``` y ```sympy.expand_trig()``` para hacer el tratamiento algebráico y hacer coincidir con las expresiones del <font color='blue'>main.pdf</font>."
   ]
  },
  {
   "cell_type": "markdown",
   "metadata": {},
   "source": [
    "Extraemos $\\varepsilon_{x'}$:"
   ]
  },
  {
   "cell_type": "code",
   "execution_count": 6,
   "metadata": {
    "scrolled": false
   },
   "outputs": [
    {
     "data": {
      "text/latex": [
       "$\\displaystyle \\varepsilon_{x} \\cos^{2}{\\left(\\theta \\right)} + 2 \\varepsilon_{xy} \\sin{\\left(\\theta \\right)} \\cos{\\left(\\theta \\right)} + \\varepsilon_{y} \\sin^{2}{\\left(\\theta \\right)}$"
      ],
      "text/plain": [
       "varepsilon_x*cos(theta)**2 + 2*varepsilon_xy*sin(theta)*cos(theta) + varepsilon_y*sin(theta)**2"
      ]
     },
     "execution_count": 6,
     "metadata": {},
     "output_type": "execute_result"
    }
   ],
   "source": [
    "e_xp = expand_trig(trigsimp(factor(epsilonP[0,0], [ex,ey])))\n",
    "e_xp  # Imprimir"
   ]
  },
  {
   "cell_type": "markdown",
   "metadata": {},
   "source": [
    "Extraemos $\\varepsilon_{y'}$:"
   ]
  },
  {
   "cell_type": "code",
   "execution_count": 7,
   "metadata": {
    "scrolled": true
   },
   "outputs": [
    {
     "data": {
      "text/latex": [
       "$\\displaystyle \\varepsilon_{x} \\sin^{2}{\\left(\\theta \\right)} - 2 \\varepsilon_{xy} \\sin{\\left(\\theta \\right)} \\cos{\\left(\\theta \\right)} + \\varepsilon_{y} \\cos^{2}{\\left(\\theta \\right)}$"
      ],
      "text/plain": [
       "varepsilon_x*sin(theta)**2 - 2*varepsilon_xy*sin(theta)*cos(theta) + varepsilon_y*cos(theta)**2"
      ]
     },
     "execution_count": 7,
     "metadata": {},
     "output_type": "execute_result"
    }
   ],
   "source": [
    "e_yp = expand_trig(trigsimp(factor(epsilonP[1,1], [ex,ey])))\n",
    "e_yp  # Imprimir"
   ]
  },
  {
   "cell_type": "markdown",
   "metadata": {},
   "source": [
    "Extraemos $\\varepsilon_{x'y'}$, remplazando con la identidad trigonométrica: $2cos(\\theta)^2-1=cos(\\theta)^2 -sin(\\theta)^2$"
   ]
  },
  {
   "cell_type": "code",
   "execution_count": 8,
   "metadata": {
    "scrolled": true
   },
   "outputs": [
    {
     "data": {
      "text/latex": [
       "$\\displaystyle - \\varepsilon_{x} \\sin{\\left(\\theta \\right)} \\cos{\\left(\\theta \\right)} + \\varepsilon_{xy} \\left(- \\sin^{2}{\\left(\\theta \\right)} + \\cos^{2}{\\left(\\theta \\right)}\\right) + \\varepsilon_{y} \\sin{\\left(\\theta \\right)} \\cos{\\left(\\theta \\right)}$"
      ],
      "text/plain": [
       "-varepsilon_x*sin(theta)*cos(theta) + varepsilon_xy*(-sin(theta)**2 + cos(theta)**2) + varepsilon_y*sin(theta)*cos(theta)"
      ]
     },
     "execution_count": 8,
     "metadata": {},
     "output_type": "execute_result"
    }
   ],
   "source": [
    "e_xpyp = expand_trig(trigsimp(factor(epsilonP[0,1], [ex,ey])))\n",
    "e_xpyp = e_xpyp.subs(2*cos(t)**2 - 1,cos(t)**2 -sin(t)**2)\n",
    "e_xpyp  # Imprimir"
   ]
  },
  {
   "cell_type": "markdown",
   "metadata": {},
   "source": [
    "## Deformaciones matemáticas en otras direcciones"
   ]
  },
  {
   "cell_type": "markdown",
   "metadata": {},
   "source": [
    "Las tres ecuaciones obtenidas anteriormente:\n",
    "\n",
    "$\\varepsilon_{x'}=\\varepsilon_{x} \\cos^{2}{\\left(\\theta \\right)} + 2 \\varepsilon_{xy} \\sin{\\left(\\theta \\right)} \\cos{\\left(\\theta \\right)} + \\varepsilon_{y} \\sin^{2}{\\left(\\theta \\right)}$ (<font color='blue'>4</font>)\n",
    "\n",
    "$\\varepsilon_{y'}=\\varepsilon_{x} \\sin^{2}{\\left(\\theta \\right)} - 2 \\varepsilon_{xy} \\sin{\\left(\\theta \\right)} \\cos{\\left(\\theta \\right)} + \\varepsilon_{y} \\cos^{2}{\\left(\\theta \\right)}$ (<font color='blue'>5</font>)\n",
    "\n",
    "$\\varepsilon_{x'y'}= - \\varepsilon_{x} \\sin{\\left(\\theta \\right)} \\cos{\\left(\\theta \\right)} + \\varepsilon_{xy} \\left(- \\sin^{2}{\\left(\\theta \\right)} + \\cos^{2}{\\left(\\theta \\right)}\\right) + \\varepsilon_{y} \\sin{\\left(\\theta \\right)} \\cos{\\left(\\theta \\right)}$ (<font color='blue'>6</font>)\n",
    "\n",
    "Las podemos reescribir de forma matricial (aplicando la función ```sympy.linear_eq_to_matrix()```) como:\n",
    "\n",
    "$$\\left[\\begin{matrix}\\varepsilon_{x'} \\\\ \\varepsilon_{y'}\\\\ \\varepsilon_{x'y'} \\end{matrix}\\right] = \\underline{\\underline{T}}_{\\underline{\\underline{\\sigma}},2D}\\left[\\begin{matrix}\\varepsilon_{x} \\\\ \\varepsilon_{y}\\\\ \\varepsilon_{xy} \\end{matrix}\\right]$$"
   ]
  },
  {
   "cell_type": "code",
   "execution_count": 9,
   "metadata": {
    "scrolled": true
   },
   "outputs": [
    {
     "data": {
      "text/latex": [
       "$\\displaystyle \\left[\\begin{matrix}\\cos^{2}{\\left(\\theta \\right)} & \\sin^{2}{\\left(\\theta \\right)} & 2 \\sin{\\left(\\theta \\right)} \\cos{\\left(\\theta \\right)}\\\\\\sin^{2}{\\left(\\theta \\right)} & \\cos^{2}{\\left(\\theta \\right)} & - 2 \\sin{\\left(\\theta \\right)} \\cos{\\left(\\theta \\right)}\\\\- \\sin{\\left(\\theta \\right)} \\cos{\\left(\\theta \\right)} & \\sin{\\left(\\theta \\right)} \\cos{\\left(\\theta \\right)} & - \\sin^{2}{\\left(\\theta \\right)} + \\cos^{2}{\\left(\\theta \\right)}\\end{matrix}\\right]$"
      ],
      "text/plain": [
       "Matrix([\n",
       "[         cos(theta)**2,         sin(theta)**2,        2*sin(theta)*cos(theta)],\n",
       "[         sin(theta)**2,         cos(theta)**2,       -2*sin(theta)*cos(theta)],\n",
       "[-sin(theta)*cos(theta), sin(theta)*cos(theta), -sin(theta)**2 + cos(theta)**2]])"
      ]
     },
     "execution_count": 9,
     "metadata": {},
     "output_type": "execute_result"
    }
   ],
   "source": [
    "linear_eq_to_matrix([e_xp, e_yp, e_xpyp], \n",
    "                    [  ex,   ey,    exy])[0]"
   ]
  },
  {
   "cell_type": "markdown",
   "metadata": {},
   "source": [
    "$$\\left[\\begin{matrix}\\varepsilon_{x'} \\\\ \\varepsilon_{y'}\\\\ \\varepsilon_{x'y'} \\end{matrix}\\right] = \\displaystyle \\left[\\begin{matrix}\\cos^{2}{\\left(\\theta \\right)} & \\sin^{2}{\\left(\\theta \\right)} & 2 \\sin{\\left(\\theta \\right)} \\cos{\\left(\\theta \\right)}\\\\\\sin^{2}{\\left(\\theta \\right)} & \\cos^{2}{\\left(\\theta \\right)} & - 2 \\sin{\\left(\\theta \\right)} \\cos{\\left(\\theta \\right)}\\\\- \\sin{\\left(\\theta \\right)} \\cos{\\left(\\theta \\right)} & \\sin{\\left(\\theta \\right)} \\cos{\\left(\\theta \\right)} & - \\sin^{2}{\\left(\\theta \\right)} + \\cos^{2}{\\left(\\theta \\right)}\\end{matrix}\\right]\\left[\\begin{matrix}\\varepsilon_{x} \\\\ \\varepsilon_{y}\\\\ \\varepsilon_{xy} \\end{matrix}\\right]$$"
   ]
  },
  {
   "cell_type": "markdown",
   "metadata": {},
   "source": [
    "Donde claramente coincide con la matriz $\\underline{\\underline{T}}_{\\underline{\\underline{\\sigma}},2D}$ deducida en la sección 2.6.2 del <font color='blue'>main.pdf</font>. Almacenamos $\\underline{\\underline{T}}_{\\underline{\\underline{\\sigma}},2D}$ como ```T_s2D```."
   ]
  },
  {
   "cell_type": "code",
   "execution_count": 10,
   "metadata": {},
   "outputs": [],
   "source": [
    "T_s2D = _  # \"_\" Es igual al último resultado."
   ]
  },
  {
   "cell_type": "markdown",
   "metadata": {},
   "source": [
    "## Deformaciones ingenieriles en otras direcciones"
   ]
  },
  {
   "cell_type": "markdown",
   "metadata": {},
   "source": [
    "Debemos tener en cuenta que las deformaciones ingenieriles consideran estas definiciones:\n",
    "$$\\varepsilon_{xy}=\\frac{\\gamma_{xy}}{2}$$\n",
    "$$\\gamma_{x'y'}=2\\varepsilon_{x'y'}$$"
   ]
  },
  {
   "cell_type": "markdown",
   "metadata": {},
   "source": [
    "En las ecuaciones (<font color='blue'>4</font>), (<font color='blue'>5</font>) y (<font color='blue'>6</font>) aplicamos la igualdad $\\varepsilon_{xy}=\\frac{\\gamma_{xy}}{2}$ mediante la función ```.subs()```. Y convertimos la (<font color='blue'>6</font>) con la expresión $\\gamma_{x'y'}=2\\varepsilon_{x'y'}$."
   ]
  },
  {
   "cell_type": "code",
   "execution_count": 11,
   "metadata": {},
   "outputs": [
    {
     "data": {
      "text/latex": [
       "$\\displaystyle \\gamma_{xy} \\sin{\\left(\\theta \\right)} \\cos{\\left(\\theta \\right)} + \\varepsilon_{x} \\cos^{2}{\\left(\\theta \\right)} + \\varepsilon_{y} \\sin^{2}{\\left(\\theta \\right)}$"
      ],
      "text/plain": [
       "gamma_xy*sin(theta)*cos(theta) + varepsilon_x*cos(theta)**2 + varepsilon_y*sin(theta)**2"
      ]
     },
     "execution_count": 11,
     "metadata": {},
     "output_type": "execute_result"
    }
   ],
   "source": [
    "e_xp = e_xp.subs(exy, gxy/2)\n",
    "e_xp"
   ]
  },
  {
   "cell_type": "code",
   "execution_count": 12,
   "metadata": {},
   "outputs": [
    {
     "data": {
      "text/latex": [
       "$\\displaystyle - \\gamma_{xy} \\sin{\\left(\\theta \\right)} \\cos{\\left(\\theta \\right)} + \\varepsilon_{x} \\sin^{2}{\\left(\\theta \\right)} + \\varepsilon_{y} \\cos^{2}{\\left(\\theta \\right)}$"
      ],
      "text/plain": [
       "-gamma_xy*sin(theta)*cos(theta) + varepsilon_x*sin(theta)**2 + varepsilon_y*cos(theta)**2"
      ]
     },
     "execution_count": 12,
     "metadata": {},
     "output_type": "execute_result"
    }
   ],
   "source": [
    "e_yp = e_yp.subs(exy, gxy/2)\n",
    "e_yp"
   ]
  },
  {
   "cell_type": "code",
   "execution_count": 13,
   "metadata": {
    "scrolled": true
   },
   "outputs": [
    {
     "data": {
      "text/latex": [
       "$\\displaystyle \\gamma_{xy} \\left(- \\sin^{2}{\\left(\\theta \\right)} + \\cos^{2}{\\left(\\theta \\right)}\\right) - 2 \\varepsilon_{x} \\sin{\\left(\\theta \\right)} \\cos{\\left(\\theta \\right)} + 2 \\varepsilon_{y} \\sin{\\left(\\theta \\right)} \\cos{\\left(\\theta \\right)}$"
      ],
      "text/plain": [
       "gamma_xy*(-sin(theta)**2 + cos(theta)**2) - 2*varepsilon_x*sin(theta)*cos(theta) + 2*varepsilon_y*sin(theta)*cos(theta)"
      ]
     },
     "execution_count": 13,
     "metadata": {},
     "output_type": "execute_result"
    }
   ],
   "source": [
    "g_xpyp = 2*e_xpyp.subs(exy, gxy/2)\n",
    "g_xpyp "
   ]
  },
  {
   "cell_type": "markdown",
   "metadata": {},
   "source": [
    "Las tres ecuaciones obtenidas anteriormente:\n",
    "\n",
    "$\\varepsilon_{x'} = \\gamma_{xy} \\sin{\\left(\\theta \\right)} \\cos{\\left(\\theta \\right)} + \\varepsilon_{x} \\cos^{2}{\\left(\\theta \\right)} + \\varepsilon_{y} \\sin^{2}{\\left(\\theta \\right)}$\n",
    "\n",
    "$\\varepsilon_{y'}=- \\gamma_{xy} \\sin{\\left(\\theta \\right)} \\cos{\\left(\\theta \\right)} + \\varepsilon_{x} \\sin^{2}{\\left(\\theta \\right)} + \\varepsilon_{y} \\cos^{2}{\\left(\\theta \\right)}$\n",
    "\n",
    "$\\gamma_{x'y'}= \\gamma_{xy} \\left(- \\sin^{2}{\\left(\\theta \\right)} + \\cos^{2}{\\left(\\theta \\right)}\\right) - 2 \\varepsilon_{x} \\sin{\\left(\\theta \\right)} \\cos{\\left(\\theta \\right)} + 2 \\varepsilon_{y} \\sin{\\left(\\theta \\right)} \\cos{\\left(\\theta \\right)}$"
   ]
  },
  {
   "cell_type": "markdown",
   "metadata": {},
   "source": [
    "Las podemos reescribir de forma matricial (aplicando la función ```sympy.linear_eq_to_matrix()```) como:\n",
    "\n",
    "$$\\left[\\begin{matrix}\\varepsilon_{x'} \\\\ \\varepsilon_{y'}\\\\ \\gamma_{x'y'} \\end{matrix}\\right] = \\underline{\\underline{T}}_{\\underline{\\underline{\\varepsilon}},2D} \\left[\\begin{matrix}\\varepsilon_{x} \\\\ \\varepsilon_{y}\\\\ \\gamma_{xy} \\end{matrix}\\right]$$"
   ]
  },
  {
   "cell_type": "code",
   "execution_count": 14,
   "metadata": {
    "scrolled": true
   },
   "outputs": [
    {
     "data": {
      "text/latex": [
       "$\\displaystyle \\left[\\begin{matrix}\\cos^{2}{\\left(\\theta \\right)} & \\sin^{2}{\\left(\\theta \\right)} & \\sin{\\left(\\theta \\right)} \\cos{\\left(\\theta \\right)}\\\\\\sin^{2}{\\left(\\theta \\right)} & \\cos^{2}{\\left(\\theta \\right)} & - \\sin{\\left(\\theta \\right)} \\cos{\\left(\\theta \\right)}\\\\- 2 \\sin{\\left(\\theta \\right)} \\cos{\\left(\\theta \\right)} & 2 \\sin{\\left(\\theta \\right)} \\cos{\\left(\\theta \\right)} & - \\sin^{2}{\\left(\\theta \\right)} + \\cos^{2}{\\left(\\theta \\right)}\\end{matrix}\\right]$"
      ],
      "text/plain": [
       "Matrix([\n",
       "[           cos(theta)**2,           sin(theta)**2,          sin(theta)*cos(theta)],\n",
       "[           sin(theta)**2,           cos(theta)**2,         -sin(theta)*cos(theta)],\n",
       "[-2*sin(theta)*cos(theta), 2*sin(theta)*cos(theta), -sin(theta)**2 + cos(theta)**2]])"
      ]
     },
     "execution_count": 14,
     "metadata": {},
     "output_type": "execute_result"
    }
   ],
   "source": [
    "T_e2D = linear_eq_to_matrix([e_xp, e_yp, g_xpyp],\n",
    "                            [  ex,   ey,    gxy])[0]\n",
    "T_e2D"
   ]
  },
  {
   "cell_type": "markdown",
   "metadata": {},
   "source": [
    "$$\\left[\\begin{matrix}\\varepsilon_{x'} \\\\ \\varepsilon_{y'}\\\\ \\gamma_{x'y'} \\end{matrix}\\right] = \\displaystyle \\left[\\begin{matrix}\\cos^{2}{\\left(\\theta \\right)} & \\sin^{2}{\\left(\\theta \\right)} & \\sin{\\left(\\theta \\right)} \\cos{\\left(\\theta \\right)}\\\\\\sin^{2}{\\left(\\theta \\right)} & \\cos^{2}{\\left(\\theta \\right)} & - \\sin{\\left(\\theta \\right)} \\cos{\\left(\\theta \\right)}\\\\- 2 \\sin{\\left(\\theta \\right)} \\cos{\\left(\\theta \\right)} & 2 \\sin{\\left(\\theta \\right)} \\cos{\\left(\\theta \\right)} & - \\sin^{2}{\\left(\\theta \\right)} + \\cos^{2}{\\left(\\theta \\right)}\\end{matrix}\\right] \\left[\\begin{matrix}\\varepsilon_{x} \\\\ \\varepsilon_{y}\\\\ \\gamma_{xy} \\end{matrix}\\right]$$"
   ]
  },
  {
   "cell_type": "markdown",
   "metadata": {},
   "source": [
    "Finalmente, se deben cumplir las igualdades:\n",
    "\n",
    "$$\\underline{\\underline{T}}_{\\underline{\\underline{\\sigma}},2D}^{-1}=\\underline{\\underline{T}}_{\\underline{\\underline{\\varepsilon}},2D}^T$$\n",
    "\n",
    "$$\\underline{\\underline{T}}_{\\underline{\\underline{\\varepsilon}},2D}^{-1}=\\underline{\\underline{T}}_{\\underline{\\underline{\\sigma}},2D}^T$$"
   ]
  },
  {
   "cell_type": "markdown",
   "metadata": {},
   "source": [
    "Verificando $\\underline{\\underline{T}}_{\\underline{\\underline{\\sigma}},2D}^{-1}=\\underline{\\underline{T}}_{\\underline{\\underline{\\varepsilon}},2D}^T$, usamos la función ```sympy.trigsimp()``` para simplificar:"
   ]
  },
  {
   "cell_type": "code",
   "execution_count": 15,
   "metadata": {
    "scrolled": true
   },
   "outputs": [
    {
     "data": {
      "text/latex": [
       "$\\displaystyle \\left[\\begin{matrix}0 & 0 & 0\\\\0 & 0 & 0\\\\0 & 0 & 0\\end{matrix}\\right]$"
      ],
      "text/plain": [
       "Matrix([\n",
       "[0, 0, 0],\n",
       "[0, 0, 0],\n",
       "[0, 0, 0]])"
      ]
     },
     "execution_count": 15,
     "metadata": {},
     "output_type": "execute_result"
    }
   ],
   "source": [
    "trigsimp(T_s2D**-1-transpose(T_e2D))"
   ]
  },
  {
   "cell_type": "markdown",
   "metadata": {},
   "source": [
    "Verificando $\\underline{\\underline{T}}_{\\underline{\\underline{\\varepsilon}},2D}^{-1}=\\underline{\\underline{T}}_{\\underline{\\underline{\\sigma}},2D}^T$, usamos la función ```sympy.trigsimp()``` para simplificar:"
   ]
  },
  {
   "cell_type": "code",
   "execution_count": 16,
   "metadata": {},
   "outputs": [
    {
     "data": {
      "text/latex": [
       "$\\displaystyle \\left[\\begin{matrix}0 & 0 & 0\\\\0 & 0 & 0\\\\0 & 0 & 0\\end{matrix}\\right]$"
      ],
      "text/plain": [
       "Matrix([\n",
       "[0, 0, 0],\n",
       "[0, 0, 0],\n",
       "[0, 0, 0]])"
      ]
     },
     "execution_count": 16,
     "metadata": {},
     "output_type": "execute_result"
    }
   ],
   "source": [
    "trigsimp(T_e2D**-1-transpose(T_s2D))"
   ]
  }
 ],
 "metadata": {
  "colab": {
   "authorship_tag": "ABX9TyPZmqM6ghZQX3PZ6huUCQ9o",
   "include_colab_link": true,
   "name": "03_04.ipynb",
   "provenance": []
  },
  "kernelspec": {
   "display_name": "Python 3",
   "language": "python",
   "name": "python3"
  },
  "language_info": {
   "codemirror_mode": {
    "name": "ipython",
    "version": 3
   },
   "file_extension": ".py",
   "mimetype": "text/x-python",
   "name": "python",
   "nbconvert_exporter": "python",
   "pygments_lexer": "ipython3",
   "version": "3.8.8"
  },
  "vscode": {
   "interpreter": {
    "hash": "916dbcbb3f70747c44a77c7bcd40155683ae19c65e1c03b4aa3499c5328201f1"
   }
  }
 },
 "nbformat": 4,
 "nbformat_minor": 1
}
