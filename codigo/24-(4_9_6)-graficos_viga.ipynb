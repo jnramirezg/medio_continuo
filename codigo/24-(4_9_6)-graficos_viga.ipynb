{
 "cells": [
  {
   "cell_type": "markdown",
   "id": "881617b4",
   "metadata": {},
   "source": [
    "<a href=\"https://colab.research.google.com/github/jnramirezg/mecanica_de_solidos/blob/main/codigo/24-(4_9_6)-graficos_viga.ipynb\" target=\"_parent\"><img src=\"https://colab.research.google.com/assets/colab-badge.svg\" alt=\"Open In Colab\"/></a>"
   ]
  },
  {
   "cell_type": "markdown",
   "id": "e0c68c3b",
   "metadata": {},
   "source": [
    "# 24. Gráficos de colores de esfuerzos y deformaciones (sección 4.9.6)\n",
    "\n",
    "|Quién | Fecha | Qué hizo |\n",
    "| ---  | ---   | ---      |\n",
    "|Juan Nicolás Ramírez, <jnramirezg@unal.edu.co> | 2022-10-10 | Conversión de código de MAXIMA a Python|\n",
    "\n"
   ]
  }
 ],
 "metadata": {
  "kernelspec": {
   "display_name": "Python 3",
   "language": "python",
   "name": "python3"
  },
  "language_info": {
   "codemirror_mode": {
    "name": "ipython",
    "version": 3
   },
   "file_extension": ".py",
   "mimetype": "text/x-python",
   "name": "python",
   "nbconvert_exporter": "python",
   "pygments_lexer": "ipython3",
   "version": "3.8.8"
  }
 },
 "nbformat": 4,
 "nbformat_minor": 5
}
