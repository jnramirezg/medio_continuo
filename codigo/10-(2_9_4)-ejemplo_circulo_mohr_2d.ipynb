{
 "cells": [
  {
   "cell_type": "markdown",
   "metadata": {
    "colab_type": "text",
    "id": "view-in-github"
   },
   "source": [
    "<a href=\"https://colab.research.google.com/github/jnramirezg/mecanica_de_solidos/blob/main/codigo/10-(2_9_4)-ejemplo_circulo_mohr_2d.ipynb\" target=\"_parent\"><img src=\"https://colab.research.google.com/assets/colab-badge.svg\" alt=\"Open In Colab\"/></a>"
   ]
  },
  {
   "cell_type": "markdown",
   "metadata": {
    "id": "hkrhEpAeT85c"
   },
   "source": [
    "# 10. Ejemplo Círculo de mohr (sección 2.9.4)\n",
    "\n",
    "|Quién | Fecha | Qué hizo |\n",
    "| ---  | ---   | ---      |\n",
    "|Michael Heredia Pérez, <mherediap@unal.edu.co> | 2022-07-15 | Conversión de código de MAXIMA a Python|\n",
    "|Michael Heredia Pérez, <mherediap@unal.edu.co> | 2022-09-15 | Mejor presentación de resultados y otros cálculos|\n",
    "|Michael Heredia Pérez, <mherediap@unal.edu.co> | 2022-09-19 | Cambiando comando ```.eig``` por ```.eigh``` |\n",
    "|Juan Nicolás Ramírez, <jnramirezg@unal.edu.co> | 2022-09-19 | Simplificando y adecuando |\n",
    "\n"
   ]
  },
  {
   "cell_type": "markdown",
   "metadata": {},
   "source": [
    "Importamos algunas funciones necesarias de ```numpy```, importamos el submódulo ```linalg``` de ```numpy``` (álgebra lineal) y el módulo ```matplotlib.pyplot``` para hacer gráficas:"
   ]
  },
  {
   "cell_type": "code",
   "execution_count": 1,
   "metadata": {
    "id": "ZYiAHiPIT0nr"
   },
   "outputs": [],
   "source": [
    "from numpy import array, arctan2, rad2deg, linspace, sin, cos, pi\n",
    "import numpy.linalg as LA\n",
    "import matplotlib.pyplot as plt"
   ]
  },
  {
   "cell_type": "markdown",
   "metadata": {
    "id": "NTJ-M7-6XNe8"
   },
   "source": [
    "## Matriz de tensiones\n",
    "Definimos las componentes de esfuerzos dadas como variables numéricas:"
   ]
  },
  {
   "cell_type": "code",
   "execution_count": 2,
   "metadata": {
    "colab": {
     "base_uri": "https://localhost:8080/"
    },
    "id": "cbDS1zoBUMZr",
    "outputId": "35ca2765-f839-431d-918e-387768e0d1e7"
   },
   "outputs": [],
   "source": [
    "sx  = -1  # [Pa]\n",
    "sy  =  2  # [Pa]\n",
    "txy = -3  # [Pa]"
   ]
  },
  {
   "cell_type": "markdown",
   "metadata": {},
   "source": [
    "Definimos la matriz de tensiones $\\underline{\\underline{\\boldsymbol{\\sigma}}}$ en tres dimensiones:"
   ]
  },
  {
   "cell_type": "code",
   "execution_count": 3,
   "metadata": {
    "scrolled": true
   },
   "outputs": [
    {
     "data": {
      "text/plain": [
       "array([[-1, -3],\n",
       "       [-3,  2]])"
      ]
     },
     "execution_count": 3,
     "metadata": {},
     "output_type": "execute_result"
    }
   ],
   "source": [
    "sigma = array([[ sx, txy], \n",
    "               [txy,  sy]])\n",
    "sigma  # Imprimir."
   ]
  },
  {
   "cell_type": "markdown",
   "metadata": {},
   "source": [
    "## Esfuerzos y direcciones principales"
   ]
  },
  {
   "cell_type": "markdown",
   "metadata": {},
   "source": [
    "Los valores propios (esfuerzos principales) y los vectores propios (direcciones principales) de la matriz de esfuerzos $\\underline{\\underline{\\sigma}}$ los calculamos en ```numpy.linalg```, que llamamos ```LA```, específicamente con la función ```LA.eigh()``` que calcula tanto los valores ```valp``` como los vectores propios ```vecp```. Esta función retorna una lista de dos entradas, la primera contiene los valores propios y la segunda contiene los vectores porpios."
   ]
  },
  {
   "cell_type": "code",
   "execution_count": 4,
   "metadata": {},
   "outputs": [],
   "source": [
    "valp, vecp = LA.eigh(sigma)"
   ]
  },
  {
   "cell_type": "markdown",
   "metadata": {},
   "source": [
    "**Nota:** refiérase a la documentación para entender porqué se usa el comando [numpy.linalg.eigh](https://numpy.org/doc/stable/reference/generated/numpy.linalg.eig.html) en lugar del [numpy.linalg.eig](https://numpy.org/doc/stable/reference/generated/numpy.linalg.eig.html). La función ```LA.eigh()``` se usa en vez de ```LA.eig()``` debido a que su algoritmo interno está hecho para matrices simétricas, es decir, es más eficiente."
   ]
  },
  {
   "cell_type": "code",
   "execution_count": 5,
   "metadata": {
    "id": "qHmK-X5HemsB"
   },
   "outputs": [],
   "source": [
    "valp, vecp   = LA.eigh(sigma)"
   ]
  },
  {
   "cell_type": "markdown",
   "metadata": {},
   "source": [
    "Tengamos en cuenta que en al función ```LA.eig()``` los esfuerzos principales vienen ordenados de menor a mayor y que cada columna de ```vecp``` representa el vector propio correspondiente."
   ]
  },
  {
   "cell_type": "code",
   "execution_count": 6,
   "metadata": {},
   "outputs": [],
   "source": [
    "s2,   s1 = valp\n",
    "ng2, ng1 = vecp.T[0], vecp.T[1]"
   ]
  },
  {
   "cell_type": "markdown",
   "metadata": {},
   "source": [
    "De los anteriores cálculos podemos concluir que:\n",
    "\n",
    "Al esfuerzo principal $(\\sigma_1)_{xy} =3.854 Pa$ le correponde la dirección $\\boldsymbol{\\underline{\\hat{n}_1}} =[-0.526, 0.851].T$\n",
    "\n",
    "Al esfuerzo principal $(\\sigma_2)_{xy} =-2.854 Pa$ le correponde la dirección $\\boldsymbol{\\underline{\\hat{n}_2}} =[-0.851, -0.526].T$"
   ]
  },
  {
   "cell_type": "markdown",
   "metadata": {
    "id": "JFuzJ6gWicI4"
   },
   "source": [
    "Calculamos el ángulo asociado al esfuerzo principal $(\\sigma_1)_{xy}$ con la ecuación:\n",
    "\n",
    "$$\n",
    "\\text{tan }2\\theta_1 = \\frac{2\\tau_{xy}}{\\sigma_x - \\sigma_y}\n",
    "$$\n"
   ]
  },
  {
   "cell_type": "code",
   "execution_count": 7,
   "metadata": {
    "colab": {
     "base_uri": "https://localhost:8080/"
    },
    "id": "1c0bRqR6ibow",
    "outputId": "08989170-5634-48f7-8df0-da1676989f21",
    "scrolled": true
   },
   "outputs": [
    {
     "data": {
      "text/plain": [
       "-1.0172219678978514"
      ]
     },
     "execution_count": 7,
     "metadata": {},
     "output_type": "execute_result"
    }
   ],
   "source": [
    "t1 = arctan2(2*txy, sx-sy)/2\n",
    "t1"
   ]
  },
  {
   "cell_type": "markdown",
   "metadata": {},
   "source": [
    "Expresamos el ángulo en grados:"
   ]
  },
  {
   "cell_type": "code",
   "execution_count": 8,
   "metadata": {},
   "outputs": [
    {
     "data": {
      "text/plain": [
       "-58.282525588538995"
      ]
     },
     "execution_count": 8,
     "metadata": {},
     "output_type": "execute_result"
    }
   ],
   "source": [
    "rad2deg(t1)"
   ]
  },
  {
   "cell_type": "markdown",
   "metadata": {},
   "source": [
    "$\\theta_1 =-1.0172 rad = -58.28 °$\n"
   ]
  },
  {
   "cell_type": "markdown",
   "metadata": {},
   "source": [
    "Recordemos que alternativamente, a partir del ángulo $\\theta_1$ y con las relaciones aprendidas, es posible calcular las direcciones principales como (según la sección 2.9.1 del <font color='blue'>main.pdf</font>):\n",
    "\n",
    "$\\boldsymbol{\\underline{\\hat{n}_1}} =[cos(\\theta_1), sin(\\theta_1)]^T$\n",
    "\n",
    "$\\boldsymbol{\\underline{\\hat{n}_2}} =[-sin(\\theta_1), cos(\\theta_1)]^T$\n"
   ]
  },
  {
   "cell_type": "markdown",
   "metadata": {},
   "source": [
    "Finalmente, el esfuerzo cortante máximo $\\tau_{max}$ a partir de la ecuación:\n",
    "\n",
    "$$\n",
    "\\tau_{max} = +\\frac{(\\sigma_1)_{xy} - (\\sigma_2)_{xy}}{2} = +\\sqrt{\\left(\\frac{\\sigma_x - \\sigma_y}{2}\\right)^2 + \\tau_{xy}^2 }  \n",
    "$$"
   ]
  },
  {
   "cell_type": "code",
   "execution_count": 9,
   "metadata": {
    "scrolled": true
   },
   "outputs": [
    {
     "data": {
      "text/plain": [
       "3.3541019662496847"
      ]
     },
     "execution_count": 9,
     "metadata": {},
     "output_type": "execute_result"
    }
   ],
   "source": [
    "tau_max = (((sx - sy)/2)**2 + txy**2)**0.5\n",
    "tau_max"
   ]
  },
  {
   "cell_type": "markdown",
   "metadata": {},
   "source": [
    "$\\tau_{max} =3.354 Pa$ en las direcciones:"
   ]
  },
  {
   "cell_type": "markdown",
   "metadata": {},
   "source": [
    "Recordemos que actúa sobre los planos ubicados a 45° de $\\theta_1$, es decir, sobre los planos que tienen los siguientes vectores unitarios:"
   ]
  },
  {
   "cell_type": "code",
   "execution_count": 10,
   "metadata": {},
   "outputs": [
    {
     "data": {
      "text/plain": [
       "[0.9732489894677302, -0.2297529205473612]"
      ]
     },
     "execution_count": 10,
     "metadata": {},
     "output_type": "execute_result"
    }
   ],
   "source": [
    "[ cos(t1 + pi/4), sin(t1 + pi/4) ]"
   ]
  },
  {
   "cell_type": "code",
   "execution_count": 11,
   "metadata": {},
   "outputs": [
    {
     "data": {
      "text/plain": [
       "[-0.22975292054736113, -0.9732489894677302]"
      ]
     },
     "execution_count": 11,
     "metadata": {},
     "output_type": "execute_result"
    }
   ],
   "source": [
    "[ cos(t1 - pi/4), sin(t1 - pi/4) ]"
   ]
  },
  {
   "cell_type": "markdown",
   "metadata": {},
   "source": [
    "Recordemos que lo relevante en el cálculo de vectores propios es su dirección, no su sentido (+ o -)."
   ]
  },
  {
   "cell_type": "markdown",
   "metadata": {
    "id": "5FrzkmQ2kTbg"
   },
   "source": [
    "## Gráfico del círculo de Mohr\n",
    "\n",
    "Utilizando las funcinaliades de graficación de Python es posible dibujar el círculo de Mohr para este estado de esfuerzos. Para ellos, empleamos las funciones parametrizadas.\n",
    "\n",
    "El círculo de mohr tiene dominio $[0, 180°)$, pero los cálculos los hacemos en radianes, es decir, en $[0, \\pi)$:"
   ]
  },
  {
   "cell_type": "markdown",
   "metadata": {},
   "source": [
    "Discretizamos el dominio en 100 puntos mediante la función ```numpy.linspace()``` en la variable ```tt```:"
   ]
  },
  {
   "cell_type": "code",
   "execution_count": 12,
   "metadata": {
    "id": "rdcj9QJPjug0"
   },
   "outputs": [],
   "source": [
    "tt = linspace(0, pi, 100)   "
   ]
  },
  {
   "cell_type": "markdown",
   "metadata": {
    "id": "wTt_Jv-0ruaK"
   },
   "source": [
    "Realizamos el cálculo de las ecuaciones de $\\sigma_n(\\theta)$ y $\\tau_n(\\theta)$:\n",
    "\n",
    "$$\\sigma_n(\\theta)=\\frac{\\sigma_x+\\sigma_y}{2}+\\frac{\\sigma_x-\\sigma_y}{2}\\cos(2\\theta)+\\tau_{xy}\\sin(2\\theta)$$\n",
    "\n",
    "$$\\tau_n(\\theta)=\\tau_{xy}\\cos(2\\theta)-\\frac{\\sigma_x-\\sigma_y}{2}\\sin(2\\theta)$$\n",
    "\n",
    "Evaluamos $\\sigma_n(\\theta)$ y $\\tau_n(\\theta)$ con el conjunto de 100 puntos. ```ssn_t``` y ```ttn_t``` serán arreglos de 100 puntos también."
   ]
  },
  {
   "cell_type": "code",
   "execution_count": 13,
   "metadata": {
    "id": "BMsuIcV2rvK7"
   },
   "outputs": [],
   "source": [
    "ssn_t = (sx+sy)/2 + (sx-sy)/2*cos(2*tt) + txy*sin(2*tt)\n",
    "ttn_t = txy*cos(2*tt) - (sx-sy)/2*sin(2*tt) "
   ]
  },
  {
   "cell_type": "markdown",
   "metadata": {
    "id": "CKRjn-ZdsQN8"
   },
   "source": [
    "Relizamos el gráfico:"
   ]
  },
  {
   "cell_type": "code",
   "execution_count": 16,
   "metadata": {
    "colab": {
     "base_uri": "https://localhost:8080/",
     "height": 615
    },
    "id": "LPX9xbh1md6Z",
    "outputId": "bd4d1e0d-7900-42ce-81e9-d7a7cf562bf7"
   },
   "outputs": [
    {
     "data": {
      "image/png": "[encoded data removed]",
      "text/plain": [
       "<Figure size 720x720 with 1 Axes>"
      ]
     },
     "metadata": {
      "needs_background": "light"
     },
     "output_type": "display_data"
    }
   ],
   "source": [
    "plt.rcParams.update({'font.size': 13})  # Defino un tamaño de fuente para todo el gráfico.\n",
    "\n",
    "fig, ax = plt.subplots()  # Inicio el lienzo.\n",
    "fig.set_figwidth(10)\n",
    "fig.set_figheight(10)\n",
    "\n",
    "# Dibujo los ejes.\n",
    "plt.plot((1.3*s2, 1.3*s1), (0, 0), ls=\"-\", color=\"gray\")\n",
    "#plt.plot((1.3*s2, 1.3*s2), (-1.3*tau_max, 1.3*tau_max), \"-k\")\n",
    "plt.plot((0,0), (-1.3*tau_max, 1.3*tau_max), ls=\"-\", color=\"gray\")\n",
    "\n",
    "# Dibujo la recta que pasa por los puntos C y A.\n",
    "ax.plot((sy, sx), (-txy, txy), \"--g\")\n",
    "\n",
    "ax.plot(sy, -txy, \"*r\")  # un 1% más abajo del punto.\n",
    "ax.plot(sx, txy,  \"*r\")  # un 1% más arriba del punto.\n",
    "\n",
    "ax.text(sy, -txy*1.1, r\"$( \\sigma_y, -\\tau_{xy} )=$\" + f\"({sy} Pa, {-txy} Pa)\")  \n",
    "ax.text(sx, txy*0.95,  r\"$( \\sigma_x, \\tau_{xy} )=$\" + f\"({sx} Pa, {txy} Pa)\")  \n",
    "\n",
    "# Marco el centro de la circunferencia O.\n",
    "ax.plot((sx+sy)/2, 0, \"*r\")\n",
    "ax.text((sx+sy)/2, 0,  \"O\")\n",
    "\n",
    "ax.plot(ssn_t, ttn_t, \"-b\")  # Dibujo la circunferencia.\n",
    "\n",
    "# Ubico los esfuerzos sx, sy \n",
    "ax.plot(sx, 0, \"*r\")\n",
    "ax.text(sx, 0.1, r\"$\\sigma_x = $\" + f\"{sx} Pa\")\n",
    "ax.plot(sy, 0, \"*r\")\n",
    "ax.text(sy, 0.1, r\"$\\sigma_y = $\" + f\"{sy} Pa\")\n",
    "\n",
    "# Ubico los esfuerzos principales s1, s2 \n",
    "ax.plot(s1, 0, \"*r\")\n",
    "ax.text(s1, 0.1, r\"$\\sigma_1 = $\" + f\"{round(s1, 2)} Pa\")\n",
    "ax.plot(s2, 0, \"*r\")\n",
    "ax.text(s2, 0.1, r\"$\\sigma_2 = $\" + f\"{round(s2, 2)} Pa\")\n",
    "\n",
    "# Indico el esfuerzo cortante máximo.\n",
    "ax.plot((sx+sy)/2, tau_max, \"*r\")\n",
    "ax.text((sx+sy)/2, 1.1*tau_max, r\"$(\\tau_{max})_{xy} = $\" + f\"{round(tau_max, 4)} Pa\")\n",
    "\n",
    "ax.set_xlabel(\"Esfuerzo normal \" + r\"$\\sigma_n$\")  # Nombre del eje x. \n",
    "ax.set_ylabel(\"Esfuerzo cortante \" + r\"$\\tau_n$\")  # Nombre del eje y.\n",
    "\n",
    "# Configuro parámetros del lienzo.\n",
    "ax.grid(which='major', linestyle='-')\n",
    "ax.set_aspect('equal', adjustable='box')\n",
    "\n",
    "plt.show()  # Presento en pantalla el lienzo."
   ]
  }
 ],
 "metadata": {
  "colab": {
   "authorship_tag": "ABX9TyPzsVKC98eOCdm/CUQsM3pG",
   "include_colab_link": true,
   "name": "02_09_04_ejemplo.ipynb",
   "provenance": []
  },
  "kernelspec": {
   "display_name": "Python 3",
   "language": "python",
   "name": "python3"
  },
  "language_info": {
   "codemirror_mode": {
    "name": "ipython",
    "version": 3
   },
   "file_extension": ".py",
   "mimetype": "text/x-python",
   "name": "python",
   "nbconvert_exporter": "python",
   "pygments_lexer": "ipython3",
   "version": "3.8.8"
  },
  "vscode": {
   "interpreter": {
    "hash": "916dbcbb3f70747c44a77c7bcd40155683ae19c65e1c03b4aa3499c5328201f1"
   }
  }
 },
 "nbformat": 4,
 "nbformat_minor": 1
}
