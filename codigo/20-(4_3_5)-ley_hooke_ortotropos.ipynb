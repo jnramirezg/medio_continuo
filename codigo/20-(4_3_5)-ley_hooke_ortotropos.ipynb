{
 "cells": [
  {
   "cell_type": "markdown",
   "id": "b2f490ac",
   "metadata": {},
   "source": [
    "<a href=\"https://colab.research.google.com/github/jnramirezg/mecanica_de_solidos/blob/main/codigo/20-(4_3_5)-ley_hooke_ortotropos.ipynb\" target=\"_parent\"><img src=\"https://colab.research.google.com/assets/colab-badge.svg\" alt=\"Open In Colab\"/></a>"
   ]
  },
  {
   "cell_type": "markdown",
   "id": "07dce1d5",
   "metadata": {},
   "source": [
    "# 20. Ley de Hooke generalizada para materiales ortotrópicos (sección 4.3.5)\n",
    "|Quién | Fecha | Qué hizo |\n",
    "| ---  | ---   | ---      |\n",
    "|Juan Nicolás Ramírez, <jnramirezg@unal.edu.co> | 2022-10-03 | Conversión de código de MAXIMA a Python|"
   ]
  },
  {
   "cell_type": "markdown",
   "id": "fcb76c85",
   "metadata": {},
   "source": [
    "Importamos las funciones de librería simbólica ```sympy```:"
   ]
  },
  {
   "cell_type": "code",
   "execution_count": 1,
   "id": "f49a1fee",
   "metadata": {},
   "outputs": [],
   "source": [
    "from sympy import *"
   ]
  },
  {
   "cell_type": "markdown",
   "id": "d9b90492",
   "metadata": {},
   "source": [
    "Definimos en escritura $\\LaTeX$ nuestras variables simbólicas:\n",
    "-  ```sx```,  ```sy```,  ```sz``` representan los esfuerzos axiales $\\sigma_x$, $\\sigma_y$, $\\sigma_z$\n",
    "- ```txy```, ```txz```, ```tyz``` representan los esfuerzos cortantes $\\tau_{xy}$, $\\tau_{xz}$, $\\tau_{yz}$\n",
    "-  ```ex```,  ```ey```,  ```ez``` representan las deformaciones axiales $\\varepsilon_x$, $\\varepsilon_y$, $\\varepsilon_z$\n",
    "- ```gxy```, ```gxz```, ```gyz``` representan las deformaciones angulares $\\gamma_{xy}$, $\\gamma_{xz}$, $\\gamma_{yz}$"
   ]
  },
  {
   "cell_type": "code",
   "execution_count": 2,
   "id": "5e935258",
   "metadata": {},
   "outputs": [],
   "source": [
    "sx,   sy,  sz = symbols(\"     sigma_x      sigma_y      sigma_z\")\n",
    "txy, txz, tyz = symbols(\"      tau_xy       tau_xz       tau_yz\")\n",
    "ex,   ey,  ez = symbols(\"varepsilon_x varepsilon_y varepsilon_z\")\n",
    "gxy, gxz, gyz = symbols(\"    gamma_xy     gamma_xz     gamma_yz\")"
   ]
  },
  {
   "cell_type": "markdown",
   "id": "252f055c",
   "metadata": {},
   "source": [
    "Definimos las constates de forma simbólica:\n",
    "- ```Ex```, ```Ey```, ```Ez``` representan los módulos de elasticidad $E_x$, $E_y$, $E_z$\n",
    "- ```nuxy```, ```nuxz```, ```nuyz``` representan los coeficientes de Poisson $\\nu_{xy}$, $\\nu_{xz}$, $\\nu_{yz}$ (revisar})\n",
    "- ```Gxy```, ```Gxz```, ```Gyz``` representan los módulos de cortante $G_{xy}$, $G_{xz}$, $G_{yz}$"
   ]
  },
  {
   "cell_type": "code",
   "execution_count": 3,
   "id": "e3269d0a",
   "metadata": {},
   "outputs": [],
   "source": [
    "Ex,     Ey,   Ez = symbols(\"  E_x   E_y   E_z\")\n",
    "Gxy,   Gxz,  Gyz = symbols(\" G_xy  G_xz  G_yz \")\n",
    "nuxy, nuxz, nuyz = symbols(\"nu_xy nu_xz nu_yz \")\n",
    "nuyx, nuzx, nuzy = symbols(\"nu_yx nu_zx nu_zy \")"
   ]
  },
  {
   "cell_type": "code",
   "execution_count": 4,
   "id": "82b0c919",
   "metadata": {},
   "outputs": [],
   "source": [
    "ex =       sx/Ex - nuyx*sy/Ey - nuzx*sz/Ez\n",
    "ey = -nuxy*sx/Ex +      sy/Ey - nuzy*sz/Ez\n",
    "ez = -nuxz*sx/Ex - nuyz*sy/Ey +      sz/Ez"
   ]
  },
  {
   "cell_type": "code",
   "execution_count": 5,
   "id": "978c2706",
   "metadata": {},
   "outputs": [],
   "source": [
    "gyz = tyz/Gyz\n",
    "gxz = txz/Gxz\n",
    "gxy = txy/Gxy"
   ]
  },
  {
   "cell_type": "code",
   "execution_count": 6,
   "id": "a124058b",
   "metadata": {},
   "outputs": [
    {
     "data": {
      "text/latex": [
       "$\\displaystyle \\left[\\begin{matrix}\\frac{1}{E_{x}} & - \\frac{\\nu_{yx}}{E_{y}} & - \\frac{\\nu_{zx}}{E_{z}} & 0 & 0 & 0\\\\- \\frac{\\nu_{xy}}{E_{x}} & \\frac{1}{E_{y}} & - \\frac{\\nu_{zy}}{E_{z}} & 0 & 0 & 0\\\\- \\frac{\\nu_{xz}}{E_{x}} & - \\frac{\\nu_{yz}}{E_{y}} & \\frac{1}{E_{z}} & 0 & 0 & 0\\\\0 & 0 & 0 & \\frac{1}{G_{yz}} & 0 & 0\\\\0 & 0 & 0 & 0 & \\frac{1}{G_{xz}} & 0\\\\0 & 0 & 0 & 0 & 0 & \\frac{1}{G_{xy}}\\end{matrix}\\right]$"
      ],
      "text/plain": [
       "Matrix([\n",
       "[     1/E_x, -nu_yx/E_y, -nu_zx/E_z,      0,      0,      0],\n",
       "[-nu_xy/E_x,      1/E_y, -nu_zy/E_z,      0,      0,      0],\n",
       "[-nu_xz/E_x, -nu_yz/E_y,      1/E_z,      0,      0,      0],\n",
       "[         0,          0,          0, 1/G_yz,      0,      0],\n",
       "[         0,          0,          0,      0, 1/G_xz,      0],\n",
       "[         0,          0,          0,      0,      0, 1/G_xy]])"
      ]
     },
     "execution_count": 6,
     "metadata": {},
     "output_type": "execute_result"
    }
   ],
   "source": [
    "S = linear_eq_to_matrix([ex, ey, ez, gyz, gxz, gxy], \n",
    "                        [sx, sy, sz, tyz, txz, txy])[0]\n",
    "simplify(S)"
   ]
  },
  {
   "cell_type": "code",
   "execution_count": 7,
   "id": "1284e877",
   "metadata": {
    "scrolled": false
   },
   "outputs": [
    {
     "data": {
      "text/latex": [
       "$\\displaystyle \\left[\\begin{matrix}\\frac{E_{x} \\nu_{yz} \\nu_{zy} - E_{x}}{\\nu_{xy} \\nu_{yx} + \\nu_{xy} \\nu_{yz} \\nu_{zx} + \\nu_{xz} \\nu_{yx} \\nu_{zy} + \\nu_{xz} \\nu_{zx} + \\nu_{yz} \\nu_{zy} - 1} & \\frac{- E_{x} \\nu_{yx} - E_{x} \\nu_{yz} \\nu_{zx}}{\\nu_{xy} \\nu_{yx} + \\nu_{xy} \\nu_{yz} \\nu_{zx} + \\nu_{xz} \\nu_{yx} \\nu_{zy} + \\nu_{xz} \\nu_{zx} + \\nu_{yz} \\nu_{zy} - 1} & \\frac{- E_{x} \\nu_{yx} \\nu_{zy} - E_{x} \\nu_{zx}}{\\nu_{xy} \\nu_{yx} + \\nu_{xy} \\nu_{yz} \\nu_{zx} + \\nu_{xz} \\nu_{yx} \\nu_{zy} + \\nu_{xz} \\nu_{zx} + \\nu_{yz} \\nu_{zy} - 1} & 0 & 0 & 0\\\\\\frac{- E_{y} \\nu_{xy} - E_{y} \\nu_{xz} \\nu_{zy}}{\\nu_{xy} \\nu_{yx} + \\nu_{xy} \\nu_{yz} \\nu_{zx} + \\nu_{xz} \\nu_{yx} \\nu_{zy} + \\nu_{xz} \\nu_{zx} + \\nu_{yz} \\nu_{zy} - 1} & \\frac{E_{y} \\nu_{xz} \\nu_{zx} - E_{y}}{\\nu_{xy} \\nu_{yx} + \\nu_{xy} \\nu_{yz} \\nu_{zx} + \\nu_{xz} \\nu_{yx} \\nu_{zy} + \\nu_{xz} \\nu_{zx} + \\nu_{yz} \\nu_{zy} - 1} & \\frac{- E_{y} \\nu_{xy} \\nu_{zx} - E_{y} \\nu_{zy}}{\\nu_{xy} \\nu_{yx} + \\nu_{xy} \\nu_{yz} \\nu_{zx} + \\nu_{xz} \\nu_{yx} \\nu_{zy} + \\nu_{xz} \\nu_{zx} + \\nu_{yz} \\nu_{zy} - 1} & 0 & 0 & 0\\\\\\frac{- E_{z} \\nu_{xy} \\nu_{yz} - E_{z} \\nu_{xz}}{\\nu_{xy} \\nu_{yx} + \\nu_{xy} \\nu_{yz} \\nu_{zx} + \\nu_{xz} \\nu_{yx} \\nu_{zy} + \\nu_{xz} \\nu_{zx} + \\nu_{yz} \\nu_{zy} - 1} & \\frac{- E_{z} \\nu_{xz} \\nu_{yx} - E_{z} \\nu_{yz}}{\\nu_{xy} \\nu_{yx} + \\nu_{xy} \\nu_{yz} \\nu_{zx} + \\nu_{xz} \\nu_{yx} \\nu_{zy} + \\nu_{xz} \\nu_{zx} + \\nu_{yz} \\nu_{zy} - 1} & \\frac{E_{z} \\nu_{xy} \\nu_{yx} - E_{z}}{\\nu_{xy} \\nu_{yx} + \\nu_{xy} \\nu_{yz} \\nu_{zx} + \\nu_{xz} \\nu_{yx} \\nu_{zy} + \\nu_{xz} \\nu_{zx} + \\nu_{yz} \\nu_{zy} - 1} & 0 & 0 & 0\\\\0 & 0 & 0 & G_{yz} & 0 & 0\\\\0 & 0 & 0 & 0 & G_{xz} & 0\\\\0 & 0 & 0 & 0 & 0 & G_{xy}\\end{matrix}\\right]$"
      ],
      "text/plain": [
       "Matrix([\n",
       "[       (E_x*nu_yz*nu_zy - E_x)/(nu_xy*nu_yx + nu_xy*nu_yz*nu_zx + nu_xz*nu_yx*nu_zy + nu_xz*nu_zx + nu_yz*nu_zy - 1), (-E_x*nu_yx - E_x*nu_yz*nu_zx)/(nu_xy*nu_yx + nu_xy*nu_yz*nu_zx + nu_xz*nu_yx*nu_zy + nu_xz*nu_zx + nu_yz*nu_zy - 1), (-E_x*nu_yx*nu_zy - E_x*nu_zx)/(nu_xy*nu_yx + nu_xy*nu_yz*nu_zx + nu_xz*nu_yx*nu_zy + nu_xz*nu_zx + nu_yz*nu_zy - 1),    0,    0,    0],\n",
       "[(-E_y*nu_xy - E_y*nu_xz*nu_zy)/(nu_xy*nu_yx + nu_xy*nu_yz*nu_zx + nu_xz*nu_yx*nu_zy + nu_xz*nu_zx + nu_yz*nu_zy - 1),        (E_y*nu_xz*nu_zx - E_y)/(nu_xy*nu_yx + nu_xy*nu_yz*nu_zx + nu_xz*nu_yx*nu_zy + nu_xz*nu_zx + nu_yz*nu_zy - 1), (-E_y*nu_xy*nu_zx - E_y*nu_zy)/(nu_xy*nu_yx + nu_xy*nu_yz*nu_zx + nu_xz*nu_yx*nu_zy + nu_xz*nu_zx + nu_yz*nu_zy - 1),    0,    0,    0],\n",
       "[(-E_z*nu_xy*nu_yz - E_z*nu_xz)/(nu_xy*nu_yx + nu_xy*nu_yz*nu_zx + nu_xz*nu_yx*nu_zy + nu_xz*nu_zx + nu_yz*nu_zy - 1), (-E_z*nu_xz*nu_yx - E_z*nu_yz)/(nu_xy*nu_yx + nu_xy*nu_yz*nu_zx + nu_xz*nu_yx*nu_zy + nu_xz*nu_zx + nu_yz*nu_zy - 1),        (E_z*nu_xy*nu_yx - E_z)/(nu_xy*nu_yx + nu_xy*nu_yz*nu_zx + nu_xz*nu_yx*nu_zy + nu_xz*nu_zx + nu_yz*nu_zy - 1),    0,    0,    0],\n",
       "[                                                                                                                   0,                                                                                                                    0,                                                                                                                    0, G_yz,    0,    0],\n",
       "[                                                                                                                   0,                                                                                                                    0,                                                                                                                    0,    0, G_xz,    0],\n",
       "[                                                                                                                   0,                                                                                                                    0,                                                                                                                    0,    0,    0, G_xy]])"
      ]
     },
     "execution_count": 7,
     "metadata": {},
     "output_type": "execute_result"
    }
   ],
   "source": [
    "D = S**-1\n",
    "D"
   ]
  },
  {
   "cell_type": "code",
   "execution_count": 8,
   "id": "a9e65755",
   "metadata": {},
   "outputs": [],
   "source": [
    "delta = (1-nuyz*nuzy - nuxz*nuzx - nuxy*nuyx - nuxz*nuyx*nuzy - nuxy*nuyz*nuzx)/(Ex*Ey*Ez)"
   ]
  },
  {
   "cell_type": "code",
   "execution_count": 9,
   "id": "367f61c8",
   "metadata": {},
   "outputs": [
    {
     "data": {
      "text/latex": [
       "$\\displaystyle \\left[\\begin{matrix}\\frac{- \\nu_{yz} \\nu_{zy} + 1}{E_{y} E_{z}} & \\frac{\\nu_{yx} + \\nu_{yz} \\nu_{zx}}{E_{y} E_{z}} & \\frac{\\nu_{yx} \\nu_{zy} + \\nu_{zx}}{E_{y} E_{z}} & 0 & 0 & 0\\\\\\frac{\\nu_{xy} + \\nu_{xz} \\nu_{zy}}{E_{x} E_{z}} & \\frac{- \\nu_{xz} \\nu_{zx} + 1}{E_{x} E_{z}} & \\frac{\\nu_{xy} \\nu_{zx} + \\nu_{zy}}{E_{x} E_{z}} & 0 & 0 & 0\\\\\\frac{\\nu_{xy} \\nu_{yz} + \\nu_{xz}}{E_{x} E_{y}} & \\frac{\\nu_{xz} \\nu_{yx} + \\nu_{yz}}{E_{x} E_{y}} & \\frac{- \\nu_{xy} \\nu_{yx} + 1}{E_{x} E_{y}} & 0 & 0 & 0\\\\0 & 0 & 0 & \\frac{G_{yz} \\left(- \\nu_{xy} \\nu_{yx} - \\nu_{xy} \\nu_{yz} \\nu_{zx} - \\nu_{xz} \\nu_{yx} \\nu_{zy} - \\nu_{xz} \\nu_{zx} - \\nu_{yz} \\nu_{zy} + 1\\right)}{E_{x} E_{y} E_{z}} & 0 & 0\\\\0 & 0 & 0 & 0 & \\frac{G_{xz} \\left(- \\nu_{xy} \\nu_{yx} - \\nu_{xy} \\nu_{yz} \\nu_{zx} - \\nu_{xz} \\nu_{yx} \\nu_{zy} - \\nu_{xz} \\nu_{zx} - \\nu_{yz} \\nu_{zy} + 1\\right)}{E_{x} E_{y} E_{z}} & 0\\\\0 & 0 & 0 & 0 & 0 & \\frac{G_{xy} \\left(- \\nu_{xy} \\nu_{yx} - \\nu_{xy} \\nu_{yz} \\nu_{zx} - \\nu_{xz} \\nu_{yx} \\nu_{zy} - \\nu_{xz} \\nu_{zx} - \\nu_{yz} \\nu_{zy} + 1\\right)}{E_{x} E_{y} E_{z}}\\end{matrix}\\right]$"
      ],
      "text/plain": [
       "Matrix([\n",
       "[   (-nu_yz*nu_zy + 1)/(E_y*E_z), (nu_yx + nu_yz*nu_zx)/(E_y*E_z), (nu_yx*nu_zy + nu_zx)/(E_y*E_z),                                                                                                         0,                                                                                                         0,                                                                                                         0],\n",
       "[(nu_xy + nu_xz*nu_zy)/(E_x*E_z),    (-nu_xz*nu_zx + 1)/(E_x*E_z), (nu_xy*nu_zx + nu_zy)/(E_x*E_z),                                                                                                         0,                                                                                                         0,                                                                                                         0],\n",
       "[(nu_xy*nu_yz + nu_xz)/(E_x*E_y), (nu_xz*nu_yx + nu_yz)/(E_x*E_y),    (-nu_xy*nu_yx + 1)/(E_x*E_y),                                                                                                         0,                                                                                                         0,                                                                                                         0],\n",
       "[                              0,                               0,                               0, G_yz*(-nu_xy*nu_yx - nu_xy*nu_yz*nu_zx - nu_xz*nu_yx*nu_zy - nu_xz*nu_zx - nu_yz*nu_zy + 1)/(E_x*E_y*E_z),                                                                                                         0,                                                                                                         0],\n",
       "[                              0,                               0,                               0,                                                                                                         0, G_xz*(-nu_xy*nu_yx - nu_xy*nu_yz*nu_zx - nu_xz*nu_yx*nu_zy - nu_xz*nu_zx - nu_yz*nu_zy + 1)/(E_x*E_y*E_z),                                                                                                         0],\n",
       "[                              0,                               0,                               0,                                                                                                         0,                                                                                                         0, G_xy*(-nu_xy*nu_yx - nu_xy*nu_yz*nu_zx - nu_xz*nu_yx*nu_zy - nu_xz*nu_zx - nu_yz*nu_zy + 1)/(E_x*E_y*E_z)]])"
      ]
     },
     "execution_count": 9,
     "metadata": {},
     "output_type": "execute_result"
    }
   ],
   "source": [
    "simplify(D*delta)"
   ]
  }
 ],
 "metadata": {
  "kernelspec": {
   "display_name": "Python 3",
   "language": "python",
   "name": "python3"
  },
  "language_info": {
   "codemirror_mode": {
    "name": "ipython",
    "version": 3
   },
   "file_extension": ".py",
   "mimetype": "text/x-python",
   "name": "python",
   "nbconvert_exporter": "python",
   "pygments_lexer": "ipython3",
   "version": "3.8.8"
  }
 },
 "nbformat": 4,
 "nbformat_minor": 5
}
