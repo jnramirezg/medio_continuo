{
 "cells": [
  {
   "cell_type": "markdown",
   "metadata": {
    "colab_type": "text",
    "id": "view-in-github"
   },
   "source": [
    "<a href=\"https://colab.research.google.com/github/jnramirezg/medio_continuo/blob/main/codigo/23-(4_8_3)-ejemplo_DP.ipynb\" target=\"_parent\"><img src=\"https://colab.research.google.com/assets/colab-badge.svg\" alt=\"Open In Colab\"/></a>"
   ]
  },
  {
   "cell_type": "markdown",
   "metadata": {
    "id": "ZiuVgBpBNpeb"
   },
   "source": [
    "# 23. Relación entre los esfuerzos principales obtenidos en el análisis bidimensional y tridimensional (sección 4.8.3)\n",
    "\n",
    "|Quién | Fecha | Qué hizo |\n",
    "| ---  | ---   | ---      |\n",
    "|Michael Heredia Pérez, <mherediap@unal.edu.co> | 2022-07-20 | Conversión de código de MATLAB a Python|\n",
    "\n",
    "## Ejemplo de *deformación plana*\n"
   ]
  },
  {
   "cell_type": "markdown",
   "metadata": {
    "id": "DMaMGRjdPbe2"
   },
   "source": [
    "Al igual que como hicimos con sympy, podemos importar completamente la librería de numpy para trabajar con ella, sin embargo, recuerden que no es la práctica recomendada."
   ]
  },
  {
   "cell_type": "code",
   "execution_count": 1,
   "metadata": {
    "id": "JLVyHVSCNGTs"
   },
   "outputs": [],
   "source": [
    "from numpy import *\n",
    "set_printoptions(precision=4)   # imprime todo con 4 cifras decimales max"
   ]
  },
  {
   "cell_type": "markdown",
   "metadata": {
    "id": "3WJWjq03PoHr"
   },
   "source": [
    "Asumamos $\\nu = $0.30 y un estado de **deformación plana**; para calcular los nuevos esfuerzos y direcciones principales, adicionalmente a $\\sigma_x = $ − 1 Pa, $\\sigma_y = $ = 2 Pa y $\\tau_{xy} = $ − 3 Pa, se debe tener en cuenta que $\\tau_{xz} = G\\gamma_{xz}$ = 0 Pa, $\\tau_{yz} = G\\gamma_{yz}$ = 0 Pa y $\\sigma_z = \\nu(\\sigma_x + \\sigma_v) = $ 0.3( − 1 Pa + 2 Pa) = 0.3 Pa (este último esfuerzo se calculó utilizando la ecuación (4.42)). Para calcular los valores y vectores propios del problema ensamblamos la matriz (4.43)"
   ]
  },
  {
   "cell_type": "code",
   "execution_count": 2,
   "metadata": {
    "colab": {
     "base_uri": "https://localhost:8080/"
    },
    "id": "FiZXRDZBPmJZ",
    "outputId": "1cf52374-9551-443d-9263-91f3f33ff742"
   },
   "outputs": [
    {
     "data": {
      "text/plain": [
       "array([[-1. , -3. ,  0. ],\n",
       "       [-3. ,  2. ,  0. ],\n",
       "       [ 0. ,  0. ,  0.3]])"
      ]
     },
     "execution_count": 2,
     "metadata": {},
     "output_type": "execute_result"
    }
   ],
   "source": [
    "# Defino las variables.\n",
    "sx  = -1\n",
    "sy  = 2\n",
    "txy = -3\n",
    "nu  = 0.30\n",
    "\n",
    "# La matriz de esfuerzos.\n",
    "sigma = array([[sx, txy,            0],\n",
    "               [txy, sy,            0],\n",
    "               [0,    0, nu*(sx + sy)]])\n",
    "sigma"
   ]
  },
  {
   "cell_type": "code",
   "execution_count": 3,
   "metadata": {
    "id": "jASDK_9wRmH6"
   },
   "outputs": [],
   "source": [
    "# Calculo lo vectores y valores propios\n",
    "valp, vecp = linalg.eig(sigma)"
   ]
  },
  {
   "cell_type": "code",
   "execution_count": 4,
   "metadata": {
    "colab": {
     "base_uri": "https://localhost:8080/"
    },
    "id": "pJPht7fURtqr",
    "outputId": "af6226dd-1d75-43ef-cb54-3a9651f6cdc5"
   },
   "outputs": [
    {
     "data": {
      "text/plain": [
       "array([-2.8541,  3.8541,  0.3   ])"
      ]
     },
     "execution_count": 4,
     "metadata": {},
     "output_type": "execute_result"
    }
   ],
   "source": [
    "valp"
   ]
  },
  {
   "cell_type": "code",
   "execution_count": 5,
   "metadata": {
    "colab": {
     "base_uri": "https://localhost:8080/"
    },
    "id": "HwA33qiURu-B",
    "outputId": "d84d088f-7d43-47b9-b507-054c52f095e9"
   },
   "outputs": [
    {
     "data": {
      "text/plain": [
       "array([[-0.8507,  0.5257,  0.    ],\n",
       "       [-0.5257, -0.8507,  0.    ],\n",
       "       [ 0.    ,  0.    ,  1.    ]])"
      ]
     },
     "execution_count": 5,
     "metadata": {},
     "output_type": "execute_result"
    }
   ],
   "source": [
    "vecp"
   ]
  },
  {
   "cell_type": "markdown",
   "metadata": {
    "id": "q-jSWd5lStdu"
   },
   "source": [
    "Es necesario enumerar de nuevo los valores y vectores propios de modo que $\\sigma_1 \\geq \\sigma_2 \\geq \\sigma_3$, y organizar el sentido de los vectores propios para que se cumpla la regla de la mano derecha ($\\mathbf{ \\hat{n}_3 = \\hat{n}_1 \\times \\hat{n}_2 }$), por lo que la solución al ejercicio se debe dar como:\n",
    "\n",
    "$\\sigma_3 , \\sigma_2 , \\sigma_1 =$"
   ]
  },
  {
   "cell_type": "code",
   "execution_count": 6,
   "metadata": {
    "colab": {
     "base_uri": "https://localhost:8080/"
    },
    "id": "aMpVnZhsRwb-",
    "outputId": "27e90ed4-129b-4034-b7c4-8c69162ebc75"
   },
   "outputs": [
    {
     "data": {
      "text/plain": [
       "array([-2.8541,  0.3   ,  3.8541])"
      ]
     },
     "execution_count": 6,
     "metadata": {},
     "output_type": "execute_result"
    }
   ],
   "source": [
    "sort(valp)"
   ]
  },
  {
   "cell_type": "markdown",
   "metadata": {
    "id": "0bXSobojTyH2"
   },
   "source": [
    "$\\hat{n}_1 = $"
   ]
  },
  {
   "cell_type": "code",
   "execution_count": 7,
   "metadata": {
    "colab": {
     "base_uri": "https://localhost:8080/"
    },
    "id": "Z2FAufocTjCf",
    "outputId": "13a62f5d-8e33-4977-fb68-5adc147a9724"
   },
   "outputs": [
    {
     "data": {
      "text/plain": [
       "array([ 0.5257, -0.8507,  0.    ])"
      ]
     },
     "execution_count": 7,
     "metadata": {},
     "output_type": "execute_result"
    }
   ],
   "source": [
    "vecp[:,1]"
   ]
  },
  {
   "cell_type": "markdown",
   "metadata": {
    "id": "5kjaKyK-UjCd"
   },
   "source": [
    "$\\hat{n}_2 = $"
   ]
  },
  {
   "cell_type": "code",
   "execution_count": 8,
   "metadata": {
    "colab": {
     "base_uri": "https://localhost:8080/"
    },
    "id": "PTL6HK1XT3mh",
    "outputId": "7c0703d8-8814-46d5-eda0-881f6d74e778"
   },
   "outputs": [
    {
     "data": {
      "text/plain": [
       "array([0., 0., 1.])"
      ]
     },
     "execution_count": 8,
     "metadata": {},
     "output_type": "execute_result"
    }
   ],
   "source": [
    "vecp[:,2]"
   ]
  },
  {
   "cell_type": "markdown",
   "metadata": {
    "id": "tQ682VJkUqne"
   },
   "source": [
    "$\\hat{n}_3 = $"
   ]
  },
  {
   "cell_type": "code",
   "execution_count": 9,
   "metadata": {
    "colab": {
     "base_uri": "https://localhost:8080/"
    },
    "id": "_MJIwgwHUm4-",
    "outputId": "c1f22e82-1e67-4091-d553-ce73a3698755"
   },
   "outputs": [
    {
     "data": {
      "text/plain": [
       "array([-0.8507, -0.5257,  0.    ])"
      ]
     },
     "execution_count": 9,
     "metadata": {},
     "output_type": "execute_result"
    }
   ],
   "source": [
    "vecp[:,0]"
   ]
  },
  {
   "cell_type": "markdown",
   "metadata": {
    "id": "Ifz55zcWU5v5"
   },
   "source": [
    "ya que al hacer el producto cruz, obtenemos"
   ]
  },
  {
   "cell_type": "code",
   "execution_count": 10,
   "metadata": {
    "colab": {
     "base_uri": "https://localhost:8080/"
    },
    "id": "KikYoefEUqGw",
    "outputId": "2fb3d14a-cc26-478c-df6a-a07fa6493a29"
   },
   "outputs": [
    {
     "data": {
      "text/plain": [
       "array([-0.8507, -0.5257,  0.    ])"
      ]
     },
     "execution_count": 10,
     "metadata": {},
     "output_type": "execute_result"
    }
   ],
   "source": [
    "n1 = vecp[:, 1]\n",
    "n2 = vecp[:, 2]\n",
    "cross(n1, n2)"
   ]
  },
  {
   "cell_type": "markdown",
   "metadata": {
    "id": "1hA1Yf7JVNLU"
   },
   "source": [
    "con lo cual cumplimos la regla de la mano derecha, al obtener el sentido requerido para $\\hat{n}_3$.\n",
    "\n",
    "Si se hubiera asumido el vector $\\hat{n}_2 = $ como $[0, 0, 1]^\\intercal$, el sentido del vector $\\hat{n}_3$ sería el dado por el siguiente cálculo:"
   ]
  },
  {
   "cell_type": "code",
   "execution_count": 11,
   "metadata": {
    "colab": {
     "base_uri": "https://localhost:8080/"
    },
    "id": "mGzDiYKCVKQV",
    "outputId": "5da60ecb-6d5e-4134-f910-bf6f80c4d047"
   },
   "outputs": [
    {
     "data": {
      "text/plain": [
       "array([ 0.8507,  0.5257, -0.    ])"
      ]
     },
     "execution_count": 11,
     "metadata": {},
     "output_type": "execute_result"
    }
   ],
   "source": [
    "n1 = vecp[:, 1]\n",
    "n2 = -vecp[:, 2]\n",
    "cross(n1, n2)"
   ]
  },
  {
   "cell_type": "markdown",
   "metadata": {
    "id": "JkvZdhYeWcjY"
   },
   "source": [
    "Observe que en este caso, dos de los valores propios coincidieron con $(\\sigma_1)_{xy} =$ 3.8541 Pa y $(\\sigma_2)_{xy} =$ − 2.8541 Pa, mientras que el otro valor propio es igual al $\\sigma_z$ de\n",
    "la ecuación (4.42), es decir, $\\sigma_ = \\nu (\\sigma_x + \\sigma_y)$ . De hecho, las direcciones principales asociadas a tales valores propios describieron los vectores $[ − 0.5257, 0.8507, 0]^\\intercal$ y\n",
    "$[0.8507, 0.5257, 0]^\\intercal$ que habíamos mencionado anteriormente y el vector propio asociado al valor propio de $\\sigma_z$ fue $[0, 0, − 1]^\\intercal$ (ver Figura 4.17).\n",
    "\n",
    "Finalmente, debemos recalcular el esfuerzo cortante máximo. Según se dijo en la Sección 2.9.7, este tiene una magnitud dada por la ecuación (2.75): $\\tau_{max} = \\frac{\\sigma_1-\\sigma_3}{2}$ y se presenta en los planos ortogonales a los vectores $\\frac{ \\hat{n}_1 - \\hat{n}_3}{||\\hat{n}_1 - \\hat{n}_3||}$ y $\\frac{ \\hat{n}_1 + \\hat{n}_3}{||\\hat{n}_1 + \\hat{n}_3||}$; por lo tanto, el esfuerzo cortante máximo es 3.3541 Pa y se presenta en los planos con normal $\\frac{ \\hat{n}_1 - \\hat{n}_3}{||\\hat{n}_1 - \\hat{n}_3||} = $ $[0.2298, 0.9732, 0]^\\intercal$ y\n",
    "$\\frac{ \\hat{n}_1 + \\hat{n}_3}{||\\hat{n}_1 + \\hat{n}_3||} =$  $[ − 0.9732, 0.2298, 0]^\\intercal$.\n",
    "\n",
    "En resumen, se tiene que dos de los valores propios corresponden a $(\\sigma_1)_{xy}$ y $(\\sigma_2)_{xy}$, mientras que el otro corresponde a $\\sigma_z$. Los vectores propios asociados son los mismos calculados en el caso bidimensional para los dos primeros, agregando un 0 en la componente $z$, mientras que el vector propio asociado a $\\sigma_z$ tiene la dirección de $[0,0, \\pm 1]^\\intercal$ , siendo necesario ajustar su sentido. \n",
    "\n",
    "De este modo, luego de reordenar los valores propios, tenemos:\n",
    "\n",
    "$$\\sigma_1 = \\max\\left( (\\sigma_1)_{xy}, (\\sigma_1)_{xy}, \\nu(\\sigma_x + \\sigma_y) \\right) $$\n",
    "\n",
    "$$\\sigma_2 = mediana\\left( (\\sigma_1)_{xy}, (\\sigma_1)_{xy}, \\nu(\\sigma_x + \\sigma_y) \\right) $$\n",
    "\n",
    "$$\\sigma_3 = \\min\\left( (\\sigma_1)_{xy}, (\\sigma_1)_{xy}, \\nu(\\sigma_x + \\sigma_y) \\right) $$\n",
    "\n",
    "$$ \\tau_{\\max} = \\max\\left( \\frac{(\\sigma_1)_{xy} - \\nu(\\sigma_x + \\sigma_y)}{2},  \\frac{(\\sigma_2)_{xy} - \\nu(\\sigma_x + \\sigma_y)}{2},  \\frac{ (\\sigma_1)_{xy} - (\\sigma_2)_{xy} }{2}   \\right)  $$ "
   ]
  }
 ],
 "metadata": {
  "colab": {
   "authorship_tag": "ABX9TyMaipVYtL5pmjAGcXq3QWts",
   "include_colab_link": true,
   "name": "04_08_03_ejemplo_DP.ipynb",
   "provenance": []
  },
  "kernelspec": {
   "display_name": "Python 3",
   "language": "python",
   "name": "python3"
  },
  "language_info": {
   "codemirror_mode": {
    "name": "ipython",
    "version": 3
   },
   "file_extension": ".py",
   "mimetype": "text/x-python",
   "name": "python",
   "nbconvert_exporter": "python",
   "pygments_lexer": "ipython3",
   "version": "3.8.8"
  }
 },
 "nbformat": 4,
 "nbformat_minor": 1
}
