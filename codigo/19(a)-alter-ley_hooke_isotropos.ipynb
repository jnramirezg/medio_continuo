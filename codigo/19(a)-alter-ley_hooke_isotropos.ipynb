{
 "cells": [
  {
   "cell_type": "markdown",
   "id": "947306fb",
   "metadata": {},
   "source": [
    "# 19(a). Ley de Hooke generalizada para materiales isótropos (alternativa)\n",
    "\n",
    "|Quién | Fecha | Qué hizo |\n",
    "| ---  | ---   | ---      |\n",
    "|Juan Nicolás Ramírez, <jnramirezg@unal.edu.co> | 2022-10-24 | Creando código|"
   ]
  },
  {
   "cell_type": "markdown",
   "id": "b66ffa31",
   "metadata": {},
   "source": [
    "A partir de las ecuaciones:\n",
    "\n",
    "$\\varepsilon_x = \\displaystyle\\frac{1}{E}\\left(\\sigma_x- \\nu(\\sigma_y+\\sigma_z)\\right)$ (<font color='blue'>1</font>)\n",
    "\n",
    "$\\varepsilon_y = \\displaystyle\\frac{1}{E}\\left(\\sigma_y- \\nu(\\sigma_x+\\sigma_z)\\right)$ (<font color='blue'>2</font>)\n",
    "\n",
    "$\\varepsilon_z = \\displaystyle\\frac{1}{E}\\left(\\sigma_z- \\nu(\\sigma_x+\\sigma_y)\\right)$ (<font color='blue'>3</font>)\n",
    "\n",
    "$\\gamma_{xy}=\\displaystyle\\frac{1}{G}\\tau_{xy}$ (<font color='blue'>4</font>)\n",
    "\n",
    "$\\gamma_{xz}=\\displaystyle\\frac{1}{G}\\tau_{xz}$ (<font color='blue'>5</font>)\n",
    "\n",
    "$\\gamma_{yz}=\\displaystyle\\frac{1}{G}\\tau_{yz}$ (<font color='blue'>6</font>)"
   ]
  },
  {
   "cell_type": "markdown",
   "id": "71e1964d",
   "metadata": {},
   "source": [
    "Importamos las funciones de librería simbólica ```sympy```:"
   ]
  },
  {
   "cell_type": "code",
   "execution_count": 1,
   "id": "e817eda3",
   "metadata": {},
   "outputs": [],
   "source": [
    "from sympy import *\n",
    "init_printing()"
   ]
  },
  {
   "cell_type": "markdown",
   "id": "bd061149",
   "metadata": {},
   "source": [
    "Definimos en escritura $\\LaTeX$ nuestras variables simbólicas:\n",
    "- ```sx```, ```sy```, ```sz``` representan los esfuerzos axiales $\\sigma_x$, $\\sigma_y$, $\\sigma_z$\n",
    "- ```txy```, ```txz```, ```tyz``` representan los esfuerzos cortantes $\\tau_{xy}$, $\\tau_{xz}$, $\\tau_{yz}$\n",
    "- ```E``` representa el módulo de la elasticidad y ```nu``` representa el coeficiente de Poisson $\\nu$."
   ]
  },
  {
   "cell_type": "code",
   "execution_count": 2,
   "id": "0f445c13",
   "metadata": {
    "scrolled": true
   },
   "outputs": [
    {
     "data": {
      "image/png": "[encoded data removed]",
      "text/latex": [
       "$\\displaystyle \\left( \\sigma_{x}, \\  \\sigma_{y}, \\  \\sigma_{z}, \\  \\tau_{yz}, \\  \\tau_{xz}, \\  \\tau_{xy}, \\  E, \\  \\nu\\right)$"
      ],
      "text/plain": [
       "(σₓ, σ_y, σ_z, τ_yz, τ_xz, τ_xy, E, ν)"
      ]
     },
     "execution_count": 2,
     "metadata": {},
     "output_type": "execute_result"
    }
   ],
   "source": [
    "sx,   sy,  sz = symbols(\"sigma_x sigma_y sigma_z\")\n",
    "tyz, txz, txy = symbols(\"tau_yz  tau_xz  tau_xy\")\n",
    "E, nu = symbols(\"E nu\")\n",
    "sx, sy, sz, tyz, txz, txy, E, nu"
   ]
  },
  {
   "cell_type": "markdown",
   "id": "2b02a94f",
   "metadata": {},
   "source": [
    "Definimos la constante ```G```:"
   ]
  },
  {
   "cell_type": "code",
   "execution_count": 3,
   "id": "66005e93",
   "metadata": {},
   "outputs": [],
   "source": [
    "G = E / (2 * (1+nu))"
   ]
  },
  {
   "cell_type": "markdown",
   "id": "0ca10001",
   "metadata": {},
   "source": [
    "Evaluamos las ecuaciones (<font color='blue'>1</font>), (<font color='blue'>2</font>), (<font color='blue'>3</font>), (<font color='blue'>4</font>), (<font color='blue'>5</font>) y (<font color='blue'>6</font>)."
   ]
  },
  {
   "cell_type": "code",
   "execution_count": 4,
   "id": "c6ad3e76",
   "metadata": {},
   "outputs": [],
   "source": [
    "ex = (1/E)*(sx - nu*(sy + sz))\n",
    "ey = (1/E)*(sy - nu*(sx + sz))\n",
    "ez = (1/E)*(sz - nu*(sx + sy))\n",
    "gyz = tyz/G\n",
    "gxz = txz/G\n",
    "gxy = txy/G"
   ]
  },
  {
   "cell_type": "markdown",
   "id": "41ecac88",
   "metadata": {},
   "source": [
    "Extraemos la matriz de conformidad ```S```:"
   ]
  },
  {
   "cell_type": "code",
   "execution_count": 5,
   "id": "8e8936f4",
   "metadata": {
    "scrolled": true
   },
   "outputs": [
    {
     "data": {
      "image/png": "[encoded data removed]",
      "text/latex": [
       "$\\displaystyle \\left[\\begin{matrix}\\frac{1}{E} & - \\frac{\\nu}{E} & - \\frac{\\nu}{E} & 0 & 0 & 0\\\\- \\frac{\\nu}{E} & \\frac{1}{E} & - \\frac{\\nu}{E} & 0 & 0 & 0\\\\- \\frac{\\nu}{E} & - \\frac{\\nu}{E} & \\frac{1}{E} & 0 & 0 & 0\\\\0 & 0 & 0 & \\frac{2 \\nu + 2}{E} & 0 & 0\\\\0 & 0 & 0 & 0 & \\frac{2 \\nu + 2}{E} & 0\\\\0 & 0 & 0 & 0 & 0 & \\frac{2 \\nu + 2}{E}\\end{matrix}\\right]$"
      ],
      "text/plain": [
       "⎡ 1   -ν   -ν                            ⎤\n",
       "⎢ ─   ───  ───     0        0        0   ⎥\n",
       "⎢ E    E    E                            ⎥\n",
       "⎢                                        ⎥\n",
       "⎢-ν    1   -ν                            ⎥\n",
       "⎢───   ─   ───     0        0        0   ⎥\n",
       "⎢ E    E    E                            ⎥\n",
       "⎢                                        ⎥\n",
       "⎢-ν   -ν    1                            ⎥\n",
       "⎢───  ───   ─      0        0        0   ⎥\n",
       "⎢ E    E    E                            ⎥\n",
       "⎢                                        ⎥\n",
       "⎢               2⋅ν + 2                  ⎥\n",
       "⎢ 0    0    0   ───────     0        0   ⎥\n",
       "⎢                  E                     ⎥\n",
       "⎢                                        ⎥\n",
       "⎢                        2⋅ν + 2         ⎥\n",
       "⎢ 0    0    0      0     ───────     0   ⎥\n",
       "⎢                           E            ⎥\n",
       "⎢                                        ⎥\n",
       "⎢                                 2⋅ν + 2⎥\n",
       "⎢ 0    0    0      0        0     ───────⎥\n",
       "⎣                                    E   ⎦"
      ]
     },
     "execution_count": 5,
     "metadata": {},
     "output_type": "execute_result"
    }
   ],
   "source": [
    "S = linear_eq_to_matrix([ex, ey, ez, gyz, gxz, gxy],\n",
    "                        [sx, sy, sz, tyz, txz, txy])[0]\n",
    "S"
   ]
  },
  {
   "cell_type": "markdown",
   "id": "ee9d948e",
   "metadata": {},
   "source": [
    "Calculamos la matriz constitutiva $D=S^{-1}$:"
   ]
  },
  {
   "cell_type": "code",
   "execution_count": 6,
   "id": "fb2e4f29",
   "metadata": {
    "scrolled": false
   },
   "outputs": [
    {
     "data": {
      "image/png": "[encoded data removed]",
      "text/latex": [
       "$\\displaystyle \\left[\\begin{matrix}\\frac{E \\nu - E}{2 \\nu^{2} + \\nu - 1} & - \\frac{E \\nu}{2 \\nu^{2} + \\nu - 1} & - \\frac{E \\nu}{2 \\nu^{2} + \\nu - 1} & 0 & 0 & 0\\\\- \\frac{E \\nu}{2 \\nu^{2} + \\nu - 1} & \\frac{E \\nu - E}{2 \\nu^{2} + \\nu - 1} & - \\frac{E \\nu}{2 \\nu^{2} + \\nu - 1} & 0 & 0 & 0\\\\- \\frac{E \\nu}{2 \\nu^{2} + \\nu - 1} & - \\frac{E \\nu}{2 \\nu^{2} + \\nu - 1} & \\frac{E \\nu - E}{2 \\nu^{2} + \\nu - 1} & 0 & 0 & 0\\\\0 & 0 & 0 & \\frac{E}{2 \\nu + 2} & 0 & 0\\\\0 & 0 & 0 & 0 & \\frac{E}{2 \\nu + 2} & 0\\\\0 & 0 & 0 & 0 & 0 & \\frac{E}{2 \\nu + 2}\\end{matrix}\\right]$"
      ],
      "text/plain": [
       "⎡  E⋅ν - E        -E⋅ν          -E⋅ν                                ⎤\n",
       "⎢────────────  ────────────  ────────────     0        0        0   ⎥\n",
       "⎢   2             2             2                                   ⎥\n",
       "⎢2⋅ν  + ν - 1  2⋅ν  + ν - 1  2⋅ν  + ν - 1                           ⎥\n",
       "⎢                                                                   ⎥\n",
       "⎢   -E⋅ν         E⋅ν - E        -E⋅ν                                ⎥\n",
       "⎢────────────  ────────────  ────────────     0        0        0   ⎥\n",
       "⎢   2             2             2                                   ⎥\n",
       "⎢2⋅ν  + ν - 1  2⋅ν  + ν - 1  2⋅ν  + ν - 1                           ⎥\n",
       "⎢                                                                   ⎥\n",
       "⎢   -E⋅ν          -E⋅ν         E⋅ν - E                              ⎥\n",
       "⎢────────────  ────────────  ────────────     0        0        0   ⎥\n",
       "⎢   2             2             2                                   ⎥\n",
       "⎢2⋅ν  + ν - 1  2⋅ν  + ν - 1  2⋅ν  + ν - 1                           ⎥\n",
       "⎢                                                                   ⎥\n",
       "⎢                                             E                     ⎥\n",
       "⎢     0             0             0        ───────     0        0   ⎥\n",
       "⎢                                          2⋅ν + 2                  ⎥\n",
       "⎢                                                                   ⎥\n",
       "⎢                                                      E            ⎥\n",
       "⎢     0             0             0           0     ───────     0   ⎥\n",
       "⎢                                                   2⋅ν + 2         ⎥\n",
       "⎢                                                                   ⎥\n",
       "⎢                                                               E   ⎥\n",
       "⎢     0             0             0           0        0     ───────⎥\n",
       "⎣                                                            2⋅ν + 2⎦"
      ]
     },
     "execution_count": 6,
     "metadata": {},
     "output_type": "execute_result"
    }
   ],
   "source": [
    "D = S**-1\n",
    "D"
   ]
  },
  {
   "cell_type": "markdown",
   "id": "8d5c7a7b",
   "metadata": {},
   "source": [
    "Sacamos factor común $\\frac{E}{1+\\nu}$ y simplificamos:"
   ]
  },
  {
   "cell_type": "code",
   "execution_count": 7,
   "id": "bfa403f4",
   "metadata": {
    "scrolled": true
   },
   "outputs": [
    {
     "data": {
      "image/png": "[encoded data removed]",
      "text/latex": [
       "$\\displaystyle \\left[\\begin{matrix}\\frac{\\nu - 1}{2 \\nu - 1} & - \\frac{\\nu}{2 \\nu - 1} & - \\frac{\\nu}{2 \\nu - 1} & 0 & 0 & 0\\\\- \\frac{\\nu}{2 \\nu - 1} & \\frac{\\nu - 1}{2 \\nu - 1} & - \\frac{\\nu}{2 \\nu - 1} & 0 & 0 & 0\\\\- \\frac{\\nu}{2 \\nu - 1} & - \\frac{\\nu}{2 \\nu - 1} & \\frac{\\nu - 1}{2 \\nu - 1} & 0 & 0 & 0\\\\0 & 0 & 0 & \\frac{1}{2} & 0 & 0\\\\0 & 0 & 0 & 0 & \\frac{1}{2} & 0\\\\0 & 0 & 0 & 0 & 0 & \\frac{1}{2}\\end{matrix}\\right]$"
      ],
      "text/plain": [
       "⎡ ν - 1     -ν       -ν                  ⎤\n",
       "⎢───────  ───────  ───────   0    0    0 ⎥\n",
       "⎢2⋅ν - 1  2⋅ν - 1  2⋅ν - 1               ⎥\n",
       "⎢                                        ⎥\n",
       "⎢  -ν      ν - 1     -ν                  ⎥\n",
       "⎢───────  ───────  ───────   0    0    0 ⎥\n",
       "⎢2⋅ν - 1  2⋅ν - 1  2⋅ν - 1               ⎥\n",
       "⎢                                        ⎥\n",
       "⎢  -ν       -ν      ν - 1                ⎥\n",
       "⎢───────  ───────  ───────   0    0    0 ⎥\n",
       "⎢2⋅ν - 1  2⋅ν - 1  2⋅ν - 1               ⎥\n",
       "⎢                                        ⎥\n",
       "⎢   0        0        0     1/2   0    0 ⎥\n",
       "⎢                                        ⎥\n",
       "⎢   0        0        0      0   1/2   0 ⎥\n",
       "⎢                                        ⎥\n",
       "⎣   0        0        0      0    0   1/2⎦"
      ]
     },
     "execution_count": 7,
     "metadata": {},
     "output_type": "execute_result"
    }
   ],
   "source": [
    "simplify(D/ (E/(1+nu)))"
   ]
  },
  {
   "cell_type": "markdown",
   "id": "0987a5f1",
   "metadata": {},
   "source": [
    "Finalmente, la ley de Hooke generalizada para materiales isótropos en forma matricial es:\n",
    "\n",
    "$$\\underbrace{\\left[\\begin{matrix} \\sigma_x\\\\ \\sigma_y\\\\ \\sigma_z\\\\ \\tau_{yz}\\\\ \\tau_{xz}\\\\ \\tau_{xy}\\\\\\end{matrix}\\right]}_{\\displaystyle\\underline{\\sigma}}\n",
    "=\\underbrace{\\displaystyle\\frac{E}{1+\\nu}\n",
    "\\left[\\begin{matrix}\n",
    "\\frac{1-\\nu}{1-2\\nu} & \\frac{\\nu}{1-2\\nu}   &   \\frac{\\nu}{1-2\\nu} &           0 &           0 & 0\\\\\n",
    "\\frac{\\nu}{1-2\\nu}   & \\frac{1-\\nu}{1-2\\nu} &   \\frac{\\nu}{1-2\\nu} &           0 &           0 & 0\\\\\n",
    "\\frac{\\nu}{1-2\\nu}   & \\frac{\\nu}{1-2\\nu}   & \\frac{1-\\nu}{1-2\\nu} &           0 &           0 & 0\\\\\n",
    "                        0 &                         0 &                         0 & \\frac{1}{2} &           0 & 0\\\\\n",
    "                        0 &                         0 &                         0 &           0 & \\frac{1}{2} & 0\\\\\n",
    "                        0 &                         0 &                         0 &           0 &           0 & \\frac{1}{2}\n",
    "\\end{matrix}\\right]}_{\\displaystyle\\underline{\\underline{D}}}\n",
    "\\underbrace{\\left[\\begin{matrix} \\varepsilon_x\\\\ \\varepsilon_y\\\\ \\varepsilon_z\\\\ \\gamma_{yz}\\\\ \\gamma_{xz}\\\\ \\gamma_{xy}\\\\\\end{matrix}\\right]}_{\\displaystyle\\underline{\\varepsilon}}$$"
   ]
  }
 ],
 "metadata": {
  "kernelspec": {
   "display_name": "Python 3",
   "language": "python",
   "name": "python3"
  },
  "language_info": {
   "codemirror_mode": {
    "name": "ipython",
    "version": 3
   },
   "file_extension": ".py",
   "mimetype": "text/x-python",
   "name": "python",
   "nbconvert_exporter": "python",
   "pygments_lexer": "ipython3",
   "version": "3.8.8"
  }
 },
 "nbformat": 4,
 "nbformat_minor": 5
}
