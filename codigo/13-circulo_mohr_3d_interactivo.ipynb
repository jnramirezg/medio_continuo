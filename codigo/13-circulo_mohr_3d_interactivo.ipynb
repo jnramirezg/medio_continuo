{
 "cells": [
  {
   "cell_type": "markdown",
   "id": "13e860d6-48a0-42c9-a5c9-13f4eb313096",
   "metadata": {},
   "source": [
    "<a href=\"https://colab.research.google.com/github/jnramirezg/medio_continuo/blob/main/codigo/13-circulo_mohr_3d_interactivo.ipynb\" target=\"_parent\"><img src=\"https://colab.research.google.com/assets/colab-badge.svg\" alt=\"Open In Colab\"/></a>"
   ]
  },
  {
   "cell_type": "markdown",
   "id": "50eb5222-7128-4e73-9c07-a461c39ba68a",
   "metadata": {},
   "source": [
    "# 13. Círculo de Mohr 3D interactivo\n",
    "\n",
    "|Quién | Fecha | Qué hizo |\n",
    "| ---  | ---   | ---      |\n",
    "|Juan Nicolás Ramírez, <jnramirezg@unal.edu.co> | 2023-03-31 | Creando código|\n"
   ]
  },
  {
   "cell_type": "markdown",
   "id": "89bdf261-47ed-4a97-a658-edc1483723d0",
   "metadata": {},
   "source": [
    "**Basado en:** https://github.com/nicoguaro/notebooks_examples/blob/master/Mohr_circle.ipynb"
   ]
  },
  {
   "cell_type": "markdown",
   "id": "d318dac2-b7e7-41e4-9dfd-edfb772d4b1d",
   "metadata": {},
   "source": [
    "Importamos librerías y funciones necesarias:"
   ]
  },
  {
   "cell_type": "code",
   "execution_count": 2,
   "id": "e2d11b80-25a4-405e-a5d0-8270d19d0dc3",
   "metadata": {},
   "outputs": [],
   "source": [
    "from numpy import array, isclose\n",
    "from numpy.linalg import eigh\n",
    "import matplotlib.pyplot as plt\n",
    "from ipywidgets import interact"
   ]
  },
  {
   "cell_type": "code",
   "execution_count": 3,
   "id": "e1b1dd77-0368-43e6-9127-4195a8d04e36",
   "metadata": {},
   "outputs": [],
   "source": [
    "def circulo_mohr_3d(sx, sy, sz, tyz, txz, txy):\n",
    "    \n",
    "    sigma = array([[ sx, txy, txz],\n",
    "                   [txy,  sy, tyz],\n",
    "                   [txz, tyz,  sz]])  # Matriz de tensiones.\n",
    "\n",
    "    [s3, s2, s1] ,_ = eigh(sigma)     # Calculamos los esfuerzos principales.\n",
    "\n",
    "    R1 = 0.5*(s2-s3)                  # Radio del círculo 1.\n",
    "    a1 = 0.5*(s2+s3)                  # Cordenada en x del centro del círculo 1.\n",
    "    R2 = 0.5*(s1-s3)                  # Radio del círculo 2.\n",
    "    a2 = 0.5*(s1+s3)                  # Cordenada en x del centro del círculo 2.\n",
    "    R3 = 0.5*(s1-s2)                  # Radio del círculo 3.\n",
    "    a3 = 0.5*(s1+s2)                  # Cordenada en x del centro del círculo 3.\n",
    "    \n",
    "    plt.figure(figsize=(6,6))  # Iniciamos la gráfica.\n",
    "    \n",
    "    C1 = plt.Circle((a1,0), R1, edgecolor='r', facecolor='w')       # Definimos el círculo 1.\n",
    "    C2 = plt.Circle((a2,0), R2, edgecolor='r', facecolor='orange')  # Definimos el círculo 2.\n",
    "    C3 = plt.Circle((a3,0), R3, edgecolor='r', facecolor='w')       # Definimos el círculo 3.\n",
    "    \n",
    "    plt.axis('image')\n",
    "    ax = plt.gca()\n",
    "    ax.add_artist(C2)  # Gráficamos el círculo 1.\n",
    "    ax.add_artist(C1)  # Gráficamos el círculo 2.\n",
    "    ax.add_artist(C3)  # Gráficamos el círculo 3.\n",
    "\n",
    "    if isclose(R2, 0):  # Caso especial en el que no existe ningún círculo.\n",
    "        plt.text(s1+abs(R2)*0.1,  abs(R2)*0.1, r\"$\\sigma_1=\\sigma_2=\\sigma_3$\"+f\"={round(s1,1)}\", bbox=dict(boxstyle=\"round\", color=\"white\"), fontsize=15)\n",
    "        ax.set_xlim(s1 - abs(s1)*0.15-0.1, s1 + abs(s1)*0.15+0.1)\n",
    "        ax.set_ylim(-abs(s1)*0.15-0.1, abs(s1)*0.15+0.1)\n",
    "    else:               # Caso general.\n",
    "        plt.plot([ 0, 0],[-R2, R2],\"--k\")  # Graficamos el eje x.\n",
    "        plt.plot([s3,s1],[  0,  0],\"--k\")  # Graficamos el eje y.\n",
    "        plt.plot(s1, 0, \"om\")              # Gráficamos la ubicación del esfuerzo principal 1.\n",
    "        plt.plot(s2, 0, \"oc\")              # Gráficamos la ubicación del esfuerzo principal 2.\n",
    "        plt.plot(s3, 0, \"oy\")              # Gráficamos la ubicación del esfuerzo principal 3.\n",
    "        plt.text(s1+abs(R2)*0.05,  abs(R2)*0.07, r\"$\\sigma_1$\"+f\"={round(s1,1)}\", fontsize=15, color=\"m\")\n",
    "        plt.text(s2+abs(R2)*0.05, -abs(R2)*0.12, r\"$\\sigma_2$\"+f\"={round(s2,1)}\", fontsize=15, color=\"c\")\n",
    "        plt.text( s3-abs(R2)*0.5,             0, r\"$\\sigma_3$\"+f\"={round(s3,1)}\", fontsize=15, color=\"y\")\n",
    "        ax.set_xlim(s3 - abs(R2)*0.1, s1 + abs(R2)*0.1)  # Definimos los límites de la gráfica en x.\n",
    "        ax.set_ylim(-1.1*R2-0.1, 1.1*R2+.1)              # Definimos los límites de la gráfica en y.\n",
    "    ax.axis('off')  # No mostramos los ejes predeterminados.\n",
    "    plt.show()  # Mostramos la gráfica."
   ]
  },
  {
   "cell_type": "code",
   "execution_count": 12,
   "id": "06d42d92-4955-464e-bb03-aea31bd8b89b",
   "metadata": {},
   "outputs": [
    {
     "data": {
      "application/vnd.jupyter.widget-view+json": {
       "model_id": "38fb114b869d4a83919d8609cd52de2d",
       "version_major": 2,
       "version_minor": 0
      },
      "text/plain": [
       "interactive(children=(FloatSlider(value=1.0, description='sx', min=-98.0, step=1.0), FloatSlider(value=0.0, de…"
      ]
     },
     "metadata": {},
     "output_type": "display_data"
    }
   ],
   "source": [
    "interact(circulo_mohr_3d, \n",
    "         sx  = ( -98., 100., 1), \n",
    "         sy  = (-100., 100., 1),\n",
    "         sz  = (-100.,  98., 1),\n",
    "         tyz = ( -50.,  50., 1), \n",
    "         txz = ( -50.,  50., 1), \n",
    "         txy = ( -50.,  50., 1))\n",
    "None"
   ]
  }
 ],
 "metadata": {
  "kernelspec": {
   "display_name": "anaconda-2022.05-py39",
   "language": "python",
   "name": "conda-env-anaconda-2022.05-py39-py"
  },
  "language_info": {
   "codemirror_mode": {
    "name": "ipython",
    "version": 3
   },
   "file_extension": ".py",
   "mimetype": "text/x-python",
   "name": "python",
   "nbconvert_exporter": "python",
   "pygments_lexer": "ipython3",
   "version": "3.9.12"
  }
 },
 "nbformat": 4,
 "nbformat_minor": 5
}
