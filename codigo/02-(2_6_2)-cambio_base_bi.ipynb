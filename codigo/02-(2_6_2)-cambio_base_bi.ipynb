{
 "cells": [
  {
   "cell_type": "markdown",
   "metadata": {
    "colab_type": "text",
    "id": "view-in-github"
   },
   "source": [
    "<a href=\"https://colab.research.google.com/github/jnramirezg/mecanica_de_solidos/blob/main/codigo/02-(2_6_2)-cambio_base_bi.ipynb\" target=\"_parent\"><img src=\"https://colab.research.google.com/assets/colab-badge.svg\" alt=\"Open In Colab\"/></a>"
   ]
  },
  {
   "cell_type": "markdown",
   "metadata": {
    "id": "NAoS6ednVeVF"
   },
   "source": [
    "# 02. Particularización de la matriz de tensiones al caso bidimensional (sección 2.6.2) \n",
    "\n",
    "|Quién | Fecha | Qué hizo |\n",
    "| ---  | ---   | ---      |\n",
    "|Michael Heredia Pérez, <mherediap@unal.edu.co> | 2022-07-13 | Conversión de código de MAXIMA a Python|\n",
    "|Michael Heredia Pérez, <mherediap@unal.edu.co> | 2022-08-31 | Mejorando presentación|\n",
    "|Juan Nicolás Ramírez, <jnramirezg@unal.edu.co> | 2022-09-08 |  Simplificando programa                |"
   ]
  },
  {
   "cell_type": "code",
   "execution_count": 1,
   "metadata": {
    "id": "NqmgovsLVSru"
   },
   "outputs": [],
   "source": [
    "import sympy as sp         # Importamos la librería.\n",
    "from sympy import sin, cos # Importamos algunas funciones para hacer más simple el código."
   ]
  },
  {
   "cell_type": "markdown",
   "metadata": {
    "id": "lw_gSrDMVm_E"
   },
   "source": [
    "Definimos las variables simbólicas necesarias:"
   ]
  },
  {
   "cell_type": "code",
   "execution_count": 2,
   "metadata": {
    "colab": {
     "base_uri": "https://localhost:8080/",
     "height": 38
    },
    "id": "39gUJGhAVlSZ",
    "outputId": "1d8f3dc6-171c-4878-ee1f-019a9dcc00a7"
   },
   "outputs": [],
   "source": [
    "sx, sy, txy    = sp.symbols(\"sigma_x, sigma_y, tau_xy\")\n",
    "t = sp.Symbol(\"theta\")"
   ]
  },
  {
   "cell_type": "markdown",
   "metadata": {},
   "source": [
    "$\\displaystyle \\sigma_{x}, \\  \\sigma_{y}, \\  \\tau_{xy}, \\  \\theta$"
   ]
  },
  {
   "cell_type": "markdown",
   "metadata": {},
   "source": [
    "Definimos la matriz de tensiones en coordenadas rectangulares $\\underline{\\underline{\\boldsymbol{\\sigma}}}$:\n",
    "\n",
    "$\\displaystyle \\underline{\\underline{\\boldsymbol{\\sigma}}} = \\left[\\begin{matrix}\\sigma_{x} & \\tau_{xy} & \\tau_{xz}\\\\\\tau_{xy} & \\sigma_{y} & \\tau_{yz}\\\\\\tau_{xz} & \\tau_{yz} & \\sigma_{z}\\end{matrix}\\right]$\n"
   ]
  },
  {
   "cell_type": "markdown",
   "metadata": {},
   "source": [
    "Almacenamos en memoria como ```sigma```:"
   ]
  },
  {
   "cell_type": "code",
   "execution_count": 3,
   "metadata": {
    "colab": {
     "base_uri": "https://localhost:8080/",
     "height": 79
    },
    "id": "xNJkvFn5YQcb",
    "outputId": "06e3baf3-03fa-49ae-9ccf-51e329c6fd09"
   },
   "outputs": [],
   "source": [
    "sigma = sp.Matrix([ [sx, txy, 0],\n",
    "                    [txy, sy, 0],\n",
    "                    [  0,  0, 0]])"
   ]
  },
  {
   "cell_type": "markdown",
   "metadata": {
    "id": "ymtFOkhGV-gC"
   },
   "source": [
    "Definimos la matriz de transformación: $\\underline{\\underline{\\boldsymbol{T}}}$:"
   ]
  },
  {
   "cell_type": "markdown",
   "metadata": {},
   "source": [
    "$\\displaystyle \\underline{\\underline{\\boldsymbol{T}}} = \\left[\\begin{matrix}\\cos{\\left(\\theta \\right)} & - \\sin{\\left(\\theta \\right)} & 0\\\\\\sin{\\left(\\theta \\right)} & \\cos{\\left(\\theta \\right)} & 0\\\\0 & 0 & 1\\end{matrix}\\right]$"
   ]
  },
  {
   "cell_type": "markdown",
   "metadata": {},
   "source": [
    "Almacenamos en memoria como ```T```:"
   ]
  },
  {
   "cell_type": "code",
   "execution_count": 4,
   "metadata": {
    "colab": {
     "base_uri": "https://localhost:8080/",
     "height": 79
    },
    "id": "SrWOcBWeV9QC",
    "outputId": "b277baf8-0e8c-4d0f-fec8-d0752e1db81d",
    "scrolled": true
   },
   "outputs": [],
   "source": [
    "T = sp.Matrix([ [cos(t), -sin(t), 0],\n",
    "                [sin(t),  cos(t), 0],\n",
    "                [     0,       0, 1]])"
   ]
  },
  {
   "cell_type": "markdown",
   "metadata": {
    "id": "2bAWBKBSYxv9"
   },
   "source": [
    "Calculamos la matriz de tensiones $\\underline{\\underline{\\boldsymbol{\\sigma}}}'$ en el sistema de coordenadas especificadas por los vectores definidos en la matriz $\\underline{\\underline{\\boldsymbol{T}}}$, mediante la siguiente ecuación:\n",
    "\n",
    "\\begin{equation*}\n",
    "\\underline{\\underline{\\boldsymbol{\\sigma}}}' = \\underline{\\underline{\\boldsymbol{T}}}^T \\underline{\\underline{\\boldsymbol{\\sigma}}} \\underline{\\underline{\\boldsymbol{T}}}.\n",
    "\\end{equation*}"
   ]
  },
  {
   "cell_type": "markdown",
   "metadata": {},
   "source": [
    "Almacenamos en memoria como ```sigmaP```:"
   ]
  },
  {
   "cell_type": "code",
   "execution_count": 5,
   "metadata": {
    "id": "Qq6EL7jfZIFY"
   },
   "outputs": [],
   "source": [
    "sigmaP = sp.Transpose(T)*sigma*T"
   ]
  },
  {
   "cell_type": "markdown",
   "metadata": {
    "id": "wHf---nubOI4"
   },
   "source": [
    "Reducimos las expresiones trigonométricas mediante la función ```sp.trigsimp()```:"
   ]
  },
  {
   "cell_type": "code",
   "execution_count": 6,
   "metadata": {
    "id": "Jv6jXNc_bM23"
   },
   "outputs": [],
   "source": [
    "sigmaP = sp.trigsimp(sigmaP)"
   ]
  },
  {
   "cell_type": "markdown",
   "metadata": {},
   "source": [
    "$\\displaystyle \\underline{\\underline{\\boldsymbol{\\sigma}}} =\\displaystyle \\left[\\begin{matrix}\\frac{\\sigma_{x} \\cos{\\left(2 \\theta \\right)}}{2} + \\frac{\\sigma_{x}}{2} - \\frac{\\sigma_{y} \\cos{\\left(2 \\theta \\right)}}{2} + \\frac{\\sigma_{y}}{2} + \\tau_{xy} \\sin{\\left(2 \\theta \\right)} & - \\frac{\\sigma_{x} \\sin{\\left(2 \\theta \\right)}}{2} + \\frac{\\sigma_{y} \\sin{\\left(2 \\theta \\right)}}{2} + \\tau_{xy} \\cos{\\left(2 \\theta \\right)} & 0\\\\- \\frac{\\sigma_{x} \\sin{\\left(2 \\theta \\right)}}{2} + \\frac{\\sigma_{y} \\sin{\\left(2 \\theta \\right)}}{2} + \\tau_{xy} \\cos{\\left(2 \\theta \\right)} & - \\frac{\\sigma_{x} \\cos{\\left(2 \\theta \\right)}}{2} + \\frac{\\sigma_{x}}{2} + \\frac{\\sigma_{y} \\cos{\\left(2 \\theta \\right)}}{2} + \\frac{\\sigma_{y}}{2} - \\tau_{xy} \\sin{\\left(2 \\theta \\right)} & 0\\\\0 & 0 & 0\\end{matrix}\\right]$\n"
   ]
  },
  {
   "cell_type": "markdown",
   "metadata": {
    "id": "MQ6FMqXYZOtE"
   },
   "source": [
    "Extraemos los tres términos independientes de la matriz de tensiones $\\underline{\\underline{\\boldsymbol{\\sigma}}}'$ (```sigmaP```), usando la función ```sp.cancel()``` para mejorar la presentación de resultados:"
   ]
  },
  {
   "cell_type": "code",
   "execution_count": 7,
   "metadata": {
    "id": "qP9lhILFMYWZ"
   },
   "outputs": [],
   "source": [
    "sxp   = sp.cancel(sigmaP[0,0])  # elemento (1,1) de la matriz sigmaP\n",
    "syp   = sp.cancel(sigmaP[1,1])  # elemento (2,2) de la matriz sigmaP \n",
    "txpyp = sp.cancel(sigmaP[0,1])  # elemento (1,2) de la matriz sigmaP "
   ]
  },
  {
   "cell_type": "markdown",
   "metadata": {},
   "source": [
    "De esta manera, quedamos con tres ecuaciones ($\\sigma_{x'}$, $\\sigma_{y'}$, $\\tau_{x'y'}$) y tres \"incógnitas\" ($\\sigma_{x}$, $\\sigma_{y}$, $\\tau_{xy}$):"
   ]
  },
  {
   "cell_type": "markdown",
   "metadata": {
    "colab": {
     "base_uri": "https://localhost:8080/",
     "height": 53
    },
    "id": "y6Iv1rviMk63",
    "outputId": "af974e81-45e5-4e3e-cd92-9730d18ee014"
   },
   "source": [
    "$\\displaystyle \\sigma_{x'}(\\theta) = \\frac{\\sigma_{x} \\cos{\\left(2 \\theta \\right)}}{2} + \\frac{\\sigma_{x}}{2} - \\frac{\\sigma_{y} \\cos{\\left(2 \\theta \\right)}}{2} + \\frac{\\sigma_{y}}{2} + \\tau_{xy} \\sin{\\left(2 \\theta \\right)}$"
   ]
  },
  {
   "cell_type": "markdown",
   "metadata": {
    "colab": {
     "base_uri": "https://localhost:8080/",
     "height": 53
    },
    "id": "TFlUZccLMt8Z",
    "outputId": "6237e07f-d411-4031-909e-794e16526b9e"
   },
   "source": [
    "$\\displaystyle \\sigma_{y'}(\\theta) = - \\frac{\\sigma_{x} \\cos{\\left(2 \\theta \\right)}}{2} + \\frac{\\sigma_{x}}{2} + \\frac{\\sigma_{y} \\cos{\\left(2 \\theta \\right)}}{2} + \\frac{\\sigma_{y}}{2} - \\tau_{xy} \\sin{\\left(2 \\theta \\right)}$"
   ]
  },
  {
   "cell_type": "markdown",
   "metadata": {
    "colab": {
     "base_uri": "https://localhost:8080/",
     "height": 53
    },
    "id": "hOTb4UrjMxaY",
    "outputId": "cf3830c0-6d85-4fd7-aa86-fa88a243d178"
   },
   "source": [
    "$\\displaystyle \\tau_{x'y'}(\\theta) = - \\frac{\\sigma_{x} \\sin{\\left(2 \\theta \\right)}}{2} + \\frac{\\sigma_{y} \\sin{\\left(2 \\theta \\right)}}{2} + \\tau_{xy} \\cos{\\left(2 \\theta \\right)}$"
   ]
  },
  {
   "cell_type": "markdown",
   "metadata": {
    "id": "LifgiCfgHoxg"
   },
   "source": [
    "Las tres ecuaciones anteriores las podemos expresar de forma matricial como $\\underline{\\boldsymbol{\\sigma'}} = \\boldsymbol{\\underline{\\underline{T}}}_{\\boldsymbol{\\sigma},2D} \\underline{\\boldsymbol{\\sigma}}$. Por lo tanto, usamos la función ```sp.linear_eq_to_matrix()``` para tal fin.\n",
    "\n",
    "Debemos tener en cuenta que en este caso:\n",
    "\n",
    "$\\underline{\\boldsymbol{\\sigma'}}=\\left[\\begin{matrix} \\sigma_{x'}\\\\ \\sigma_{y'}\\\\\\tau_{x'y'} \\end{matrix}\\right]$\n",
    "\n",
    "$\\underline{\\boldsymbol{\\sigma}}=\\left[\\begin{matrix} \\sigma_{x}\\\\ \\sigma_{y}\\\\\\tau_{xy} \\end{matrix}\\right]$\n",
    "\n",
    "\n",
    "La matriz de transformación de esfuerzos en el caso bidimensional ```Tsigma_2D``` es:"
   ]
  },
  {
   "cell_type": "code",
   "execution_count": 8,
   "metadata": {
    "colab": {
     "base_uri": "https://localhost:8080/",
     "height": 82
    },
    "id": "7ayiWcYgIE_2",
    "outputId": "26cb10e8-9341-4b26-f3bf-41d15c0716af"
   },
   "outputs": [],
   "source": [
    "Tsigma_2D = sp.trigsimp(sp.linear_eq_to_matrix([sxp, syp, txpyp], \n",
    "                                               [ sx,  sy,   txy])[0])"
   ]
  },
  {
   "cell_type": "markdown",
   "metadata": {},
   "source": [
    "$\\boldsymbol{\\underline{\\underline{T}}}_{\\boldsymbol{\\sigma},2D} = \\left[\\begin{matrix}\\cos^{2}{\\left(\\theta \\right)} & \\sin^{2}{\\left(\\theta \\right)} & \\sin{\\left(2 \\theta \\right)}\\\\\\sin^{2}{\\left(\\theta \\right)} & \\cos^{2}{\\left(\\theta \\right)} & - \\sin{\\left(2 \\theta \\right)}\\\\- \\frac{\\sin{\\left(2 \\theta \\right)}}{2} & \\frac{\\sin{\\left(2 \\theta \\right)}}{2} & \\cos{\\left(2 \\theta \\right)}\\end{matrix}\\right]$"
   ]
  },
  {
   "cell_type": "markdown",
   "metadata": {},
   "source": [
    "Es decir, la ecuación en forma matricial:"
   ]
  },
  {
   "cell_type": "markdown",
   "metadata": {},
   "source": [
    "$\\left[\\begin{matrix} \\sigma_{x'}\\\\ \\sigma_{y'}\\\\\\tau_{x'y'} \\end{matrix}\\right]=\\left[\\begin{matrix}\\cos^{2}{\\left(\\theta \\right)} & \\sin^{2}{\\left(\\theta \\right)} & \\sin{\\left(2 \\theta \\right)}\\\\\\sin^{2}{\\left(\\theta \\right)} & \\cos^{2}{\\left(\\theta \\right)} & - \\sin{\\left(2 \\theta \\right)}\\\\- \\frac{\\sin{\\left(2 \\theta \\right)}}{2} & \\frac{\\sin{\\left(2 \\theta \\right)}}{2} & \\cos{\\left(2 \\theta \\right)}\\end{matrix}\\right] \\left[\\begin{matrix} \\sigma_{x}\\\\ \\sigma_{y}\\\\\\tau_{x'y'} \\end{matrix}\\right]$"
   ]
  }
 ],
 "metadata": {
  "colab": {
   "authorship_tag": "ABX9TyO+7tcK551bXHfc+/d0SvaJ",
   "include_colab_link": true,
   "provenance": []
  },
  "kernelspec": {
   "display_name": "Python 3",
   "language": "python",
   "name": "python3"
  },
  "language_info": {
   "codemirror_mode": {
    "name": "ipython",
    "version": 3
   },
   "file_extension": ".py",
   "mimetype": "text/x-python",
   "name": "python",
   "nbconvert_exporter": "python",
   "pygments_lexer": "ipython3",
   "version": "3.8.8"
  }
 },
 "nbformat": 4,
 "nbformat_minor": 1
}
