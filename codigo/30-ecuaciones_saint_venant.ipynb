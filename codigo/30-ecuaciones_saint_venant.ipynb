{
 "cells": [
  {
   "cell_type": "markdown",
   "id": "e5fc6843",
   "metadata": {},
   "source": [
    "# 30. Verificación de la notación indicial de las ecuaciones de compatibilidad de Saint-Venant"
   ]
  },
  {
   "cell_type": "markdown",
   "id": "25d57b7d",
   "metadata": {},
   "source": [
    "|Quién | Fecha | Qué hizo |\n",
    "| ---  | ---   | ---      |\n",
    "|Juan Nicolás Ramírez, <jnramirezg@unal.edu.co> | 2023-02-23 | Creando código|\n",
    "|Diego Andrés Álvarez Marín, <daalvarez@unal.edu.co> | 2023-02-23 | Creando código|\n"
   ]
  },
  {
   "attachments": {},
   "cell_type": "markdown",
   "id": "659dad19",
   "metadata": {},
   "source": [
    "A partir de la siguiente ecuación en notación indicial:"
   ]
  },
  {
   "cell_type": "markdown",
   "id": "af45bde9",
   "metadata": {},
   "source": [
    "$$\\varepsilon_{ij,km}+\\varepsilon_{mk,ji}-\\varepsilon_{ik,jm}-\\varepsilon_{mj,ki}=0$$"
   ]
  },
  {
   "attachments": {},
   "cell_type": "markdown",
   "id": "b715c9bb",
   "metadata": {},
   "source": [
    "Se busca extraer las 6 ecuaciones de compatibilidad de Saint-Venant."
   ]
  },
  {
   "attachments": {},
   "cell_type": "markdown",
   "id": "5cb43e71",
   "metadata": {},
   "source": [
    "Importamos la librería necesaria:"
   ]
  },
  {
   "cell_type": "code",
   "execution_count": 1,
   "id": "8aa9acf6",
   "metadata": {},
   "outputs": [],
   "source": [
    "from sympy import *"
   ]
  },
  {
   "attachments": {},
   "cell_type": "markdown",
   "id": "c5ba0da8",
   "metadata": {},
   "source": [
    "Se definen las variables de posición:"
   ]
  },
  {
   "cell_type": "code",
   "execution_count": 2,
   "id": "7321d4d8",
   "metadata": {},
   "outputs": [],
   "source": [
    "x_ = symbols(\"x, y, z\")"
   ]
  },
  {
   "attachments": {},
   "cell_type": "markdown",
   "id": "66ced388",
   "metadata": {},
   "source": [
    "Creamos la matriz de deformaciones como una matriz en la que todos sus elementos dependen de $(x,y,z)$"
   ]
  },
  {
   "cell_type": "code",
   "execution_count": 3,
   "id": "43d56f19",
   "metadata": {},
   "outputs": [],
   "source": [
    "e = zeros(3)\n",
    "for i in range(3):\n",
    "    for j in range(3):\n",
    "        if i==j:\n",
    "            e[i,j] = Function(f\"varepsilon_{x_[i]}\")(*x_)\n",
    "        elif i<j:\n",
    "            e[i,j] = e[j,i] = Rational(1/2)*Function(f\"gamma_{x_[i]}{x_[j]}\")(*x_)"
   ]
  },
  {
   "cell_type": "code",
   "execution_count": 4,
   "id": "0be64cb3",
   "metadata": {},
   "outputs": [
    {
     "data": {
      "text/latex": [
       "$\\displaystyle \\left[\\begin{matrix}\\varepsilon_{x}{\\left(x,y,z \\right)} & \\frac{\\gamma_{xy}{\\left(x,y,z \\right)}}{2} & \\frac{\\gamma_{xz}{\\left(x,y,z \\right)}}{2}\\\\\\frac{\\gamma_{xy}{\\left(x,y,z \\right)}}{2} & \\varepsilon_{y}{\\left(x,y,z \\right)} & \\frac{\\gamma_{yz}{\\left(x,y,z \\right)}}{2}\\\\\\frac{\\gamma_{xz}{\\left(x,y,z \\right)}}{2} & \\frac{\\gamma_{yz}{\\left(x,y,z \\right)}}{2} & \\varepsilon_{z}{\\left(x,y,z \\right)}\\end{matrix}\\right]$"
      ],
      "text/plain": [
       "Matrix([\n",
       "[varepsilon_x(x, y, z),   gamma_xy(x, y, z)/2,   gamma_xz(x, y, z)/2],\n",
       "[  gamma_xy(x, y, z)/2, varepsilon_y(x, y, z),   gamma_yz(x, y, z)/2],\n",
       "[  gamma_xz(x, y, z)/2,   gamma_yz(x, y, z)/2, varepsilon_z(x, y, z)]])"
      ]
     },
     "execution_count": 4,
     "metadata": {},
     "output_type": "execute_result"
    }
   ],
   "source": [
    "e"
   ]
  },
  {
   "attachments": {},
   "cell_type": "markdown",
   "id": "23ceb666",
   "metadata": {},
   "source": [
    "Creamos una lista para almacenar las ecuaciones a calcular:"
   ]
  },
  {
   "cell_type": "code",
   "execution_count": 5,
   "id": "66b0cac1",
   "metadata": {},
   "outputs": [],
   "source": [
    "ecu = []"
   ]
  },
  {
   "attachments": {},
   "cell_type": "markdown",
   "id": "4a37dec2",
   "metadata": {},
   "source": [
    "Calculamos las ecuaciones: $\\varepsilon_{ij,km}+\\varepsilon_{mk,ji}-\\varepsilon_{ik,jm}-\\varepsilon_{mj,ki}=0$"
   ]
  },
  {
   "cell_type": "code",
   "execution_count": 6,
   "id": "ab6766a0",
   "metadata": {
    "scrolled": true
   },
   "outputs": [],
   "source": [
    "for i in range(3):\n",
    "    for j in range(3):\n",
    "        for k in range(3):\n",
    "            for m in range(3):\n",
    "                res = simplify(+ e[i,j].diff(x_[k], x_[m])\n",
    "                               + e[m,k].diff(x_[j], x_[i])\n",
    "                               - e[i,k].diff(x_[j], x_[m])\n",
    "                               - e[m,j].diff(x_[k], x_[i]))\n",
    "                if res != 0:         # Se almacena la ecuación si es diferente de cero.\n",
    "                    ecu.append(res)"
   ]
  },
  {
   "cell_type": "code",
   "execution_count": 7,
   "id": "c926c488",
   "metadata": {},
   "outputs": [],
   "source": [
    "eqs = Matrix(ecu)  # Convertimos la lista a formato Matrix de sympy."
   ]
  },
  {
   "cell_type": "code",
   "execution_count": 8,
   "id": "a0eb27a7",
   "metadata": {
    "scrolled": false
   },
   "outputs": [
    {
     "data": {
      "text/plain": [
       "(36, 1)"
      ]
     },
     "execution_count": 8,
     "metadata": {},
     "output_type": "execute_result"
    }
   ],
   "source": [
    "eqs.shape  # Calculamos cuántas ecuaciones quedaron almacenadas."
   ]
  },
  {
   "attachments": {},
   "cell_type": "markdown",
   "id": "f6a0268e",
   "metadata": {},
   "source": [
    "$\\varepsilon_{ij,km}+\\varepsilon_{mk,ji}-\\varepsilon_{ik,jm}-\\varepsilon_{mj,ki}=0$ al tener cuatro (4) subindices, tiene $3⁴=81$ ecuaciones posibles, pero después de descartar las que son cero (0), quedan solo 36."
   ]
  },
  {
   "attachments": {},
   "cell_type": "markdown",
   "id": "2e27e396",
   "metadata": {},
   "source": [
    "Convertimos las ecuaciones repetidas a cero:"
   ]
  },
  {
   "cell_type": "code",
   "execution_count": 9,
   "id": "566e5706",
   "metadata": {},
   "outputs": [],
   "source": [
    "for i in range(len(eqs)):\n",
    "    if eqs[i] == 0: \n",
    "        continue\n",
    "    for j in range(i+1, len(eqs)):\n",
    "        if eqs[j] == 0: \n",
    "            continue\n",
    "        if simplify(eqs[i] + eqs[j]) == 0 or simplify(eqs[i] - eqs[j]) == 0:\n",
    "            eqs[j] = 0"
   ]
  },
  {
   "cell_type": "code",
   "execution_count": 10,
   "id": "41ac080c",
   "metadata": {},
   "outputs": [
    {
     "data": {
      "text/latex": [
       "$\\displaystyle \\left[\\begin{matrix}\\frac{\\partial^{2}}{\\partial y^{2}} \\varepsilon_{x}{\\left(x,y,z \\right)} + \\frac{\\partial^{2}}{\\partial x^{2}} \\varepsilon_{y}{\\left(x,y,z \\right)} - \\frac{\\partial^{2}}{\\partial y\\partial x} \\gamma_{xy}{\\left(x,y,z \\right)}\\\\\\frac{\\frac{\\partial^{2}}{\\partial x^{2}} \\gamma_{yz}{\\left(x,y,z \\right)}}{2} - \\frac{\\frac{\\partial^{2}}{\\partial z\\partial x} \\gamma_{xy}{\\left(x,y,z \\right)}}{2} - \\frac{\\frac{\\partial^{2}}{\\partial y\\partial x} \\gamma_{xz}{\\left(x,y,z \\right)}}{2} + \\frac{\\partial^{2}}{\\partial z\\partial y} \\varepsilon_{x}{\\left(x,y,z \\right)}\\\\0\\\\\\frac{\\partial^{2}}{\\partial z^{2}} \\varepsilon_{x}{\\left(x,y,z \\right)} + \\frac{\\partial^{2}}{\\partial x^{2}} \\varepsilon_{z}{\\left(x,y,z \\right)} - \\frac{\\partial^{2}}{\\partial z\\partial x} \\gamma_{xz}{\\left(x,y,z \\right)}\\\\0\\\\0\\\\- \\frac{\\frac{\\partial^{2}}{\\partial y^{2}} \\gamma_{xz}{\\left(x,y,z \\right)}}{2} + \\frac{\\frac{\\partial^{2}}{\\partial z\\partial y} \\gamma_{xy}{\\left(x,y,z \\right)}}{2} + \\frac{\\frac{\\partial^{2}}{\\partial y\\partial x} \\gamma_{yz}{\\left(x,y,z \\right)}}{2} - \\frac{\\partial^{2}}{\\partial z\\partial x} \\varepsilon_{y}{\\left(x,y,z \\right)}\\\\\\frac{\\frac{\\partial^{2}}{\\partial z^{2}} \\gamma_{xy}{\\left(x,y,z \\right)}}{2} - \\frac{\\frac{\\partial^{2}}{\\partial z\\partial y} \\gamma_{xz}{\\left(x,y,z \\right)}}{2} - \\frac{\\frac{\\partial^{2}}{\\partial z\\partial x} \\gamma_{yz}{\\left(x,y,z \\right)}}{2} + \\frac{\\partial^{2}}{\\partial y\\partial x} \\varepsilon_{z}{\\left(x,y,z \\right)}\\\\0\\\\0\\\\0\\\\0\\\\0\\\\0\\\\0\\\\0\\\\0\\\\0\\\\0\\\\\\frac{\\partial^{2}}{\\partial z^{2}} \\varepsilon_{y}{\\left(x,y,z \\right)} + \\frac{\\partial^{2}}{\\partial y^{2}} \\varepsilon_{z}{\\left(x,y,z \\right)} - \\frac{\\partial^{2}}{\\partial z\\partial y} \\gamma_{yz}{\\left(x,y,z \\right)}\\\\0\\\\0\\\\0\\\\0\\\\0\\\\0\\\\0\\\\0\\\\0\\\\0\\\\0\\\\0\\\\0\\\\0\\\\0\\\\0\\end{matrix}\\right]$"
      ],
      "text/plain": [
       "Matrix([\n",
       "[                                       Derivative(varepsilon_x(x, y, z), (y, 2)) + Derivative(varepsilon_y(x, y, z), (x, 2)) - Derivative(gamma_xy(x, y, z), x, y)],\n",
       "[ Derivative(gamma_yz(x, y, z), (x, 2))/2 - Derivative(gamma_xy(x, y, z), x, z)/2 - Derivative(gamma_xz(x, y, z), x, y)/2 + Derivative(varepsilon_x(x, y, z), y, z)],\n",
       "[                                                                                                                                                                 0],\n",
       "[                                       Derivative(varepsilon_x(x, y, z), (z, 2)) + Derivative(varepsilon_z(x, y, z), (x, 2)) - Derivative(gamma_xz(x, y, z), x, z)],\n",
       "[                                                                                                                                                                 0],\n",
       "[                                                                                                                                                                 0],\n",
       "[-Derivative(gamma_xz(x, y, z), (y, 2))/2 + Derivative(gamma_xy(x, y, z), y, z)/2 + Derivative(gamma_yz(x, y, z), x, y)/2 - Derivative(varepsilon_y(x, y, z), x, z)],\n",
       "[ Derivative(gamma_xy(x, y, z), (z, 2))/2 - Derivative(gamma_xz(x, y, z), y, z)/2 - Derivative(gamma_yz(x, y, z), x, z)/2 + Derivative(varepsilon_z(x, y, z), x, y)],\n",
       "[                                                                                                                                                                 0],\n",
       "[                                                                                                                                                                 0],\n",
       "[                                                                                                                                                                 0],\n",
       "[                                                                                                                                                                 0],\n",
       "[                                                                                                                                                                 0],\n",
       "[                                                                                                                                                                 0],\n",
       "[                                                                                                                                                                 0],\n",
       "[                                                                                                                                                                 0],\n",
       "[                                                                                                                                                                 0],\n",
       "[                                                                                                                                                                 0],\n",
       "[                                                                                                                                                                 0],\n",
       "[                                       Derivative(varepsilon_y(x, y, z), (z, 2)) + Derivative(varepsilon_z(x, y, z), (y, 2)) - Derivative(gamma_yz(x, y, z), y, z)],\n",
       "[                                                                                                                                                                 0],\n",
       "[                                                                                                                                                                 0],\n",
       "[                                                                                                                                                                 0],\n",
       "[                                                                                                                                                                 0],\n",
       "[                                                                                                                                                                 0],\n",
       "[                                                                                                                                                                 0],\n",
       "[                                                                                                                                                                 0],\n",
       "[                                                                                                                                                                 0],\n",
       "[                                                                                                                                                                 0],\n",
       "[                                                                                                                                                                 0],\n",
       "[                                                                                                                                                                 0],\n",
       "[                                                                                                                                                                 0],\n",
       "[                                                                                                                                                                 0],\n",
       "[                                                                                                                                                                 0],\n",
       "[                                                                                                                                                                 0],\n",
       "[                                                                                                                                                                 0]])"
      ]
     },
     "execution_count": 10,
     "metadata": {},
     "output_type": "execute_result"
    }
   ],
   "source": [
    "eqs"
   ]
  },
  {
   "attachments": {},
   "cell_type": "markdown",
   "id": "9a102659",
   "metadata": {},
   "source": [
    "Eliminamos las ecuaciones repetidas que anteriormente convertimos en ceros:"
   ]
  },
  {
   "cell_type": "code",
   "execution_count": 11,
   "id": "77872764",
   "metadata": {},
   "outputs": [],
   "source": [
    "eqs = Matrix([ i for i in eqs if i != 0 ])"
   ]
  },
  {
   "cell_type": "code",
   "execution_count": 12,
   "id": "1d631c53",
   "metadata": {},
   "outputs": [
    {
     "data": {
      "text/latex": [
       "$\\displaystyle \\left[\\begin{matrix}\\frac{\\partial^{2}}{\\partial y^{2}} \\varepsilon_{x}{\\left(x,y,z \\right)} + \\frac{\\partial^{2}}{\\partial x^{2}} \\varepsilon_{y}{\\left(x,y,z \\right)} - \\frac{\\partial^{2}}{\\partial y\\partial x} \\gamma_{xy}{\\left(x,y,z \\right)}\\\\\\frac{\\frac{\\partial^{2}}{\\partial x^{2}} \\gamma_{yz}{\\left(x,y,z \\right)}}{2} - \\frac{\\frac{\\partial^{2}}{\\partial z\\partial x} \\gamma_{xy}{\\left(x,y,z \\right)}}{2} - \\frac{\\frac{\\partial^{2}}{\\partial y\\partial x} \\gamma_{xz}{\\left(x,y,z \\right)}}{2} + \\frac{\\partial^{2}}{\\partial z\\partial y} \\varepsilon_{x}{\\left(x,y,z \\right)}\\\\\\frac{\\partial^{2}}{\\partial z^{2}} \\varepsilon_{x}{\\left(x,y,z \\right)} + \\frac{\\partial^{2}}{\\partial x^{2}} \\varepsilon_{z}{\\left(x,y,z \\right)} - \\frac{\\partial^{2}}{\\partial z\\partial x} \\gamma_{xz}{\\left(x,y,z \\right)}\\\\- \\frac{\\frac{\\partial^{2}}{\\partial y^{2}} \\gamma_{xz}{\\left(x,y,z \\right)}}{2} + \\frac{\\frac{\\partial^{2}}{\\partial z\\partial y} \\gamma_{xy}{\\left(x,y,z \\right)}}{2} + \\frac{\\frac{\\partial^{2}}{\\partial y\\partial x} \\gamma_{yz}{\\left(x,y,z \\right)}}{2} - \\frac{\\partial^{2}}{\\partial z\\partial x} \\varepsilon_{y}{\\left(x,y,z \\right)}\\\\\\frac{\\frac{\\partial^{2}}{\\partial z^{2}} \\gamma_{xy}{\\left(x,y,z \\right)}}{2} - \\frac{\\frac{\\partial^{2}}{\\partial z\\partial y} \\gamma_{xz}{\\left(x,y,z \\right)}}{2} - \\frac{\\frac{\\partial^{2}}{\\partial z\\partial x} \\gamma_{yz}{\\left(x,y,z \\right)}}{2} + \\frac{\\partial^{2}}{\\partial y\\partial x} \\varepsilon_{z}{\\left(x,y,z \\right)}\\\\\\frac{\\partial^{2}}{\\partial z^{2}} \\varepsilon_{y}{\\left(x,y,z \\right)} + \\frac{\\partial^{2}}{\\partial y^{2}} \\varepsilon_{z}{\\left(x,y,z \\right)} - \\frac{\\partial^{2}}{\\partial z\\partial y} \\gamma_{yz}{\\left(x,y,z \\right)}\\end{matrix}\\right]$"
      ],
      "text/plain": [
       "Matrix([\n",
       "[                                       Derivative(varepsilon_x(x, y, z), (y, 2)) + Derivative(varepsilon_y(x, y, z), (x, 2)) - Derivative(gamma_xy(x, y, z), x, y)],\n",
       "[ Derivative(gamma_yz(x, y, z), (x, 2))/2 - Derivative(gamma_xy(x, y, z), x, z)/2 - Derivative(gamma_xz(x, y, z), x, y)/2 + Derivative(varepsilon_x(x, y, z), y, z)],\n",
       "[                                       Derivative(varepsilon_x(x, y, z), (z, 2)) + Derivative(varepsilon_z(x, y, z), (x, 2)) - Derivative(gamma_xz(x, y, z), x, z)],\n",
       "[-Derivative(gamma_xz(x, y, z), (y, 2))/2 + Derivative(gamma_xy(x, y, z), y, z)/2 + Derivative(gamma_yz(x, y, z), x, y)/2 - Derivative(varepsilon_y(x, y, z), x, z)],\n",
       "[ Derivative(gamma_xy(x, y, z), (z, 2))/2 - Derivative(gamma_xz(x, y, z), y, z)/2 - Derivative(gamma_yz(x, y, z), x, z)/2 + Derivative(varepsilon_z(x, y, z), x, y)],\n",
       "[                                       Derivative(varepsilon_y(x, y, z), (z, 2)) + Derivative(varepsilon_z(x, y, z), (y, 2)) - Derivative(gamma_yz(x, y, z), y, z)]])"
      ]
     },
     "execution_count": 12,
     "metadata": {},
     "output_type": "execute_result"
    }
   ],
   "source": [
    "eqs"
   ]
  },
  {
   "attachments": {},
   "cell_type": "markdown",
   "id": "0024c78e",
   "metadata": {},
   "source": [
    "Finalmente, reorganizando llegamos a las siguientes seis (6) ecuacione, que son las de compatibilidad de Saint-Venant:"
   ]
  },
  {
   "attachments": {},
   "cell_type": "markdown",
   "id": "19f52836",
   "metadata": {},
   "source": [
    "$$\\displaystyle\\frac{\\partial² \\varepsilon_x}{\\partial y²} + \\frac{\\partial² \\varepsilon_y}{\\partial x²}=\\frac{\\partial²\\gamma_{xy}}{\\partial x \\partial y}$$\n",
    "$$\\displaystyle\\frac{\\partial² \\varepsilon_y}{\\partial z²} + \\frac{\\partial² \\varepsilon_z}{\\partial y²}=\\frac{\\partial²\\gamma_{yz}}{\\partial y \\partial z}$$\n",
    "$$\\displaystyle\\frac{\\partial² \\varepsilon_z}{\\partial x²} + \\frac{\\partial² \\varepsilon_x}{\\partial z²}=\\frac{\\partial²\\gamma_{xz}}{\\partial x \\partial z}$$\n",
    "\n",
    "$$\\displaystyle 2 \\frac{\\partial² \\varepsilon_x}{\\partial y \\partial z}= \\frac{\\partial}{\\partial x}\\left( -\\frac{\\partial \\gamma_{yz}}{\\partial x} + \\frac{\\partial \\gamma_{xz}}{\\partial y} + \\frac{\\partial \\gamma_{xy}}{\\partial z}\\right)$$\n",
    "\n",
    "$$\\displaystyle 2 \\frac{\\partial² \\varepsilon_y}{\\partial x \\partial z}= \\frac{\\partial}{\\partial x}\\left( \\frac{\\partial \\gamma_{yz}}{\\partial x} - \\frac{\\partial \\gamma_{xz}}{\\partial y} + \\frac{\\partial \\gamma_{xy}}{\\partial z}\\right)$$\n",
    "\n",
    "$$\\displaystyle 2 \\frac{\\partial² \\varepsilon_z}{\\partial x \\partial y}= \\frac{\\partial}{\\partial x}\\left( \\frac{\\partial \\gamma_{yz}}{\\partial x} + \\frac{\\partial \\gamma_{xz}}{\\partial y} - \\frac{\\partial \\gamma_{xy}}{\\partial z}\\right)$$"
   ]
  }
 ],
 "metadata": {
  "kernelspec": {
   "display_name": "Python 3",
   "language": "python",
   "name": "python3"
  },
  "language_info": {
   "codemirror_mode": {
    "name": "ipython",
    "version": 3
   },
   "file_extension": ".py",
   "mimetype": "text/x-python",
   "name": "python",
   "nbconvert_exporter": "python",
   "pygments_lexer": "ipython3",
   "version": "3.8.10"
  },
  "vscode": {
   "interpreter": {
    "hash": "916dbcbb3f70747c44a77c7bcd40155683ae19c65e1c03b4aa3499c5328201f1"
   }
  }
 },
 "nbformat": 4,
 "nbformat_minor": 5
}
