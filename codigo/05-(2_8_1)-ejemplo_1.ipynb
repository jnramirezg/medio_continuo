{
 "cells": [
  {
   "cell_type": "markdown",
   "metadata": {
    "colab_type": "text",
    "id": "view-in-github"
   },
   "source": [
    "<a href=\"https://colab.research.google.com/github/jnramirezg/medio_continuo/blob/main/codigo/05-(2_8_1)-ejemplo_1.ipynb\" target=\"_parent\"><img src=\"https://colab.research.google.com/assets/colab-badge.svg\" alt=\"Open In Colab\"/></a>"
   ]
  },
  {
   "cell_type": "markdown",
   "metadata": {
    "id": "V0dH9NeusLZT"
   },
   "source": [
    "# 05-Ejemplo 1 (sección 2.8.1)\n",
    "\n",
    "|Quién | Fecha | Qué hizo |\n",
    "| ---  | ---   | ---      |\n",
    "|Michael Heredia Pérez, <mherediap@unal.edu.co> | 2022-07-14 | Conversión de código de MAXIMA a Python|\n",
    "|Juan Nicolás Ramírez, <mherediap@unal.edu.co> | 2022-09-15 | Adecuando código|"
   ]
  },
  {
   "cell_type": "markdown",
   "metadata": {},
   "source": [
    "Consideremos un punto de un sólido bidimensional en el cual los esfuerzos son:\n",
    "\n",
    "$\\sigma_x=$ 3 Pa, \n",
    "\n",
    "$\\sigma_y=$ 2 Pa y \n",
    "\n",
    "$\\tau_{xy}=$ -4 Pa. \n",
    "\n",
    "Se pide:\n",
    "\n",
    "* Plantear la matriz de tensiones $\\underline{\\underline{\\sigma}}$ correspondiente.\n",
    "* Calcular el polinomio característico asociado a $\\underline{\\underline{\\sigma}}$.\n",
    "* Calcular la dirección y magnitud de los esfuerzos principales."
   ]
  },
  {
   "cell_type": "markdown",
   "metadata": {},
   "source": [
    " Importamos algunas funciones necesarias de ```numpy``` e importamos el submódulo ```linalg``` de ```numpy``` (álgebra lineal)."
   ]
  },
  {
   "cell_type": "code",
   "execution_count": 1,
   "metadata": {
    "id": "sQl0V2z8r8kj"
   },
   "outputs": [],
   "source": [
    "from numpy import *\n",
    "import numpy.linalg as LA"
   ]
  },
  {
   "cell_type": "markdown",
   "metadata": {},
   "source": [
    "## Matriz de tensiones\n",
    "Definimos las componentes de esfuerzos dadas como variables numéricas:"
   ]
  },
  {
   "cell_type": "code",
   "execution_count": 2,
   "metadata": {
    "id": "vXfD3uQbtsA1"
   },
   "outputs": [],
   "source": [
    "sx  =  3  # [Pa]\n",
    "sy  =  2  # [Pa]\n",
    "txy = -4  # [Pa]"
   ]
  },
  {
   "cell_type": "markdown",
   "metadata": {},
   "source": [
    "Definimos la matriz de tensiones $\\underline{\\underline{\\boldsymbol{\\sigma}}}$ en dos dimensiones:"
   ]
  },
  {
   "cell_type": "code",
   "execution_count": 3,
   "metadata": {},
   "outputs": [
    {
     "data": {
      "text/plain": [
       "array([[ 3, -4],\n",
       "       [-4,  2]])"
      ]
     },
     "execution_count": 3,
     "metadata": {},
     "output_type": "execute_result"
    }
   ],
   "source": [
    "sigma = array([[sx,  txy],\n",
    "               [txy,  sy]])\n",
    "sigma"
   ]
  },
  {
   "cell_type": "markdown",
   "metadata": {},
   "source": [
    "## Polinomio característico\n",
    "\n",
    "En el <font color='blue'>main.pdf</font> se menciona una solución con el comando ```poly``` de Matlab para obtener los coeficientes del polinomio característico. En Python, su equivalente es ```numpy.poly()```:"
   ]
  },
  {
   "cell_type": "code",
   "execution_count": 4,
   "metadata": {
    "colab": {
     "base_uri": "https://localhost:8080/"
    },
    "id": "McWqJBxcuiM6",
    "outputId": "383e6b9c-4ff3-4035-b51e-dcd37230ee01",
    "scrolled": true
   },
   "outputs": [
    {
     "data": {
      "text/plain": [
       "array([  1.,  -5., -10.])"
      ]
     },
     "execution_count": 4,
     "metadata": {},
     "output_type": "execute_result"
    }
   ],
   "source": [
    "poly(sigma)"
   ]
  },
  {
   "cell_type": "markdown",
   "metadata": {},
   "source": [
    "Lo interpretamos como: $$\\sigma_n^2 - 5\\sigma_n -10=0$$ Y mediante la función ```numpy.roots()``` calculamos la raíces del polinomio característico, es decir, los esfuerzos principales:"
   ]
  },
  {
   "cell_type": "code",
   "execution_count": 5,
   "metadata": {
    "scrolled": false
   },
   "outputs": [
    {
     "data": {
      "text/plain": [
       "array([ 6.53112887, -1.53112887])"
      ]
     },
     "execution_count": 5,
     "metadata": {},
     "output_type": "execute_result"
    }
   ],
   "source": [
    "roots(poly(sigma))"
   ]
  },
  {
   "cell_type": "markdown",
   "metadata": {},
   "source": [
    "No olvidar que debemos garantizar por definición en el <font color='blue'>main.pdf</font> que:\n",
    "$$(\\sigma_1)_{xy} \\geq (\\sigma_2)_{xy}$$"
   ]
  },
  {
   "cell_type": "markdown",
   "metadata": {},
   "source": [
    "## Esfuerzos y direcciones principales"
   ]
  },
  {
   "cell_type": "markdown",
   "metadata": {
    "id": "zthui2lZv29T"
   },
   "source": [
    "Sin embargo, hay una forma directa de calcular los valores propios (esfuerzos principales) en ```numpy.linalg```, que llamamos ```LA```.\n",
    "\n",
    "Para el cálculo de las direcciones, se requieren los vectores propios de la matriz $\\underline{\\underline{\\sigma}}$. Usamos la función ```LA.eigh()``` que calcula tanto los valores ```valp``` como los vectores propios ```vecp```:"
   ]
  },
  {
   "cell_type": "code",
   "execution_count": 6,
   "metadata": {
    "id": "IkFFzZzSv0yn"
   },
   "outputs": [],
   "source": [
    "valp, vecp = LA.eigh(sigma)"
   ]
  },
  {
   "cell_type": "markdown",
   "metadata": {},
   "source": [
    "**Nota:** La función ```LA.eigh()``` se usa en vez de ```LA.eig()``` debido a que su algoritmo interno está hecho para matrices simétricas, es decir, es más eficiente."
   ]
  },
  {
   "cell_type": "markdown",
   "metadata": {
    "id": "HRz-xNvaydd9"
   },
   "source": [
    "Los valores propios representan la magnitud de los esfuerzos principales $(\\sigma_1)_{xy}$ y $(\\sigma_2)_{xy}$:"
   ]
  },
  {
   "cell_type": "code",
   "execution_count": 7,
   "metadata": {
    "colab": {
     "base_uri": "https://localhost:8080/"
    },
    "id": "TRxGRniWySkS",
    "outputId": "d153651e-2b9f-4ea9-b395-21276c8a5f05",
    "scrolled": false
   },
   "outputs": [
    {
     "data": {
      "text/plain": [
       "array([-1.53112887,  6.53112887])"
      ]
     },
     "execution_count": 7,
     "metadata": {},
     "output_type": "execute_result"
    }
   ],
   "source": [
    "valp"
   ]
  },
  {
   "cell_type": "markdown",
   "metadata": {},
   "source": [
    "Almacenamos en memoria como ```s1``` y ```s2```, respectivamente, para $(\\sigma_1)_{xy}$ y $(\\sigma_2)_{xy}$, gartizando que $(\\sigma_1)_{xy} \\geq (\\sigma_2)_{xy}$. En particular, ```LA.eigh()``` genera los valores propios ordenados de menor a mayor."
   ]
  },
  {
   "cell_type": "code",
   "execution_count": 8,
   "metadata": {},
   "outputs": [],
   "source": [
    "s2, s1 = valp"
   ]
  },
  {
   "cell_type": "markdown",
   "metadata": {
    "id": "6SAkdTahy3ET"
   },
   "source": [
    "Los vectores propios representan las direcciones $\\underline{\\hat{n_1}}$ y $\\underline{\\hat{n_2}}$ de los esfuerzos principales:"
   ]
  },
  {
   "cell_type": "code",
   "execution_count": 9,
   "metadata": {
    "colab": {
     "base_uri": "https://localhost:8080/"
    },
    "id": "p4j2ykdeyTaQ",
    "outputId": "277aa466-6a51-4368-c83d-1880c7097698",
    "scrolled": true
   },
   "outputs": [
    {
     "data": {
      "text/plain": [
       "array([[-0.66180256, -0.74967818],\n",
       "       [-0.74967818,  0.66180256]])"
      ]
     },
     "execution_count": 9,
     "metadata": {},
     "output_type": "execute_result"
    }
   ],
   "source": [
    "vecp"
   ]
  },
  {
   "cell_type": "markdown",
   "metadata": {},
   "source": [
    "Al valor propio ```s1 = 6.53112887``` le asociamos la _columna_ ```[-0.74967818, 0.66180256]``` como vector propio ```ng1``` (dirección principal 1).\n",
    "\n",
    "Al valor propio ```s2 = -1.53112887``` le asociamos la _columna_ ```[-0.66180256, -0.74967818]]``` como vector propio ```ng2``` (dirección principal 2)."
   ]
  },
  {
   "cell_type": "markdown",
   "metadata": {},
   "source": [
    "Por lo que si transportenos la matriz ```vecp``` obtenemos en cada fila las direcciones principales."
   ]
  },
  {
   "cell_type": "code",
   "execution_count": 10,
   "metadata": {},
   "outputs": [
    {
     "data": {
      "text/plain": [
       "array([[-0.66180256, -0.74967818],\n",
       "       [-0.74967818,  0.66180256]])"
      ]
     },
     "execution_count": 10,
     "metadata": {},
     "output_type": "execute_result"
    }
   ],
   "source": [
    "vecp.T"
   ]
  },
  {
   "cell_type": "code",
   "execution_count": 11,
   "metadata": {
    "colab": {
     "base_uri": "https://localhost:8080/"
    },
    "id": "QmSUYF37yXqA",
    "outputId": "783a6caa-45d5-46c4-c84d-c84dacd69bd1"
   },
   "outputs": [],
   "source": [
    "ng1 = vecp.T[1]  # Segunda fila se asocia a s1.\n",
    "ng2 = vecp.T[0]  # Primera fila se asocia a s2."
   ]
  },
  {
   "cell_type": "markdown",
   "metadata": {},
   "source": [
    "Verificamos que ```ng1``` sea unitario, calculando su norma con ```LA.norm()```:"
   ]
  },
  {
   "cell_type": "code",
   "execution_count": 12,
   "metadata": {},
   "outputs": [
    {
     "data": {
      "text/plain": [
       "1.0000000000000002"
      ]
     },
     "execution_count": 12,
     "metadata": {},
     "output_type": "execute_result"
    }
   ],
   "source": [
    "LA.norm(ng1)"
   ]
  },
  {
   "cell_type": "markdown",
   "metadata": {},
   "source": [
    "Verificamos que ```ng2``` sea unitario, calculando su norma con ```LA.norm()```:"
   ]
  },
  {
   "cell_type": "code",
   "execution_count": 13,
   "metadata": {},
   "outputs": [
    {
     "data": {
      "text/plain": [
       "1.0000000000000002"
      ]
     },
     "execution_count": 13,
     "metadata": {},
     "output_type": "execute_result"
    }
   ],
   "source": [
    "LA.norm(ng2)"
   ]
  },
  {
   "cell_type": "markdown",
   "metadata": {},
   "source": [
    "Por lo tanto, ```ng1``` y ```ng2``` son los vectores unitarios buscados que representan a  $\\underline{\\hat{n}_1}$ y $\\underline{\\hat{n}_2}$."
   ]
  },
  {
   "cell_type": "markdown",
   "metadata": {},
   "source": [
    "Finalmente, calculamos los ángulos $\\theta_1$ y $\\theta_2$ que describen la inclinación de los planos principales como $\\theta = tan^{-1}\\left (\\frac{\\beta}{\\alpha} \\right )$:"
   ]
  },
  {
   "cell_type": "code",
   "execution_count": 19,
   "metadata": {},
   "outputs": [
    {
     "data": {
      "text/plain": [
       "-41.43749182554911"
      ]
     },
     "execution_count": 19,
     "metadata": {},
     "output_type": "execute_result"
    }
   ],
   "source": [
    "t1 = rad2deg(arctan2(-ng1[1],-ng1[0]))\n",
    "t1"
   ]
  },
  {
   "cell_type": "code",
   "execution_count": 20,
   "metadata": {},
   "outputs": [
    {
     "data": {
      "text/plain": [
       "48.5625081744509"
      ]
     },
     "execution_count": 20,
     "metadata": {},
     "output_type": "execute_result"
    }
   ],
   "source": [
    "t2 = rad2deg(arctan2(-ng2[1],-ng2[0]))\n",
    "t2"
   ]
  },
  {
   "cell_type": "markdown",
   "metadata": {},
   "source": [
    "En resumen:\n",
    "\n",
    "* al esfuerzo principal $(\\sigma_1)_{xy}=6.53Pa$ le asociamos la dirección principal $\\underline{\\hat{n}_1}= [0.75, -0.66]^T$ descrita por el ángulo $\\theta_1=-41.44°$,\n",
    "\n",
    "* al esfuerzo principal $(\\sigma_2)_{xy}=-1.53Pa$ le asociamos la dirección principal $\\underline{\\hat{n}_2}= [0.66, 0.75]^T$ descrita por el ángulo $\\theta_2=48.56°$."
   ]
  },
  {
   "cell_type": "markdown",
   "metadata": {},
   "source": [
    "Y gráficamente, nuestro punto del sólido queda de la siguiente forma:"
   ]
  },
  {
   "cell_type": "markdown",
   "metadata": {},
   "source": [
    "![image.png](data:image/png;base64,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)"
   ]
  }
 ],
 "metadata": {
  "colab": {
   "authorship_tag": "ABX9TyNwB38SD92EwL3USglstiHd",
   "include_colab_link": true,
   "name": "02_08_01_ejemplo_01.ipynb",
   "provenance": []
  },
  "kernelspec": {
   "display_name": "Python 3",
   "language": "python",
   "name": "python3"
  },
  "language_info": {
   "codemirror_mode": {
    "name": "ipython",
    "version": 3
   },
   "file_extension": ".py",
   "mimetype": "text/x-python",
   "name": "python",
   "nbconvert_exporter": "python",
   "pygments_lexer": "ipython3",
   "version": "3.8.8"
  }
 },
 "nbformat": 4,
 "nbformat_minor": 1
}
