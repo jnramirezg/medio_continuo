{
 "cells": [
  {
   "cell_type": "markdown",
   "metadata": {
    "colab_type": "text",
    "id": "view-in-github"
   },
   "source": [
    "<a href=\"https://colab.research.google.com/github/jnramirezg/medio_continuo/blob/main/codigo/11-circulo_mohr_2d_interactivo.ipynb\" target=\"_parent\"><img src=\"https://colab.research.google.com/assets/colab-badge.svg\" alt=\"Open In Colab\"/></a>"
   ]
  },
  {
   "cell_type": "markdown",
   "metadata": {
    "id": "hkrhEpAeT85c"
   },
   "source": [
    "# 11. Círculo de Mohr 2D interactivo\n",
    "\n",
    "|Quién | Fecha | Qué hizo |\n",
    "| ---  | ---   | ---      |\n",
    "|Michael Heredia Pérez, <mherediap@unal.edu.co> | 2022-07-15 | Código base círculo de Mohr|\n",
    "|Juan Nicolás Ramírez, <jnramirezg@unal.edu.co> | 2022-09-25 | Agregando sólido e interactivo|\n",
    "\n"
   ]
  },
  {
   "cell_type": "code",
   "execution_count": 1,
   "metadata": {
    "id": "ZYiAHiPIT0nr"
   },
   "outputs": [],
   "source": [
    "from numpy import *\n",
    "from numpy import linalg as LA\n",
    "from matplotlib.pyplot import *\n",
    "from matplotlib.patches import Polygon\n",
    "from ipywidgets import interact "
   ]
  },
  {
   "cell_type": "code",
   "execution_count": 2,
   "metadata": {},
   "outputs": [],
   "source": [
    "def circulo_mohr(sx, sy, txy):\n",
    "    \n",
    "    sigma = array([[sx,  txy],   # Matriz de tensiones.\n",
    "                   [txy,  sy]])\n",
    "\n",
    "    valp, vecp = LA.eigh(sigma)          # Cálculo de valores y vectores propios.\n",
    "    s2, s1 = valp                       # Esfuerzos principales.\n",
    "    ng1, ng2  = vecp[:, 0], vecp[:, 1]  # Vects. unitarios en las dirs. 1 y 2.\n",
    "    \n",
    "    tt = linspace(0, 2*pi, 100)  # Álgulo tetha evaluado de 0° a 180°, en 100 puntos.\n",
    "    ssn_t = (sx+sy)/2 + (sx-sy)/2*cos(2*tt) + txy*sin(2*tt)  # componente normal de la circunferencia.\n",
    "    ttn_t = txy*cos(2*tt) - (sx-sy)/2*sin(2*tt)              # componente tangencial del circunferencia.\n",
    "    \n",
    "    tmax = R = (((sx-sy)/2)**2 + txy**2)**0.5      # Cálculo el esfuerzo cortante máximo, radio.\n",
    "    C = (s1+s2)/2  # Centro del círculo en x.                  \n",
    "    rcParams.update({'font.size': 18})  # Defino tamaño de letra.       \n",
    "    fig, ax = subplots(figsize=(37*2/3, 18*2/3))  # Inicio el lienzo y defino tamaño.\n",
    "    plot([-15, 24], [ 0, 0], \"-k\")  # Eje x.\n",
    "    plot([  0,  0], [-9, 9], \"-k\")  # Eje y.\n",
    "\n",
    "    plot((sx+sy)/2, 0, \"*r\")  # Dibujo el centro de la circunferencia O.\n",
    "    plot(ssn_t, ttn_t, \"-r\")  # Dibujo la circunferencia.\n",
    "    plot(sx, 0, \"*b\", label=r\"$\\sigma_x = $\" + f\"{sx} Pa\")  # Esfuero σx.\n",
    "    plot(sy, 0, \"*b\", label=r\"$\\sigma_y = $\" + f\"{sy} Pa\")  # Esfuero σy.\n",
    "    plot(s1, 0, \"*k\", label=r\"$\\sigma_1 = $\" + f\"{round(s1,2)} Pa\")  # Esfuero σ1.\n",
    "    plot(s2, 0, \"*k\", label=r\"$\\sigma_2 = $\" + f\"{round(s2,2)} Pa\")  # Esfuero σ2.\n",
    "    plot(s2+R,  tmax, \"*k\", label=r\"$\\tau_{max} = $\" + f\"{round( tmax,2)} Pa\")  # Esfuero τmax.\n",
    "    plot(s2+R, -tmax, \"*k\", label=r\"$\\tau_{min} = $\" + f\"{round(-tmax,2)} Pa\")  # Esfuero τmin.\n",
    "    \n",
    "    plot([sy, sx], [-txy,  txy], \"--g\")  # Recta que pasa por los puntos C y A.\n",
    "    plot([sx, sx], [   0,  txy], \"--b\")  # Línea de proyección de τxy.\n",
    "    plot([sy, sy], [   0, -txy], \"--b\")  # Línea de proyección de -τxy.\n",
    "    plot([0,  sx], [ txy,  txy], \"--b\")\n",
    "    plot([0,  sy], [-txy, -txy], \"--b\")\n",
    "    plot(sy, -txy, \"*b\")  # Punto C.\n",
    "    plot(sx,  txy, \"*b\")  # Punto A.\n",
    "    \n",
    "    text(0,  txy+0.2, r\"$\\tau_{xy}$\", color=\"b\")\n",
    "    text(0, -txy-0.6, r\"$\\tau_{xy}$\", color=\"b\")\n",
    "    text(sx+0.2,  txy+0.2, f\"({sx}, { txy})\", color=\"b\", fontsize=12, bbox=dict(boxstyle=\"round\", color=\"white\"))  \n",
    "    text(sy+0.2, -txy+0.2, f\"({sy}, {-txy})\", color=\"b\", fontsize=12, bbox=dict(boxstyle=\"round\", color=\"white\"))  \n",
    "    text(sx+0.2, 0.2, r\"$\\sigma_x$\", color=\"b\")\n",
    "    text(sy-0.6, 0.2, r\"$\\sigma_y$\", color=\"b\") \n",
    "    text(s1+0.2, -0.4, r\"$\\sigma_1$\")\n",
    "    text(s2-0.8, -0.4, r\"$\\sigma_2$\")\n",
    "    text(s2+R,  tmax+0.2, r\"$\\tau_{max}$\")\n",
    "    text(s2+R, -tmax-0.4, r\"$\\tau_{min}$\")\n",
    "    \n",
    "    # Función que dibuja textos y flechas.\n",
    "    def flecha_texto(xyf, xyt, var, colorf=\"r\", colort=\"r\"):\n",
    "        xyt = array(xyt)\n",
    "        if var < 0: xyf1, xyf2 = array(xyf)[1], array(xyf)[0]\n",
    "        else:       xyf1, xyf2 = array(xyf)[0], array(xyf)[1]\n",
    "        ax.annotate(\"\", xy=(xyf1), xytext=(xyf2),\n",
    "                    arrowprops=dict(arrowstyle=\"->\", color=colorf))\n",
    "        text(xyt[0], xyt[1], abs(round(var, 2)), color=colort)\n",
    "\n",
    "    # Funcióm para ajuste numérico del gráfico.\n",
    "    ajuste     = lambda n,dx,dy:array([ones(n)*dx, ones(n)*dy]).T\n",
    "    # Fun. para dibujar lineas punteadas negras.\n",
    "    dibujo_eje = lambda x, y: plot(x, y, \"--k\", linewidth=1)\n",
    "    # Función para dibujar un rectángulo.\n",
    "    rectang = lambda xy: ax.add_patch(Polygon( xy, alpha=1, facecolor='aliceblue',\n",
    "                                              edgecolor='b', linewidth=2))\n",
    "    txt_vec_n = lambda n: f\"[{round(-n[0],2)}, {round(-n[1],2)}\"+r\"$]^{T}$\"\n",
    "    \n",
    "    t1 = arctan2(ng1[1], ng1[0])  # Ángulo dir. principal 1.\n",
    "    t2 = arctan2(ng2[1], ng2[0])  # Ángulo dir. principal 2.\n",
    "    \n",
    "    if t1 < 0: t1 += pi\n",
    "    if t2 < 0: t2 += pi\n",
    "\n",
    "    ta = linspace(0, t1)                     # Puntos evaluación de los ángulos.\n",
    "    tb = linspace(0, t2)\n",
    "    if t1 < t2:\n",
    "        tac = linspace(0, 2*t1)\n",
    "        tbc = linspace(-pi, 2*t1)\n",
    "    else:\n",
    "        tac = linspace(-pi, 2*t2)\n",
    "        tbc = linspace(0, 2*t2)\n",
    "    \n",
    "    T = array([[cos(t1), -sin(t1)],   # Matriz trans. para la dir. principal 1.\n",
    "               [sin(t1),  cos(t1)]])\n",
    "\n",
    "    a, b = 5.0/2, 3.0/2  # Ancho y alto del rectángulo.\n",
    "    d = 1.5/2            # Longitud flecha de los esfuerzos.\n",
    "    ca, cb, cd = a/2, b/2, d/2  # Valores medios ancho, largo y longitud de flecha.\n",
    "\n",
    "    cent  = array([ca, cb])  # Centro del rectángulo original.\n",
    "    centP = cent@T.T         # Centro del rectángulo transformado.\n",
    "    delta   = cent - centP   # Diferencia en la ubicación de los centros.\n",
    "    dx, dy  = 2.5*a + 3 + delta[0], 2+delta[1]  # Ajuste x y y rectángulo transformado.\n",
    "    c2 = centP + ajuste(1, dx, dy)[0]     # Centro rectángulo trans. con ajuste.\n",
    "    vert  = array([[0,0],[0,b],[a,b],[a,0]])  # Vértices rectángulo original.\n",
    "    vertP = vert@T.T + ajuste(4, dx, dy)      # Vértices rectángulo transformado.\n",
    "\n",
    "    # Matrices información de la ubicación de las flechas y sus valores.\n",
    "    A = array([[[ a, cb], [ d+.5,    0], [ .5,  0], [  d-.2,    .2]],   # sx der.\n",
    "               [[ca,  b], [    0, d+.5], [  0, .5], [    .2,  d-.2]],   # sy sup.\n",
    "               [[ 0, cb], [-d-.5,    0], [-.5,  0], [ -d+.2,    .2]],   # sx izq.\n",
    "               [[ca,  0], [    0,-d-.5], [  0,-.5], [    .2, -d+.2]]])  # sy inf.\n",
    "    \n",
    "    # Matriz información: ajust posición valor, ajust posición ng, valor, texto ng.\n",
    "    F = [[[ 0.0, 0.5], [ 1.0, 0.0], s1, r\"$\\hat{n}_1$=\" + txt_vec_n(ng1)],  # ng1(+).\n",
    "         [[ 0.0, 0.0], [-2.0, 1.0], s2, r\"$\\hat{n}_2$=\" + txt_vec_n(ng2)],  # ng2(+).\n",
    "         [[-0.5,-0.5], [-0.0, 0.0], s1,                   txt_vec_n(ng1)],  # ng1(-).       \n",
    "         [[ 0.0,-0.5], [-0.0,-0.0], s2,                   txt_vec_n(ng2)]]  # ng2(-).\n",
    "\n",
    "    S, U= [sx, sy, sx, sy], [txy, txy, txy, txy]  # Auxiliar de almacenamiento.\n",
    "\n",
    "    # Gráfica de sólido.\n",
    "    rcParams.update({'font.size': 12})  # Defino tamaño de letra.\n",
    "\n",
    "    dibujo_eje([c2[0],         c2[0]+5], [c2[1],           c2[1]])     # Dib. eje x auxiliar.\n",
    "    dibujo_eje([c2[0], c2[0]+4/2*cos(t1)], [c2[1], c2[1]+4/2*sin(t1)])  # Dib. dir 1.\n",
    "    dibujo_eje([c2[0], c2[0]+3/2*cos(t2)], [c2[1], c2[1]+3/2*sin(t2)])  # Dib. dir 2.\n",
    "    plot(c2[0] + 3/2*cos(ta), c2[1] + 3/2*sin(ta),\"-m\", linewidth=0.8)  # Dib. t1 en sólido.\n",
    "    plot(c2[0] +   1*cos(tb), c2[1] +   1*sin(tb),\"-c\", linewidth=0.8)  # Dib. t2 en sólido.\n",
    "    plot(C + 1.0*cos(tac),  1.0*sin(tac),\"-m\", linewidth=0.8, label=r\"$\\theta_1=$\"+f\"{round(rad2deg(t1),2)}°\")  # Dib. t1 en círculo.\n",
    "    plot(C + 0.5*cos(tbc),  0.5*sin(tbc),\"-c\", linewidth=0.8, label=r\"$\\theta_2=$\"+f\"{round(rad2deg(t2),2)}°\")  # Dib. t2 en círculo.\n",
    "    rectang(vertP)  # Dibujo de rectángulo transformado.\n",
    "\n",
    "    for i in range(len(A)): # Dibujo de las flechas y los valores.\n",
    "        xy_f = array([A[i][0]+A[i][1], A[i][0]+A[i][2]*0.5])@T.T + ajuste(2,dx,dy)\n",
    "        # Coordenadas textos transformadas.\n",
    "        xy_t = (A[i][0]+A[i][3]+ F[i][0])@T.T + ajuste(1, dx, dy)[0]\n",
    "        # Flechas de las direcciones principales, sus valores y sus vectores ng.\n",
    "        flecha_texto(xy_f, xy_t,  F[i][2])\n",
    "        if i in[0,1]:\n",
    "        # Textos de los vectores ng.\n",
    "            text(xy_t[0]+F[i][1][0], xy_t[1]+F[i][1][1], F[i][3], color=\"k\")\n",
    "\n",
    "    # Impresión del valor de los ángulos t1 y t2.\n",
    "    nul1, nul2 = 1, 1  # Anulan cálculo con condición, inicialmente no hacen nada.\n",
    "    if isclose(t1, 0):   nul1 =0  # Si t1 es cero, entonces cero1 anula su texto.\n",
    "    elif isclose(t2, 0): nul2 =0  # Si t2 es cero, entonces cero1 anula su texto.\n",
    "    text((c2[0]+3/2*cos(t1/2)+.2)*nul1, c2[1]+3/2*sin(t1/2)-.1, r\"$\\theta_1$\"*nul1, fontsize=9, bbox=dict(boxstyle=\"round\", color=\"white\"))\n",
    "    text((c2[0]+0.8*cos(2*t2/3)+.2)*nul2, c2[1]+0.8*sin(2*t2/3)-.1, r\"$\\theta_2$\"*nul2, fontsize=9, bbox=dict(boxstyle=\"round\", color=\"white\"))\n",
    "    text((C    +1.0*cos(4*t1/3))*nul1, 1.0*sin(4*t1/3), r\"2$\\theta_1$\"*nul1, fontsize=9)\n",
    "    text((C    +0.5*cos(-t2))*nul1, 0.5*sin(-t2), r\"2$\\theta_2$\"*nul1, fontsize=9)\n",
    "    \n",
    "    xlim(-15, 22)\n",
    "    ylim(-9, 9)\n",
    "    xlabel(\"Esfuerzo normal \" + r\"$\\sigma_n$\")  # Nombre del eje x.\n",
    "    ylabel(\"Esfuerzo cortante \" + r\"$\\tau_n$\")  # Nombre del eje y.\n",
    "    grid(True, which='both', color='k', linestyle='-', alpha=0.1)\n",
    "    legend()\n",
    "    show()               # Mostrar gráfica."
   ]
  },
  {
   "cell_type": "code",
   "execution_count": 3,
   "metadata": {
    "scrolled": false
   },
   "outputs": [
    {
     "data": {
      "application/vnd.jupyter.widget-view+json": {
       "model_id": "4fb847fc5bff4e228fd0c9a4c0adb95b",
       "version_major": 2,
       "version_minor": 0
      },
      "text/plain": [
       "interactive(children=(FloatSlider(value=-1.0, description='sx', max=6.0, min=-8.0, step=0.5), FloatSlider(valu…"
      ]
     },
     "metadata": {},
     "output_type": "display_data"
    }
   ],
   "source": [
    "interact(circulo_mohr, \n",
    "         sx  = (-8, 6, 0.5), \n",
    "         sy  = (-3, 7, 0.5), \n",
    "         txy = (-10, 4, 0.5))\n",
    "None"
   ]
  }
 ],
 "metadata": {
  "colab": {
   "authorship_tag": "ABX9TyPzsVKC98eOCdm/CUQsM3pG",
   "include_colab_link": true,
   "name": "02_09_04_ejemplo.ipynb",
   "provenance": []
  },
  "kernelspec": {
   "display_name": "Python 3",
   "language": "python",
   "name": "python3"
  },
  "language_info": {
   "codemirror_mode": {
    "name": "ipython",
    "version": 3
   },
   "file_extension": ".py",
   "mimetype": "text/x-python",
   "name": "python",
   "nbconvert_exporter": "python",
   "pygments_lexer": "ipython3",
   "version": "3.8.8"
  }
 },
 "nbformat": 4,
 "nbformat_minor": 1
}
