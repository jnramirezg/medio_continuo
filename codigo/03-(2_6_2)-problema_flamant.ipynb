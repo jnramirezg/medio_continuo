{
 "cells": [
  {
   "cell_type": "markdown",
   "metadata": {
    "colab_type": "text",
    "id": "view-in-github"
   },
   "source": [
    "<a href=\"https://colab.research.google.com/github/jnramirezg/medio_continuo/blob/main/codigo/03-(2_6_2)-problema_flamant.ipynb\" target=\"_parent\"><img src=\"https://colab.research.google.com/assets/colab-badge.svg\" alt=\"Open In Colab\"/></a>"
   ]
  },
  {
   "cell_type": "markdown",
   "metadata": {
    "id": "U5leorZWcI5W"
   },
   "source": [
    "# 03. Problema de Flamant (ejemplo sección 2.6.2)\n",
    "\n",
    "|Quién | Fecha | Qué hizo |\n",
    "| ---  | ---   | ---      |\n",
    "|Michael Heredia Pérez, <mherediap@unal.edu.co> | 2022-07-14 | Conversión de código de MAXIMA a Python|\n",
    "|Michael Heredia Pérez, <mherediap@unal.edu.co> | 2022-09-02 | Mejorando legibilidad|\n",
    "|Juan Nicolás Ramírez, <jnramirezg@unal.edu.co> | 2022-09-08 |  Simplificando programa                |\n",
    "|Juan Nicolás Ramírez, <jnramirezg@unal.edu.co> | 2023-02-16 |  Simplificando programa                |"
   ]
  },
  {
   "cell_type": "markdown",
   "metadata": {},
   "source": [
    "Consideremos el sólido elástico de espesor $t$ de la figura y sometido a la acción de una carga puntual longitudinal de intensidad P. Este ejemplo es el llamado *problema de Flamant* que discutiremos en la sección <font color='blue'>6.13.3</font>. Con respecto a los ejes mostrados en dicha figura, podemos demostrar que las componentes del esfuerzo están dadas por:\n",
    "\n",
    "$\\sigma_x  = \\frac{2Px^2y}{\\pi(x^2+y^2)^2}$ (<font color='blue'>1</font>)\n",
    "\n",
    "$\\sigma_y  = \\frac{2Py^3}{\\pi(x^2+y^2)^2}$  (<font color='blue'>2</font>)\n",
    "\n",
    "$\\tau_{xy} = \\frac{2Pxy^2}{\\pi(x^2+y^2)}$   (<font color='blue'>3</font>)\n",
    "\n",
    "\n",
    "<p align=\"center\">\n",
    " <img width=\"600\" height=\"350\" src=https://drive.google.com/uc?id=1eAbW9IQvkjEK50OUyBmhvbDUSsJf9wMa\n",
    ">\n",
    "</p>\n",
    "\n",
    "Se pide reescribir las componentes de esfuerzo $\\sigma_x$, $\\sigma_y$ y $\\tau_{xy}$ en función de los ejes $x'$ y $y'$.\n",
    "\n",
    "Recordemos que las fórmulas de conversión de coordenadas rectangulares a polares son $x = r cos(\\theta)$ y $y = rsin(\\theta)$, por lo tanto, aplicando las fórmulas anteriores se pueden reescribir las ecuaciones como:\n",
    "\n",
    "$ \\sigma_x = \\frac{-2Psin(\\theta)cos^2(\\theta)}{\\pi r}$ (<font color='blue'>4</font>)\n",
    "\n",
    "$\\sigma_y = \\frac{2Psin^3(\\theta)}{\\pi r}$ (<font color='blue'>5</font>)\n",
    "\n",
    "$\\tau_{xy} = \\frac{2Psin(\\theta)cos^2(\\theta)}{\\pi r}$ (<font color='blue'>6</font>)\n",
    "\n",
    "Teniendo en cuenta que los vectores unitarios que describen los ejes $x'$ y $y'$ son respectivamente $\\underline{\\hat{e}}^{'}_{1} = [cos(\\theta), sin(\\theta)]^T$ y $\\underline{\\hat{e}}^{'}_{2} = [-sin(\\theta), cos(\\theta)]^T$, podemos aplicar la ecuación $\\underline{\\underline{\\boldsymbol{\\sigma}}}' = \\underline{\\underline{\\boldsymbol{T}}}^T \\underline{\\underline{\\boldsymbol{\\sigma}}} \\underline{\\underline{\\boldsymbol{T}}}$ en el siguiente código: "
   ]
  },
  {
   "cell_type": "code",
   "execution_count": 1,
   "metadata": {
    "id": "JWwFPKQ-cFDZ"
   },
   "outputs": [],
   "source": [
    "from sympy import *  # Importamos todas las funciones de la librería."
   ]
  },
  {
   "cell_type": "markdown",
   "metadata": {
    "id": "ONmKfn9adYzk"
   },
   "source": [
    "Definimos las variables simbólicas necesarias:"
   ]
  },
  {
   "cell_type": "code",
   "execution_count": 2,
   "metadata": {
    "colab": {
     "base_uri": "https://localhost:8080/",
     "height": 38
    },
    "id": "BlTtQ5oXdAqS",
    "outputId": "be652dc0-0114-45ba-df0d-366f32832951"
   },
   "outputs": [],
   "source": [
    "sx, sy, txy = symbols(\"sigma_x, sigma_y, tau_xy\")\n",
    "t, r, P = symbols(\"theta, r, P\")"
   ]
  },
  {
   "cell_type": "markdown",
   "metadata": {},
   "source": [
    "$\\displaystyle \\sigma_{x}, \\  \\sigma_{y}, \\  \\tau_{xy}, \\  \\theta, \\  r, \\  P$"
   ]
  },
  {
   "cell_type": "markdown",
   "metadata": {
    "id": "eUYBz63CdjAS"
   },
   "source": [
    "Especificamos las fórmulas de conversión de coordenadas rectangulares a polares, las cuales serán reemplazadas en $\\sigma_x$ (```sx```), $\\sigma_y$ (```sy```) y $\\tau_{xy}$ (```txy```)."
   ]
  },
  {
   "cell_type": "code",
   "execution_count": 3,
   "metadata": {
    "id": "sjRJjUpndh64"
   },
   "outputs": [],
   "source": [
    "x = r*cos(t)\n",
    "y = r*sin(t)"
   ]
  },
  {
   "cell_type": "markdown",
   "metadata": {
    "id": "S7rvpaIpd9X_"
   },
   "source": [
    "Especificamos las ecuaciones $\\sigma_x$ (```sx```), $\\sigma_y$ (```sy```) y $\\tau_{xy}$ (```txy```) dadas por las (<font color='blue'>1</font>), (<font color='blue'>2</font>) y (<font color='blue'>3</font>) en el problema, con la aplicación de simplificaciones trigonométricas mediante el comando ```sp.trigsimp()```:"
   ]
  },
  {
   "cell_type": "code",
   "execution_count": 4,
   "metadata": {
    "id": "ly7fy_lbrwmt"
   },
   "outputs": [],
   "source": [
    "sx  = trigsimp(-(2*P*x**2*y) / (pi*(x**2 + y**2)**2))\n",
    "sy  = trigsimp(-(2*P*y**3)   / (pi*(x**2 + y**2)**2))\n",
    "txy = trigsimp(-(2*P*x*y**2) / (pi*(x**2 + y**2)**2))"
   ]
  },
  {
   "cell_type": "markdown",
   "metadata": {},
   "source": [
    "Obteniendo las ecuaciones (<font color='blue'>4</font>), (<font color='blue'>5</font>) y (<font color='blue'>6</font>) del problema:"
   ]
  },
  {
   "cell_type": "markdown",
   "metadata": {
    "colab": {
     "base_uri": "https://localhost:8080/",
     "height": 54
    },
    "id": "mT8ApPZ-r3-u",
    "outputId": "6dfdb80c-a0a4-4aee-870b-e26f2eb6498f"
   },
   "source": [
    "$\\displaystyle \\sigma_{x} = - \\frac{2 P \\sin{\\left(\\theta \\right)} \\cos^{2}{\\left(\\theta \\right)}}{\\pi r}$"
   ]
  },
  {
   "cell_type": "markdown",
   "metadata": {
    "colab": {
     "base_uri": "https://localhost:8080/",
     "height": 55
    },
    "id": "dvRxjvatr6-E",
    "outputId": "b5434918-f80c-459a-d3d0-f036fef92e52"
   },
   "source": [
    "$\\displaystyle \\sigma_{y} = - \\frac{2 P \\sin^{3}{\\left(\\theta \\right)}}{\\pi r}$"
   ]
  },
  {
   "cell_type": "markdown",
   "metadata": {
    "colab": {
     "base_uri": "https://localhost:8080/",
     "height": 55
    },
    "id": "m6PWOTQIr_Xv",
    "outputId": "6901f2f8-fd64-4519-c59d-75e4a62c2f45"
   },
   "source": [
    "$\\displaystyle \\tau_{xy} = - \\frac{2 P \\sin^{2}{\\left(\\theta \\right)} \\cos{\\left(\\theta \\right)}}{\\pi r}$"
   ]
  },
  {
   "cell_type": "markdown",
   "metadata": {
    "id": "ODCwPLWrfvL-"
   },
   "source": [
    "Definimos la matriz de tensiones $\\underline{\\underline{\\boldsymbol{\\sigma}}}$ en dos dimensiones:"
   ]
  },
  {
   "cell_type": "code",
   "execution_count": 5,
   "metadata": {
    "colab": {
     "base_uri": "https://localhost:8080/",
     "height": 68
    },
    "id": "AeDXUUYTfqRi",
    "outputId": "285e2ef8-ea93-4bc6-a497-949689dabf73"
   },
   "outputs": [],
   "source": [
    "sigma = Matrix([[sx, txy],\n",
    "                [txy, sy]])"
   ]
  },
  {
   "cell_type": "markdown",
   "metadata": {},
   "source": [
    "$\\displaystyle \\underline{\\underline{\\boldsymbol{\\sigma}}} = \\left[\\begin{matrix}- \\frac{2 P \\sin{\\left(\\theta \\right)} \\cos^{2}{\\left(\\theta \\right)}}{\\pi r} & - \\frac{2 P \\sin^{2}{\\left(\\theta \\right)} \\cos{\\left(\\theta \\right)}}{\\pi r}\\\\- \\frac{2 P \\sin^{2}{\\left(\\theta \\right)} \\cos{\\left(\\theta \\right)}}{\\pi r} & - \\frac{2 P \\sin^{3}{\\left(\\theta \\right)}}{\\pi r}\\end{matrix}\\right]$"
   ]
  },
  {
   "cell_type": "markdown",
   "metadata": {
    "id": "gtBJku-Rgdtu"
   },
   "source": [
    "Definimos la matriz de transformación: $\\underline{\\underline{\\boldsymbol{T}}}$ en dos dimensiones:"
   ]
  },
  {
   "cell_type": "markdown",
   "metadata": {},
   "source": [
    "$\\displaystyle \\underline{\\underline{\\boldsymbol{T}}} = \\left[\\begin{matrix}\\cos{\\left(\\theta \\right)} & - \\sin{\\left(\\theta \\right)}\\\\\\sin{\\left(\\theta \\right)} & \\cos{\\left(\\theta \\right)}\\end{matrix}\\right]$"
   ]
  },
  {
   "cell_type": "code",
   "execution_count": 6,
   "metadata": {
    "colab": {
     "base_uri": "https://localhost:8080/",
     "height": 58
    },
    "id": "Gj7tuwnRgIEZ",
    "outputId": "4c465e18-b84e-4713-8fdd-c33ca6bfb440",
    "scrolled": true
   },
   "outputs": [],
   "source": [
    "T = Matrix([[cos(t), -sin(t)],\n",
    "            [sin(t),  cos(t)]])"
   ]
  },
  {
   "cell_type": "markdown",
   "metadata": {
    "id": "uVTNHZUVgVYs"
   },
   "source": [
    "Calculamos la matriz de tensiones $\\underline{\\underline{\\boldsymbol{\\sigma}}}'$ en el sistema de coordenadas especificadas por los vectores definidos en la matriz $\\underline{\\underline{\\boldsymbol{T}}}$, mediante la siguiente ecuación:\n",
    "\n",
    "\\begin{equation*}\n",
    "\\underline{\\underline{\\boldsymbol{\\sigma}}}' = \\underline{\\underline{\\boldsymbol{T}}}^T \\underline{\\underline{\\boldsymbol{\\sigma}}} \\underline{\\underline{\\boldsymbol{T}}}.\n",
    "\\end{equation*}"
   ]
  },
  {
   "cell_type": "markdown",
   "metadata": {},
   "source": [
    "Almacenamos en memoria como ```sigmaP```:"
   ]
  },
  {
   "cell_type": "code",
   "execution_count": 7,
   "metadata": {
    "colab": {
     "base_uri": "https://localhost:8080/",
     "height": 61
    },
    "id": "A53EXCOsgTxJ",
    "outputId": "8f0141b5-c090-4365-cab3-fc3cbf1cdc56"
   },
   "outputs": [],
   "source": [
    "sigmaP = trigsimp(Transpose(T)*sigma*T)"
   ]
  },
  {
   "cell_type": "markdown",
   "metadata": {},
   "source": [
    "$\\displaystyle \\left[\\begin{matrix}- \\frac{2 P \\sin{\\left(\\theta \\right)}}{\\pi r} & 0\\\\0 & 0\\end{matrix}\\right]$"
   ]
  },
  {
   "cell_type": "markdown",
   "metadata": {
    "id": "7ymJe--ng3-7"
   },
   "source": [
    "Extraemos los valores asociados a $\\sigma_x'$ (```sxp```), $\\sigma_y'$ (```syp```) y $\\tau_{x'y'}$ (```txpyp```):"
   ]
  },
  {
   "cell_type": "code",
   "execution_count": 8,
   "metadata": {
    "id": "Ilq7YZcQgw_h"
   },
   "outputs": [],
   "source": [
    "sxp   = sigmaP[0,0]\n",
    "syp   = sigmaP[1,1]\n",
    "txpyp = sigmaP[1,0]"
   ]
  },
  {
   "cell_type": "markdown",
   "metadata": {},
   "source": [
    "Para así, obtener:"
   ]
  },
  {
   "cell_type": "markdown",
   "metadata": {},
   "source": [
    "$\\displaystyle \\sigma_{x'} = - \\frac{2 P \\sin{\\left(\\theta \\right)}}{\\pi r}$\n",
    "\n",
    "$\\displaystyle \\sigma_{y'} = 0$\n",
    "\n",
    "$\\displaystyle \\tau_{x'y'} = 0$"
   ]
  },
  {
   "cell_type": "markdown",
   "metadata": {
    "id": "qfq5_Y5rNWRQ"
   },
   "source": [
    "Observemos que, al transformar los esfuerzos al sistema de coordenadas expresado por los ejes $x'$ y $y'$ se simplifica notablemente las ecuaciones, por lo que es preferible trabajar con esta última formulación. Finalmente, notemos que cuando $r \\rightarrow 0$ el esfuerzo tiende a infinito, lo cual no es físicamente posible. En la realidad lo que pasaría es que existiría fluencia en el material alrededor de la carga puntual; sin embargo, los esfuerzos alejados de dicha carga puntual sí se podrían estimar por las ecuaciones anteriores, en virtud del *Principio de Saint-Venant* que veremos en la sección <font color='blue'>5.12</font>."
   ]
  }
 ],
 "metadata": {
  "colab": {
   "authorship_tag": "ABX9TyOtMLop03Lj+xLMlqsAmpEu",
   "include_colab_link": true,
   "provenance": []
  },
  "kernelspec": {
   "display_name": "Python 3",
   "language": "python",
   "name": "python3"
  },
  "language_info": {
   "codemirror_mode": {
    "name": "ipython",
    "version": 3
   },
   "file_extension": ".py",
   "mimetype": "text/x-python",
   "name": "python",
   "nbconvert_exporter": "python",
   "pygments_lexer": "ipython3",
   "version": "3.8.8"
  }
 },
 "nbformat": 4,
 "nbformat_minor": 1
}
