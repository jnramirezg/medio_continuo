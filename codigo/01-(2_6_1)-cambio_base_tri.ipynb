{
 "cells": [
  {
   "cell_type": "markdown",
   "metadata": {},
   "source": [
    "<a href=\"https://colab.research.google.com/github/jnramirezg/mecanica_de_solidos/blob/main/codigo/01-(2_6_1)-cambio_base_tri.ipynb\" target=\"_parent\"><img src=\"https://colab.research.google.com/assets/colab-badge.svg\" alt=\"Open In Colab\"/></a>"
   ]
  },
  {
   "cell_type": "markdown",
   "metadata": {
    "id": "UyAhKeEIsEqh"
   },
   "source": [
    "# 01. Particularización de la matriz de tensiones al caso tridimensional (sección 2.6.1)\n",
    "\n",
    "|Quién | Fecha | Qué hizo |\n",
    "| ---  | ---   | ---      |\n",
    "|Michael Heredia Pérez, <mherediap@unal.edu.co> | 2022-07-13| Conversión de código de MAXIMA a Python|\n",
    "|Diego Andrés Álvarez, <daalvarez@unal.edu.co>  | 2022-08-29 | Mejorando comentarios                |\n",
    "|Juan Nicolás Ramírez, <jnramirezg@unal.edu.co> | 2022-09-06 |  Simplificando programa                |\n",
    "\n",
    "De acuerdo con la ecuación:\n",
    "\n",
    "$\\underline{\\underline{\\boldsymbol{\\sigma}}}' = \\underline{\\underline{\\boldsymbol{T}}}^T \\underline{\\underline{\\boldsymbol{\\sigma}}} \\underline{\\underline{\\boldsymbol{T}}}$\n",
    "\n",
    "y la matriz de transformación definida por:\n",
    "\n",
    "$\\displaystyle \\underline{\\underline{\\boldsymbol{T}}} = \\left[\\begin{matrix}\\alpha_{1} & \\alpha_{2} & \\alpha_{3}\\\\\\beta_{1} & \\beta_{2} & \\beta_{3}\\\\\\gamma_{1} & \\gamma_{2} & \\gamma_{3}\\end{matrix}\\right]$\n",
    "\n",
    "Las ecuaciones que transforman los esfuerzos a otro sistema de coordenadas se pueden calcular con el siguiente programa:"
   ]
  },
  {
   "cell_type": "code",
   "execution_count": 1,
   "metadata": {
    "id": "API5h85VrvWX"
   },
   "outputs": [],
   "source": [
    "import sympy as sp  # Importamos la librería."
   ]
  },
  {
   "cell_type": "markdown",
   "metadata": {
    "id": "L66opn_C5Tr_"
   },
   "source": [
    "Definimos las variables simbólicas necesarias:"
   ]
  },
  {
   "cell_type": "code",
   "execution_count": 2,
   "metadata": {
    "id": "S7-I1WarsUgw"
   },
   "outputs": [],
   "source": [
    "sx, sy, sz    = sp.symbols(\"sigma_x, sigma_y, sigma_z\")\n",
    "txy, txz, tyz = sp.symbols(\"tau_xy,  tau_xz,  tau_yz\")\n",
    "\n",
    "a1, a2, a3    = sp.symbols(\"alpha_1, alpha_2, alpha_3\")\n",
    "b1, b2, b3    = sp.symbols(\"beta_1, beta_2, beta_3\")\n",
    "g1, g2, g3    = sp.symbols(\"gamma_1, gamma_2, gamma_3\")"
   ]
  },
  {
   "cell_type": "markdown",
   "metadata": {
    "id": "gUyQP-4l5Z5y"
   },
   "source": [
    "Definimos la matriz de tensiones en coordenadas rectangulares $\\underline{\\underline{\\boldsymbol{\\sigma}}}$:\n",
    "\n",
    "$\\displaystyle \\underline{\\underline{\\boldsymbol{\\sigma}}} = \\left[\\begin{matrix}\\sigma_{x} & \\tau_{xy} & \\tau_{xz}\\\\\\tau_{xy} & \\sigma_{y} & \\tau_{yz}\\\\\\tau_{xz} & \\tau_{yz} & \\sigma_{z}\\end{matrix}\\right]$\n"
   ]
  },
  {
   "cell_type": "markdown",
   "metadata": {},
   "source": [
    "Almacenamos en memoria como ```sigma```:"
   ]
  },
  {
   "cell_type": "code",
   "execution_count": 3,
   "metadata": {},
   "outputs": [],
   "source": [
    "sigma = sp.Matrix([[sx, txy, txz],\n",
    "                   [txy, sy, tyz],\n",
    "                   [txz, tyz, sz]])"
   ]
  },
  {
   "cell_type": "markdown",
   "metadata": {
    "id": "vLtLDIWz5q_9"
   },
   "source": [
    "Definimos la matriz de transformación $\\underline{\\underline{\\boldsymbol{T}}}$:\n",
    "\n",
    "$\\displaystyle \\underline{\\underline{\\boldsymbol{T}}} = \\left[\\begin{matrix}\\alpha_{1} & \\alpha_{2} & \\alpha_{3}\\\\\\beta_{1} & \\beta_{2} & \\beta_{3}\\\\\\gamma_{1} & \\gamma_{2} & \\gamma_{3}\\end{matrix}\\right]$"
   ]
  },
  {
   "cell_type": "markdown",
   "metadata": {},
   "source": [
    "Almacenamos en memoria como ```T```:"
   ]
  },
  {
   "cell_type": "code",
   "execution_count": 4,
   "metadata": {},
   "outputs": [],
   "source": [
    "T = sp.Matrix([[a1, a2, a3],     \n",
    "               [b1, b2, b3],      \n",
    "               [g1, g2, g3]])"
   ]
  },
  {
   "cell_type": "markdown",
   "metadata": {
    "id": "9du7Qzz07wKz"
   },
   "source": [
    "Calculamos la matriz de tensiones $\\underline{\\underline{\\boldsymbol{\\sigma}}}'$ en el sistema de coordenadas especificadas por los vectores definidos en la matriz $\\underline{\\underline{\\boldsymbol{T}}}$, mediante la siguiente ecuación:\n",
    "\n",
    "\\begin{equation*}\n",
    "\\underline{\\underline{\\boldsymbol{\\sigma}}}' = \\underline{\\underline{\\boldsymbol{T}}}^T \\underline{\\underline{\\boldsymbol{\\sigma}}} \\underline{\\underline{\\boldsymbol{T}}}.\n",
    "\\end{equation*}"
   ]
  },
  {
   "cell_type": "markdown",
   "metadata": {},
   "source": [
    "Almacenamos en memoria como ```sigmaP```:"
   ]
  },
  {
   "cell_type": "code",
   "execution_count": 5,
   "metadata": {},
   "outputs": [],
   "source": [
    "sigmaP = sp.transpose(T)*sigma*T"
   ]
  },
  {
   "cell_type": "markdown",
   "metadata": {
    "id": "wI_VbHIb8NMn"
   },
   "source": [
    "Extraemos los seis términos independientes de la matriz de tensiones $\\underline{\\underline{\\boldsymbol{\\sigma}}}'$ (```sigmaP```), usando la función ```sp.factor()``` para factorizar y mejorar la presentación de resultados:"
   ]
  },
  {
   "cell_type": "code",
   "execution_count": 6,
   "metadata": {
    "id": "WGpqR1I17g73"
   },
   "outputs": [],
   "source": [
    "sxp   = sp.factor(sigmaP[0,0])  # elemento (1,1) de la matriz sigmaP\n",
    "syp   = sp.factor(sigmaP[1,1])  # elemento (2,2) de la matriz sigmaP\n",
    "szp   = sp.factor(sigmaP[2,2])  # elemento (3,3) de la matriz sigmaP\n",
    "typzp = sp.factor(sigmaP[1,2])  # elemento (2,3) de la matriz sigmaP\n",
    "txpzp = sp.factor(sigmaP[0,2])  # elemento (1,3) de la matriz sigmaP \n",
    "txpyp = sp.factor(sigmaP[0,1])  # elemento (1,2) de la matriz sigmaP "
   ]
  },
  {
   "cell_type": "markdown",
   "metadata": {},
   "source": [
    "De esta manera, quedamos con seis ecuaciones ($\\sigma_{x'}$, $\\sigma_{y'}$, $\\sigma_{z'}$, $\\tau_{y'z'}$, $\\tau_{x'z'}$, $\\tau_{x'y'}$) y seis \"incógnitas\" ($\\sigma_{x}$, $\\sigma_{y}$, $\\sigma_{z}$, $\\tau_{yz}$, $\\tau_{xz}$, $\\tau_{xy}$):\n",
    "\n",
    "$\\displaystyle \\sigma_{x'} = \\alpha_{1}^{2} \\sigma_{x} + 2 \\alpha_{1} \\beta_{1} \\tau_{xy} + 2 \\alpha_{1} \\gamma_{1} \\tau_{xz} + \\beta_{1}^{2} \\sigma_{y} + 2 \\beta_{1} \\gamma_{1} \\tau_{yz} + \\gamma_{1}^{2} \\sigma_{z}$\n",
    "\n",
    "$\\displaystyle \\sigma_{y'} = \\alpha_{2}^{2} \\sigma_{x} + 2 \\alpha_{2} \\beta_{2} \\tau_{xy} + 2 \\alpha_{2} \\gamma_{2} \\tau_{xz} + \\beta_{2}^{2} \\sigma_{y} + 2 \\beta_{2} \\gamma_{2} \\tau_{yz} + \\gamma_{2}^{2} \\sigma_{z}$\n",
    "\n",
    "$\\displaystyle \\sigma_{z'} = \\alpha_{3}^{2} \\sigma_{x} + 2 \\alpha_{3} \\beta_{3} \\tau_{xy} + 2 \\alpha_{3} \\gamma_{3} \\tau_{xz} + \\beta_{3}^{2} \\sigma_{y} + 2 \\beta_{3} \\gamma_{3} \\tau_{yz} + \\gamma_{3}^{2} \\sigma_{z}$\n",
    "\n",
    "$\\displaystyle \\tau_{y'z'} = \\alpha_{2} \\alpha_{3} \\sigma_{x} + \\alpha_{2} \\beta_{3} \\tau_{xy} + \\alpha_{2} \\gamma_{3} \\tau_{xz} + \\alpha_{3} \\beta_{2} \\tau_{xy} + \\alpha_{3} \\gamma_{2} \\tau_{xz} + \\beta_{2} \\beta_{3} \\sigma_{y} + \\beta_{2} \\gamma_{3} \\tau_{yz} + \\beta_{3} \\gamma_{2} \\tau_{yz} + \\gamma_{2} \\gamma_{3} \\sigma_{z}$\n",
    "\n",
    "$\\displaystyle \\tau_{x'z'} = \\alpha_{1} \\alpha_{3} \\sigma_{x} + \\alpha_{1} \\beta_{3} \\tau_{xy} + \\alpha_{1} \\gamma_{3} \\tau_{xz} + \\alpha_{3} \\beta_{1} \\tau_{xy} + \\alpha_{3} \\gamma_{1} \\tau_{xz} + \\beta_{1} \\beta_{3} \\sigma_{y} + \\beta_{1} \\gamma_{3} \\tau_{yz} + \\beta_{3} \\gamma_{1} \\tau_{yz} + \\gamma_{1} \\gamma_{3} \\sigma_{z}$\n",
    "\n",
    "$\\displaystyle \\tau_{x'y'} = \\alpha_{1} \\alpha_{2} \\sigma_{x} + \\alpha_{1} \\beta_{2} \\tau_{xy} + \\alpha_{1} \\gamma_{2} \\tau_{xz} + \\alpha_{2} \\beta_{1} \\tau_{xy} + \\alpha_{2} \\gamma_{1} \\tau_{xz} + \\beta_{1} \\beta_{2} \\sigma_{y} + \\beta_{1} \\gamma_{2} \\tau_{yz} + \\beta_{2} \\gamma_{1} \\tau_{yz} + \\gamma_{1} \\gamma_{2} \\sigma_{z}$"
   ]
  },
  {
   "cell_type": "markdown",
   "metadata": {
    "id": "4m9kyexVBjVN"
   },
   "source": [
    "Las seis ecuaciones anteriores las podemos expresar de forma matricial como $\\underline{\\boldsymbol{\\sigma'}} = \\underline{\\underline{\\boldsymbol{T}_{\\boldsymbol{\\sigma}}}} \\underline{\\boldsymbol{\\sigma}}$. Por lo tanto, usamos la función ```sp.linear_eq_to_matrix()``` para tal fin."
   ]
  },
  {
   "cell_type": "markdown",
   "metadata": {},
   "source": [
    "Almacenamos en memoria como ```Tsigma```:"
   ]
  },
  {
   "cell_type": "code",
   "execution_count": 7,
   "metadata": {
    "id": "w_L98PIEBriY"
   },
   "outputs": [],
   "source": [
    "Tsigma = sp.linear_eq_to_matrix([sxp, syp, szp, typzp, txpzp, txpyp], \n",
    "                                [ sx,  sy,  sz,   tyz,   txz,   txy])[0] "
   ]
  },
  {
   "cell_type": "markdown",
   "metadata": {},
   "source": [
    "$\\displaystyle \\underline{\\underline{\\boldsymbol{T}_{\\boldsymbol{\\sigma}}}} = \\left[\\begin{matrix}\\alpha_{1}^{2} & \\beta_{1}^{2} & \\gamma_{1}^{2} & 2 \\beta_{1} \\gamma_{1} & 2 \\alpha_{1} \\gamma_{1} & 2 \\alpha_{1} \\beta_{1}\\\\\\alpha_{2}^{2} & \\beta_{2}^{2} & \\gamma_{2}^{2} & 2 \\beta_{2} \\gamma_{2} & 2 \\alpha_{2} \\gamma_{2} & 2 \\alpha_{2} \\beta_{2}\\\\\\alpha_{3}^{2} & \\beta_{3}^{2} & \\gamma_{3}^{2} & 2 \\beta_{3} \\gamma_{3} & 2 \\alpha_{3} \\gamma_{3} & 2 \\alpha_{3} \\beta_{3}\\\\\\alpha_{2} \\alpha_{3} & \\beta_{2} \\beta_{3} & \\gamma_{2} \\gamma_{3} & \\beta_{2} \\gamma_{3} + \\beta_{3} \\gamma_{2} & \\alpha_{2} \\gamma_{3} + \\alpha_{3} \\gamma_{2} & \\alpha_{2} \\beta_{3} + \\alpha_{3} \\beta_{2}\\\\\\alpha_{1} \\alpha_{3} & \\beta_{1} \\beta_{3} & \\gamma_{1} \\gamma_{3} & \\beta_{1} \\gamma_{3} + \\beta_{3} \\gamma_{1} & \\alpha_{1} \\gamma_{3} + \\alpha_{3} \\gamma_{1} & \\alpha_{1} \\beta_{3} + \\alpha_{3} \\beta_{1}\\\\\\alpha_{1} \\alpha_{2} & \\beta_{1} \\beta_{2} & \\gamma_{1} \\gamma_{2} & \\beta_{1} \\gamma_{2} + \\beta_{2} \\gamma_{1} & \\alpha_{1} \\gamma_{2} + \\alpha_{2} \\gamma_{1} & \\alpha_{1} \\beta_{2} + \\alpha_{2} \\beta_{1}\\end{matrix}\\right]$"
   ]
  },
  {
   "cell_type": "markdown",
   "metadata": {},
   "source": [
    "Es decir, la ecuación en forma matricial:\n",
    "\n",
    "$\\left[\\begin{matrix}\\sigma_{x'} \\\\ \\sigma_{y'} \\\\ \\sigma_{z'} \\\\ \\tau_{y'z'} \\\\ \\tau_{x'z'} \\\\ \\tau_{x'y'}\\end{matrix}\\right] = \\left[\\begin{matrix}\\alpha_{1}^{2} & \\beta_{1}^{2} & \\gamma_{1}^{2} & 2 \\beta_{1} \\gamma_{1} & 2 \\alpha_{1} \\gamma_{1} & 2 \\alpha_{1} \\beta_{1}\\\\\\alpha_{2}^{2} & \\beta_{2}^{2} & \\gamma_{2}^{2} & 2 \\beta_{2} \\gamma_{2} & 2 \\alpha_{2} \\gamma_{2} & 2 \\alpha_{2} \\beta_{2}\\\\\\alpha_{3}^{2} & \\beta_{3}^{2} & \\gamma_{3}^{2} & 2 \\beta_{3} \\gamma_{3} & 2 \\alpha_{3} \\gamma_{3} & 2 \\alpha_{3} \\beta_{3}\\\\\\alpha_{2} \\alpha_{3} & \\beta_{2} \\beta_{3} & \\gamma_{2} \\gamma_{3} & \\beta_{2} \\gamma_{3} + \\beta_{3} \\gamma_{2} & \\alpha_{2} \\gamma_{3} + \\alpha_{3} \\gamma_{2} & \\alpha_{2} \\beta_{3} + \\alpha_{3} \\beta_{2}\\\\\\alpha_{1} \\alpha_{3} & \\beta_{1} \\beta_{3} & \\gamma_{1} \\gamma_{3} & \\beta_{1} \\gamma_{3} + \\beta_{3} \\gamma_{1} & \\alpha_{1} \\gamma_{3} + \\alpha_{3} \\gamma_{1} & \\alpha_{1} \\beta_{3} + \\alpha_{3} \\beta_{1}\\\\\\alpha_{1} \\alpha_{2} & \\beta_{1} \\beta_{2} & \\gamma_{1} \\gamma_{2} & \\beta_{1} \\gamma_{2} + \\beta_{2} \\gamma_{1} & \\alpha_{1} \\gamma_{2} + \\alpha_{2} \\gamma_{1} & \\alpha_{1} \\beta_{2} + \\alpha_{2} \\beta_{1}\\end{matrix}\\right] \\left[\\begin{matrix}\\sigma_{x} \\\\ \\sigma_{y} \\\\ \\sigma_{z} \\\\ \\tau_{yz} \\\\ \\tau_{xz} \\\\ \\tau_{xy} \\end{matrix}\\right] $ "
   ]
  },
  {
   "cell_type": "markdown",
   "metadata": {},
   "source": [
    "---"
   ]
  },
  {
   "cell_type": "markdown",
   "metadata": {},
   "source": [
    "Con los resultados anteriores de las variables ```sxp``` ($\\sigma_{x'}$), ```syp```($\\sigma_{y}$), ```syp```($\\sigma_{z'}$), ```typzp```($\\tau_{y'z'}$), ```txpzp```($\\tau_{x'z'}$) y ```txpyp```($\\tau_{x'y'}$); verificamos las siguientes igualdades:"
   ]
  },
  {
   "cell_type": "markdown",
   "metadata": {},
   "source": [
    "$\\sigma_{x'} = \\underline{\\hat{e}}^{'T}_{1}\\underline{\\underline{\\sigma}}\\underline{\\hat{e}}^{'}_{1}$ (<font color='blue'>1</font>) \n",
    "\n",
    "$\\sigma_{y'} = \\underline{\\hat{e}}^{'T}_{2}\\underline{\\underline{\\sigma}}\\underline{\\hat{e}}^{'}_{2}$ (<font color='blue'>2</font>) \n",
    "\n",
    "$\\sigma_{z'} = \\underline{\\hat{e}}^{'T}_{3}\\underline{\\underline{\\sigma}}\\underline{\\hat{e}}^{'}_{3}$ (<font color='blue'>3</font>) \n",
    "\n",
    "$\\tau_{y'z'} = \\underline{\\hat{e}}^{'T}_{2}\\underline{\\underline{\\sigma}}\\underline{\\hat{e}}^{'}_{3}= \\underline{\\hat{e}}^{'T}_{3}\\underline{\\underline{\\sigma}}\\underline{\\hat{e}}^{'}_{2}$ (<font color='blue'>4</font>) \n",
    "\n",
    "$\\tau_{x'z'} = \\underline{\\hat{e}}^{'T}_{1}\\underline{\\underline{\\sigma}}\\underline{\\hat{e}}^{'}_{3}= \\underline{\\hat{e}}^{'T}_{3}\\underline{\\underline{\\sigma}}\\underline{\\hat{e}}^{'}_{1}$ (<font color='blue'>5</font>) \n",
    "\n",
    "$\\tau_{x'y'} = \\underline{\\hat{e}}^{'T}_{1}\\underline{\\underline{\\sigma}}\\underline{\\hat{e}}^{'}_{2}= \\underline{\\hat{e}}^{'T}_{2}\\underline{\\underline{\\sigma}}\\underline{\\hat{e}}^{'}_{1}$ (<font color='blue'>6</font>) "
   ]
  },
  {
   "cell_type": "markdown",
   "metadata": {},
   "source": [
    "Definimos los vectores ortonormales de la nueva base, extrayéndolos de la matriz $\\underline{\\underline{\\boldsymbol{T}}}$:"
   ]
  },
  {
   "cell_type": "code",
   "execution_count": 8,
   "metadata": {},
   "outputs": [],
   "source": [
    "e1p = T[:,0]\n",
    "e2p = T[:,1]\n",
    "e3p = T[:,2]"
   ]
  },
  {
   "cell_type": "markdown",
   "metadata": {},
   "source": [
    "Verificamos de la ec.(<font color='blue'>1</font>) que $\\underline{\\hat{e}}^{'T}_{1}\\underline{\\underline{\\sigma}}\\underline{\\hat{e}}^{'}_{1} - \\sigma_{x'} = 0$\n"
   ]
  },
  {
   "cell_type": "code",
   "execution_count": 9,
   "metadata": {
    "scrolled": false
   },
   "outputs": [
    {
     "data": {
      "text/latex": [
       "$\\displaystyle 0$"
      ],
      "text/plain": [
       "0"
      ]
     },
     "execution_count": 9,
     "metadata": {},
     "output_type": "execute_result"
    }
   ],
   "source": [
    "sp.factor((sp.transpose(e1p)*sigma*e1p)[0]) - sxp"
   ]
  },
  {
   "cell_type": "markdown",
   "metadata": {},
   "source": [
    "Verificamos de la ec.(<font color='blue'>4</font>) que  $\\underline{\\hat{e}}^{'T}_{2}\\underline{\\underline{\\sigma}}\\underline{\\hat{e}}^{'}_{3} - \\underline{\\hat{e}}^{'T}_{3}\\underline{\\underline{\\sigma}}\\underline{\\hat{e}}^{'}_{2} = 0$"
   ]
  },
  {
   "cell_type": "code",
   "execution_count": 10,
   "metadata": {},
   "outputs": [
    {
     "data": {
      "text/latex": [
       "$\\displaystyle 0$"
      ],
      "text/plain": [
       "0"
      ]
     },
     "execution_count": 10,
     "metadata": {},
     "output_type": "execute_result"
    }
   ],
   "source": [
    "sp.factor((e2p.T*sigma*e3p)[0]) - sp.factor((e3p.T*sigma*e2p)[0])"
   ]
  },
  {
   "cell_type": "markdown",
   "metadata": {},
   "source": [
    "Verificamos de la ec.(<font color='blue'>4</font>) que  $\\underline{\\hat{e}}^{'T}_{2}\\underline{\\underline{\\sigma}}\\underline{\\hat{e}}^{'}_{3} - \\tau_{y'z'}  = 0$"
   ]
  },
  {
   "cell_type": "code",
   "execution_count": 11,
   "metadata": {},
   "outputs": [
    {
     "data": {
      "text/latex": [
       "$\\displaystyle 0$"
      ],
      "text/plain": [
       "0"
      ]
     },
     "execution_count": 11,
     "metadata": {},
     "output_type": "execute_result"
    }
   ],
   "source": [
    "sp.factor((e2p.T*sigma*e3p)[0]) - typzp"
   ]
  }
 ],
 "metadata": {
  "colab": {
   "collapsed_sections": [],
   "include_colab_link": true,
   "provenance": []
  },
  "kernelspec": {
   "display_name": "Python 3",
   "language": "python",
   "name": "python3"
  },
  "language_info": {
   "codemirror_mode": {
    "name": "ipython",
    "version": 3
   },
   "file_extension": ".py",
   "mimetype": "text/x-python",
   "name": "python",
   "nbconvert_exporter": "python",
   "pygments_lexer": "ipython3",
   "version": "3.8.8"
  }
 },
 "nbformat": 4,
 "nbformat_minor": 1
}
