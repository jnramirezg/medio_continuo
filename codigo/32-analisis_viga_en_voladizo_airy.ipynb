{
 "cells": [
  {
   "cell_type": "markdown",
   "id": "2ccd03f8",
   "metadata": {},
   "source": [
    "<a href=\"https://colab.research.google.com/github/jnramirezg/medio_continuo/blob/main/codigo/32-analisis_viga_en_voladizo_airy.ipynb\" target=\"_parent\"><img src=\"https://colab.research.google.com/assets/colab-badge.svg\" alt=\"Open In Colab\"/></a>"
   ]
  },
  {
   "cell_type": "markdown",
   "id": "38304fe9",
   "metadata": {},
   "source": [
    "# Análisis viga en voladizo con Airy (sección 5.14)"
   ]
  },
  {
   "cell_type": "markdown",
   "id": "19f37134",
   "metadata": {},
   "source": [
    "|Quién | Fecha | Qué hizo |\n",
    "| ---  | ---   | ---      |\n",
    "|Juan Nicolás Ramírez, <jnramirezg@unal.edu.co> | 2022-03-25 | Conversión de código de MAXIMA a Python|\n",
    "\n",
    "[Código original](https://github.com/diegoandresalvarez/solidos/blob/master/archivos/codigo/cap_05/5.14_ejer_10_viga_voladizo_Airy.mac)"
   ]
  },
  {
   "cell_type": "markdown",
   "id": "8338d7f1",
   "metadata": {},
   "source": [
    "Importamos las librerias y funciones necesarias:"
   ]
  },
  {
   "cell_type": "code",
   "execution_count": 1,
   "id": "aa9cb753",
   "metadata": {},
   "outputs": [],
   "source": [
    "from sympy import symbols, diff, integrate, solve, factor, expand, collect, Rational, Add\n",
    "import sympy as sp\n",
    "\n",
    "# Para imprimir bonito\n",
    "sp.init_printing()\n",
    "from IPython.display import Math                 \n",
    "def imprimir (texto, variable):\n",
    "    return Math(texto +  rf'{sp.latex(variable)}')"
   ]
  },
  {
   "cell_type": "markdown",
   "id": "8c0e18ea",
   "metadata": {},
   "source": [
    "Creamos las variables simbólicas:"
   ]
  },
  {
   "cell_type": "code",
   "execution_count": 2,
   "id": "2f310160",
   "metadata": {},
   "outputs": [],
   "source": [
    "x, y, z = symbols(\"x,y,z\")               # Coordenadas.\n",
    "C1, C2, C3, C4 = symbols(\"C1,C2,C3,C4\")  # Constantes de la función de tensión de Airy.\n",
    "K2 = symbols(\"K_2\")                      # Conste de TP o DP de la ecuación biarmónica.\n",
    "c, L, q = symbols(\"c,L,q\")               # Propiedades de la viga.\n",
    "E, nu = symbols(\"E, nu\")                 # Propiedades del material.\n",
    "u0, v0, w0 = symbols(\"u0, v0, omega_0\")  # Constante de integración."
   ]
  },
  {
   "cell_type": "code",
   "execution_count": 3,
   "id": "0477000f",
   "metadata": {},
   "outputs": [],
   "source": [
    "t = 1  # [m]: espesor.\n",
    "V = 0  # V=0, ya que no se considerarán las fuerzas másicas."
   ]
  },
  {
   "cell_type": "markdown",
   "id": "78aaa19c",
   "metadata": {},
   "source": [
    "Proponemos la función de tensión de Airy:"
   ]
  },
  {
   "cell_type": "code",
   "execution_count": 4,
   "id": "b9be0873",
   "metadata": {},
   "outputs": [
    {
     "data": {
      "text/latex": [
       "$\\displaystyle \\phi(x,y) = C_{1} \\left(L - x\\right)^{2} + C_{2} y \\left(L - x\\right)^{2} + C_{3} y^{3} + C_{4} y^{5} - 5 C_{4} y^{3} \\left(L - x\\right)^{2}$"
      ],
      "text/plain": [
       "<IPython.core.display.Math object>"
      ]
     },
     "execution_count": 4,
     "metadata": {},
     "output_type": "execute_result"
    }
   ],
   "source": [
    "phi = C1*(L-x)**2 + C2*(L-x)**2*y + C3*y**3 + C4*y**5 - 5*C4*(L-x)**2*y**3\n",
    "imprimir(r\"\\phi(x,y) = \", phi)"
   ]
  },
  {
   "cell_type": "markdown",
   "id": "dc5345f9",
   "metadata": {},
   "source": [
    "Definimos el laplaciano y el biarmónico de una función $f$:"
   ]
  },
  {
   "cell_type": "code",
   "execution_count": 5,
   "id": "892baabd",
   "metadata": {},
   "outputs": [],
   "source": [
    "lapl = lambda f: diff(f,x,2) + diff(f,y,2)\n",
    "biar = lambda f: lapl(lapl(f))"
   ]
  },
  {
   "cell_type": "markdown",
   "id": "64c06e56",
   "metadata": {},
   "source": [
    "Verificamos que se satisfaga la ecuación $\\nabla^4\\phi=K_2\\nabla^2V$"
   ]
  },
  {
   "cell_type": "code",
   "execution_count": 6,
   "id": "f4ba1664",
   "metadata": {},
   "outputs": [
    {
     "name": "stdout",
     "output_type": "stream",
     "text": [
      "La ecuación biarmónica se satisface.\n"
     ]
    }
   ],
   "source": [
    "if biar(phi) - K2*lapl(V) == 0:\n",
    "    print(\"La ecuación biarmónica se satisface.\")\n",
    "else:\n",
    "    print(\"La ecuación NO biarmónica se satisface.\")"
   ]
  },
  {
   "cell_type": "markdown",
   "id": "f1d1ea2b",
   "metadata": {},
   "source": [
    "Definimos los esfuerzos utilizando la función de tensión de Airy:\n",
    "$$\\sigma_x(x,y)=\\frac{\\partial^2 \\phi(x,y)}{\\partial y^2} + V(x,y)$$\n",
    "$$\\sigma_x(x,y)=\\frac{\\partial^2 \\phi(x,y)}{\\partial x^2} + V(x,y)$$\n",
    "$$\\tau_{xy}(x,y)=-\\frac{\\partial^2 \\phi(x,y)}{\\partial x \\partial y}$$"
   ]
  },
  {
   "cell_type": "code",
   "execution_count": 7,
   "id": "3c11bc7e",
   "metadata": {},
   "outputs": [],
   "source": [
    "sx  =  diff(phi, y,2) + V\n",
    "sy  =  diff(phi, x,2) + V\n",
    "txy = -diff(phi, x,1, y,1)"
   ]
  },
  {
   "cell_type": "markdown",
   "id": "0074f18c",
   "metadata": {},
   "source": [
    "Definimos la fuerza cortante, el momento flector y la fuerza axial:\n",
    "$$V(x) = -\\int_{-c}^{c}\\int_{0}^{t}{\\tau_{xy}(x,y,z)}dzdy$$\n",
    "$$M(x) = -\\int_{-c}^{c}\\int_{0}^{t}{y\\sigma_x(x,y,z)}dzdy$$\n",
    "$$f_{axial}(x) = -\\int_{-c}^{c}\\int_{0}^{t}{\\sigma_x(x,y,z)}dzdy=0$$"
   ]
  },
  {
   "cell_type": "code",
   "execution_count": 8,
   "id": "71d1e1bc",
   "metadata": {},
   "outputs": [],
   "source": [
    "V   = lambda xx: -integrate(txy.subs(x,xx),   (z,0,t), (y,-c,c))\n",
    "M   = lambda xx: -integrate( sx.subs(x,xx)*y, (z,0,t), (y,-c,c))\n",
    "fax =             integrate( sx,              (z,0,t), (y,-c,c))"
   ]
  },
  {
   "cell_type": "markdown",
   "id": "14507dfc",
   "metadata": {},
   "source": [
    "Establecemos las condiciones de frontera:"
   ]
  },
  {
   "cell_type": "code",
   "execution_count": 9,
   "id": "3bfc2063",
   "metadata": {},
   "outputs": [],
   "source": [
    "e1 = txy.subs(y, +c) - 0    # =0\n",
    "e2 = txy.subs(y, -c) - 0    # =0\n",
    "e3 =  sy.subs(y, +c) - q/t  # =0\n",
    "e4 =  sy.subs(y, -c) - 0    # =0\n",
    "\n",
    "e5 = V( 0) - (-q*L)      # =0\n",
    "e6 = V(+L) - 0           # =0\n",
    "e7 = M( 0) - (q*L**2/2)  # =0\n",
    "e8 = M(+L) - 0           # =0\n",
    "e9 = fax   - 0           # =0 para todo x en [−L, L]"
   ]
  },
  {
   "cell_type": "markdown",
   "id": "ecb90e53",
   "metadata": {},
   "source": [
    "Utilizando las ecuaciones ```e1``` a ```e9``` encontramos las constantes ```C1```, ```C2```, ```C3``` y ```C4```:"
   ]
  },
  {
   "cell_type": "code",
   "execution_count": 10,
   "id": "ba7f058f",
   "metadata": {},
   "outputs": [],
   "source": [
    "const = solve([e1,e2,e3,e4,e5,e6,e7,e8,e9], [C1,C2,C3,C4])"
   ]
  },
  {
   "cell_type": "markdown",
   "id": "fbacfe1d",
   "metadata": {},
   "source": [
    "Reemplazamos ```C1```, ```C2```, ```C3``` y ```C4``` en los esfuerzos ```sx```, ```sy``` y ```txy```:"
   ]
  },
  {
   "cell_type": "code",
   "execution_count": 11,
   "id": "439c7f89",
   "metadata": {},
   "outputs": [
    {
     "data": {
      "text/latex": [
       "$\\displaystyle \\sigma_x=\\frac{q y \\left(- 15 L^{2} + 30 L x - 6 c^{2} - 15 x^{2} + 10 y^{2}\\right)}{20 c^{3}}$"
      ],
      "text/plain": [
       "<IPython.core.display.Math object>"
      ]
     },
     "execution_count": 11,
     "metadata": {},
     "output_type": "execute_result"
    }
   ],
   "source": [
    "sx  = sx.subs(const)\n",
    "sy  = sy.subs(const)\n",
    "txy = txy.subs(const)\n",
    "imprimir(r\"\\sigma_x=\", factor(sx,q))"
   ]
  },
  {
   "cell_type": "markdown",
   "id": "3b2abb40",
   "metadata": {},
   "source": [
    "Definimos el módulo de cortante:"
   ]
  },
  {
   "cell_type": "code",
   "execution_count": 12,
   "id": "7d36741c",
   "metadata": {},
   "outputs": [],
   "source": [
    "G = E/(2*(1+nu))"
   ]
  },
  {
   "cell_type": "markdown",
   "id": "c69ab17b",
   "metadata": {},
   "source": [
    "Usamos las ecuaciones de ley de Hooke de tensión plana para isótropos para calcular las deformaciones:"
   ]
  },
  {
   "cell_type": "code",
   "execution_count": 13,
   "id": "bb2e64f9",
   "metadata": {},
   "outputs": [],
   "source": [
    "ex  = (1/E)*(sx - nu*sy)\n",
    "ey  = (1/E)*(sy - nu*sx)\n",
    "gxy = (1/G)*txy"
   ]
  },
  {
   "cell_type": "markdown",
   "id": "a9a264a0",
   "metadata": {},
   "source": [
    "De las ecuaciones:\n",
    "\n",
    "$$u(x,y)=\\int\\varepsilon_x(x',y)dx'+f(y)$$\n",
    "$$v(x,y)=\\int\\varepsilon_y(x,y')dy'+g(x)$$\n",
    "$$\\frac{\\partial f(y)}{\\partial y} + \\frac{\\partial g(x)}{\\partial x}=\\gamma_{xy}(x,y)-\\frac{\\partial}{\\partial y}\\left( \\int\\varepsilon_x(x',y)dx'\\right) -\\frac{\\partial}{\\partial x}\\left(\\int\\varepsilon_y(x,y')dy' \\right)$$\n",
    "\n",
    "Usamos la tercera ecuación:"
   ]
  },
  {
   "cell_type": "code",
   "execution_count": 14,
   "id": "1b8450a1",
   "metadata": {},
   "outputs": [],
   "source": [
    "df_dy_dg_dx = gxy - diff(integrate(ex,x),y) - diff(integrate(ey,y),x)"
   ]
  },
  {
   "cell_type": "markdown",
   "id": "5e454961",
   "metadata": {},
   "source": [
    "Descomponemos la ecuación diferencial en:\n",
    "$$\\frac{\\partial f(y)}{\\partial y} + \\omega_0=0$$\n",
    "$$\\frac{\\partial g(x)}{\\partial x} - \\omega_0=0$$"
   ]
  },
  {
   "cell_type": "code",
   "execution_count": 15,
   "id": "a5cf7638",
   "metadata": {},
   "outputs": [],
   "source": [
    "df_dy = df_dy_dg_dx.subs(x,0) + w0\n",
    "dg_dx = df_dy_dg_dx.subs(y,0) - w0"
   ]
  },
  {
   "cell_type": "markdown",
   "id": "6e9ddf94",
   "metadata": {},
   "source": [
    "De esta forma:"
   ]
  },
  {
   "cell_type": "markdown",
   "id": "d0ee8365",
   "metadata": {},
   "source": [
    "$$\\displaystyle \\frac{\\partial f(y)}{\\partial y}+\\frac{\\partial g(x)}{\\partial x}= \\underbrace{\\omega_0}_{\\frac{\\partial f(y)}{\\partial y}} + \\underbrace{\\frac{q x \\left(- 15 L^{2} - 15 c^{2} \\nu - 24 c^{2} + 5 x^{2}\\right)}{20 E c^{3}} - \\omega_0}_{\\frac{\\partial g(x)}{\\partial x}}$$\n"
   ]
  },
  {
   "cell_type": "markdown",
   "id": "4386a8b8",
   "metadata": {},
   "source": [
    "Ahora, calculamos ```f``` y ```g``` (sin considerar aún sus constantes de integración):"
   ]
  },
  {
   "cell_type": "code",
   "execution_count": 16,
   "id": "b6be8259",
   "metadata": {},
   "outputs": [],
   "source": [
    "f = integrate(df_dy, y)\n",
    "g = integrate(dg_dx, x)"
   ]
  },
  {
   "cell_type": "markdown",
   "id": "1ec21cc7",
   "metadata": {},
   "source": [
    "Finalmente, calculamos los desplamientos ```u``` y ```v``` (con las constantes de integración u0 y v0, que consideran el aporte de ```f``` y ```g```):"
   ]
  },
  {
   "cell_type": "code",
   "execution_count": 17,
   "id": "64d24eed",
   "metadata": {},
   "outputs": [],
   "source": [
    "u = integrate(ex, x) + f + u0\n",
    "v = integrate(ey, y) + g + v0"
   ]
  },
  {
   "cell_type": "markdown",
   "id": "7486dc4b",
   "metadata": {},
   "source": [
    "Sólo resta encontrar los valores de ```u0```, ```v0``` y ```w0``` a partir de las condiciones de frontera y el conocimiento  de que en el empotramiento (L=0) de la viga los desplazamientos y la rotación som nulos:"
   ]
  },
  {
   "cell_type": "code",
   "execution_count": 18,
   "id": "3720693e",
   "metadata": {},
   "outputs": [],
   "source": [
    "rot = (diff(v,x) - diff(u,y))/2  # Rotación en un punto."
   ]
  },
  {
   "cell_type": "code",
   "execution_count": 19,
   "id": "c4a1d682",
   "metadata": {},
   "outputs": [],
   "source": [
    "e1 =   u.subs([(x, 0)]) - 0  # =0\n",
    "e2 =   v.subs([(x, 0)]) - 0  # =0\n",
    "e3 = rot.subs([(x, 0)]) - 0  # =0"
   ]
  },
  {
   "cell_type": "code",
   "execution_count": 20,
   "id": "d72385cb",
   "metadata": {},
   "outputs": [],
   "source": [
    "u0v0w0 = solve([e1,e2,e3],[u0, v0, w0])"
   ]
  },
  {
   "cell_type": "markdown",
   "id": "c002ab08",
   "metadata": {},
   "source": [
    "Reemplazamos las constantes de integración:"
   ]
  },
  {
   "cell_type": "code",
   "execution_count": 21,
   "id": "65848f8b",
   "metadata": {},
   "outputs": [],
   "source": [
    "u = u.subs(u0v0w0)\n",
    "v = v.subs(u0v0w0)"
   ]
  },
  {
   "cell_type": "markdown",
   "id": "acb7265b",
   "metadata": {},
   "source": [
    "Obtenemos los desplazamientos de la viga:"
   ]
  },
  {
   "cell_type": "code",
   "execution_count": 22,
   "id": "0019ad2d",
   "metadata": {
    "scrolled": true
   },
   "outputs": [
    {
     "data": {
      "text/latex": [
       "$\\displaystyle u(x,y) = - \\frac{q x \\left(15 L^{2} y - 15 L x y + 10 c^{3} \\nu + 15 c^{2} \\nu y + 6 c^{2} y - 5 \\nu y^{3} + 5 x^{2} y - 10 y^{3}\\right)}{20 E c^{3}}$"
      ],
      "text/plain": [
       "<IPython.core.display.Math object>"
      ]
     },
     "execution_count": 22,
     "metadata": {},
     "output_type": "execute_result"
    }
   ],
   "source": [
    "imprimir(r\"u(x,y) = \", factor(u))"
   ]
  },
  {
   "cell_type": "code",
   "execution_count": 23,
   "id": "37e6e1a7",
   "metadata": {},
   "outputs": [
    {
     "data": {
      "text/latex": [
       "$\\displaystyle v(x,y) = \\frac{q x \\left(30 L^{2} x + 120 L c^{2} \\nu + 120 L c^{2} - 60 L \\nu y^{2} - 20 L x^{2} - 60 L y^{2} - 30 c^{2} \\nu x - 48 c^{2} x + 30 \\nu x y^{2} + 5 x^{3}\\right)}{80 E c^{3}}$"
      ],
      "text/plain": [
       "<IPython.core.display.Math object>"
      ]
     },
     "execution_count": 23,
     "metadata": {},
     "output_type": "execute_result"
    }
   ],
   "source": [
    "imprimir(r\"v(x,y) = \", factor(v))"
   ]
  },
  {
   "cell_type": "markdown",
   "id": "efe19e15",
   "metadata": {},
   "source": [
    "Por último, la deflexión vertical de la viga en el punto $x=L$, $y=L$ es:"
   ]
  },
  {
   "cell_type": "code",
   "execution_count": 24,
   "id": "cfe4f5a1",
   "metadata": {
    "scrolled": true
   },
   "outputs": [
    {
     "data": {
      "text/latex": [
       "$\\displaystyle v(0,0) = \\frac{3 L^{2} q \\left(5 L^{2} + 30 c^{2} \\nu + 24 c^{2}\\right)}{80 E c^{3}}$"
      ],
      "text/plain": [
       "<IPython.core.display.Math object>"
      ]
     },
     "execution_count": 24,
     "metadata": {},
     "output_type": "execute_result"
    }
   ],
   "source": [
    "v_L_0 = v.subs([(x,L), (y,0)])\n",
    "imprimir(r\"v(0,0) = \", factor(v_L_0))"
   ]
  },
  {
   "cell_type": "markdown",
   "id": "1fe12ff8",
   "metadata": {},
   "source": [
    "Reemplazamos $\\frac{2tc^3}{3}$ por $I$:"
   ]
  },
  {
   "cell_type": "code",
   "execution_count": 25,
   "id": "eb7dc20b",
   "metadata": {},
   "outputs": [],
   "source": [
    "I  = symbols(\"I\")\n",
    "Ib = 2*t*c**3/3\n",
    "v_L_0 = v_L_0*Ib/I  # Es equivalente a multiplicar por uno."
   ]
  },
  {
   "cell_type": "markdown",
   "id": "b7932e92",
   "metadata": {},
   "source": [
    "Primera forma de factorizar la expresión:"
   ]
  },
  {
   "cell_type": "code",
   "execution_count": 26,
   "id": "e720eaa6",
   "metadata": {},
   "outputs": [
    {
     "data": {
      "text/latex": [
       "$\\displaystyle v(0,0) =\\frac{L^{4} q \\left(1 + \\frac{6 c^{2} \\nu}{L^{2}} + \\frac{24 c^{2}}{5 L^{2}}\\right)}{8 E I}$"
      ],
      "text/plain": [
       "<IPython.core.display.Math object>"
      ]
     },
     "execution_count": 26,
     "metadata": {},
     "output_type": "execute_result"
    }
   ],
   "source": [
    "ec1 = Add(expand(v_L_0/(Rational(1,8)*q*L**4/(E*I))) * (Rational(1,8)*q*L**4/(E*I)),\n",
    "          evaluate=False)\n",
    "imprimir(r\"v(0,0) =\", ec1)"
   ]
  },
  {
   "cell_type": "markdown",
   "id": "33479106",
   "metadata": {},
   "source": [
    "Segunda forma de factorizar la expresión:"
   ]
  },
  {
   "cell_type": "code",
   "execution_count": 27,
   "id": "5a78c78b",
   "metadata": {
    "scrolled": false
   },
   "outputs": [
    {
     "data": {
      "text/latex": [
       "$\\displaystyle v(0,0) =\\frac{L^{4} q \\left(\\frac{(2c)^{2} \\left(\\frac{3 \\nu}{2} + \\frac{6}{5}\\right)}{L^{2}} + 1\\right)}{8 E I}$"
      ],
      "text/plain": [
       "<IPython.core.display.Math object>"
      ]
     },
     "execution_count": 27,
     "metadata": {},
     "output_type": "execute_result"
    }
   ],
   "source": [
    "_2c = symbols(\"(2c)\")\n",
    "ec2 = collect(ec1.subs(c, _2c/2), _2c**2/L**2)\n",
    "imprimir(r\"v(0,0) =\", ec2)"
   ]
  },
  {
   "cell_type": "markdown",
   "id": "c189e5ba",
   "metadata": {},
   "source": [
    "En este caso, el parámetro $h/L$ viene representado de forma equivalente por $2c/L$. Por lo tanto, el % de variación respecto a la teoría de Euler-Bernoulli (revisar [este programa](https://github.com/jnramirezg/medio_continuo/blob/main/codigo/29-modelo_viga_voladizo.ipynb)) viene dado por:\n",
    "$$\\left(\\frac{3\\nu}{2}+\\frac{6}{5}\\right)\\left(\\frac{2c}{L}\\right)^2 = \\left(\\frac{3\\nu}{2}+\\frac{6}{5}\\right)\\left(\\frac{h}{L}\\right)^2$$"
   ]
  },
  {
   "cell_type": "markdown",
   "id": "fb6912a8",
   "metadata": {},
   "source": [
    "Suponiendo $\\nu=0.3$, por ejemplo, para $2c/L=h/L=[0.05, 0.1, 0.25]$:"
   ]
  },
  {
   "cell_type": "code",
   "execution_count": 28,
   "id": "1097b0bb",
   "metadata": {},
   "outputs": [],
   "source": [
    "nu=0.3"
   ]
  },
  {
   "cell_type": "code",
   "execution_count": 29,
   "id": "c19e0726",
   "metadata": {},
   "outputs": [
    {
     "data": {
      "image/png": "[encoded data removed]",
      "text/latex": [
       "$\\displaystyle 0.004125$"
      ],
      "text/plain": [
       "0.004125"
      ]
     },
     "execution_count": 29,
     "metadata": {},
     "output_type": "execute_result"
    }
   ],
   "source": [
    "h_L=0.05\n",
    "(3*nu/2+6/5)*(h_L)**2"
   ]
  },
  {
   "cell_type": "code",
   "execution_count": 30,
   "id": "1a69bb72",
   "metadata": {},
   "outputs": [
    {
     "data": {
      "image/png": "[encoded data removed]",
      "text/latex": [
       "$\\displaystyle 0.0165$"
      ],
      "text/plain": [
       "0.0165"
      ]
     },
     "execution_count": 30,
     "metadata": {},
     "output_type": "execute_result"
    }
   ],
   "source": [
    "h_L=0.1\n",
    "(3*nu/2+6/5)*(h_L)**2"
   ]
  },
  {
   "cell_type": "code",
   "execution_count": 31,
   "id": "22149ffc",
   "metadata": {
    "scrolled": true
   },
   "outputs": [
    {
     "data": {
      "image/png": "[encoded data removed]",
      "text/latex": [
       "$\\displaystyle 0.103125$"
      ],
      "text/plain": [
       "0.103125"
      ]
     },
     "execution_count": 31,
     "metadata": {},
     "output_type": "execute_result"
    }
   ],
   "source": [
    "h_L=0.25\n",
    "(3*nu/2+6/5)*(h_L)**2"
   ]
  }
 ],
 "metadata": {
  "kernelspec": {
   "display_name": "Python 3",
   "language": "python",
   "name": "python3"
  },
  "language_info": {
   "codemirror_mode": {
    "name": "ipython",
    "version": 3
   },
   "file_extension": ".py",
   "mimetype": "text/x-python",
   "name": "python",
   "nbconvert_exporter": "python",
   "pygments_lexer": "ipython3",
   "version": "3.8.8"
  }
 },
 "nbformat": 4,
 "nbformat_minor": 5
}
